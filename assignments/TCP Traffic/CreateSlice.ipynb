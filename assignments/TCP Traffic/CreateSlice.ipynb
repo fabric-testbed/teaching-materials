{
 "cells": [
  {
   "cell_type": "markdown",
   "metadata": {
    "tags": []
   },
   "source": [
    "# Create Slice for Fabric Rack\n",
    "<br>This is the slice creation for the ```TCP Traffic``` tutorial. This is the first step of the assignment, to create the slice on fabric using fablib."
   ]
  },
  {
   "cell_type": "markdown",
   "metadata": {
    "tags": []
   },
   "source": [
    "## 1. Set up the Experiment\n",
    "\n",
    "In this section you will use the Fablib manager to create a new slice that is composed of 2 nodes for the TCP Traffic Assignment.\n",
    "### 1.1 Reserve Resources\n",
    "In the 'EDUKY' site, we will reserve a set of 2 nodes arranged in a line, with one node designated as a server and the other as a client. Each node will have the following specifications: 1 CPU core, 2GB of RAM, and 10GB of storage capacity. Each node will have 1 network card (NICs) to communicate with each other. We will call the server \"Node_A\" and the card \"ND_A\" and the client we will be \"Node B\" and its port \"ND_B\". The bridge connecting the two nodes is an l2network called \"Lan\". All nodes will be preloaded with an 'Ubuntu' Linux OS. Upon submission, the slice will be named 'TCP_Traffic_intro'."
   ]
  },
  {
   "cell_type": "code",
   "execution_count": null,
   "metadata": {
    "tags": []
   },
   "outputs": [],
   "source": [
    "# Import Fablib\n",
    "from fabrictestbed_extensions.fablib.fablib import FablibManager as fablib_manager\n",
    "fablib = fablib_manager()                     \n",
    "fablib.show_config()\n",
    "import json\n",
    "import traceback"
   ]
  },
  {
   "cell_type": "code",
   "execution_count": null,
   "metadata": {},
   "outputs": [],
   "source": [
    "# Define and Submit Slice\n",
    "slice_name = \"TCP_Traffic_intro\"\n",
    "site = \"EDUKY\"\n",
    "print(site)\n",
    "\n",
    "\n",
    "nicmodel = \"NIC_Basic\"\n",
    "image = \"default_ubuntu_20\"\n",
    "\n",
    "cores = 1\n",
    "ram = 2\n",
    "disk = 10\n",
    "\n",
    "try:\n",
    "    # Create a slice\n",
    "    slice = fablib.new_slice(name=slice_name)\n",
    "    #first Node\n",
    "    ND1 = slice.add_node(name=\"Node_A\", site=site)\n",
    "    ND1.set_capacities(cores=cores, ram=ram, disk=disk)\n",
    "    ND1.set_image(image)\n",
    "    Net_ND1 = ND1.add_component(model=nicmodel, name=\"ND_A\").get_interfaces()[0]\n",
    "    \n",
    "\n",
    "    #Second Node\n",
    "    ND2 = slice.add_node(name=\"Node_B\", site=site)\n",
    "    ND2.set_capacities(cores=cores, ram=ram, disk=disk)\n",
    "    ND2.set_image(image)\n",
    "    Net_ND2 = ND2.add_component(model=nicmodel, name=\"ND_B\").get_interfaces()[0] \n",
    "\n",
    "    #Lan\n",
    "    LN = slice.add_l2network(name=\"Lan\", interfaces=[Net_ND1, Net_ND2])\n",
    "    \n",
    "    # Submit the slice\n",
    "    slice.submit()\n",
    "except Exception as e:\n",
    "    print(f\"Exception: {e}\")"
   ]
  },
  {
   "cell_type": "markdown",
   "metadata": {
    "tags": []
   },
   "source": [
    "### 1.2 Set up the Experiment Network\n",
    "The network configuration part of this slice will connect the nodes with specific IPs such that the nodes are able to communicate with each other. The slice will use the network name to find the corresponding devices (NIC cards) used in the slice creation stage so that we can provide the correct connection in the network, in this case, \"Lan\".\n",
    "\n",
    "This slice contains a single subnetwork in IPv4: 10.0.0.0/24 (between Node_A and the Node_B, \"Lan\"). This slice will provide IP 10.0.0.1 to \"Node_A\" and 10.0.0.2 to \"Node_B\" following the guidelines set by the network subnet.\n",
    "\n",
    "After providing the IPs to the corresponding devices, the cell will output the network status and execute \"ip a\" to check the connections that are active."
   ]
  },
  {
   "cell_type": "code",
   "execution_count": null,
   "metadata": {
    "scrolled": true,
    "tags": []
   },
   "outputs": [],
   "source": [
    "# Setup Network\n",
    "from ipaddress import ip_address, IPv4Address, IPv6Address, IPv4Network, IPv6Network\n",
    "\n",
    "try:\n",
    "    subnet = IPv4Network(\"10.0.0.0/24\")\n",
    "    Network = 'Lan'\n",
    "    \n",
    "    A = slice.get_node('Node_A')\n",
    "    B = slice.get_node('Node_B')\n",
    "    \n",
    "    #A's lan\n",
    "    A_iface = A.get_interface(network_name=Network)  \n",
    "    A_iface.ip_addr_add(addr='10.0.0.1', subnet=subnet)\n",
    "    #B's Lan\n",
    "    B_iface = B.get_interface(network_name=Network)  \n",
    "    B_iface.ip_addr_add(addr='10.0.0.2', subnet=subnet)\n",
    "    \n",
    "    for node in slice.get_nodes():\n",
    "        for interface in node.get_interfaces():\n",
    "            stdout, stderr = node.execute(f'sudo ip link set dev { interface.get_device_name()} up')\n",
    "            if (node.get_name() == \"ND_A\"):\n",
    "                A_Device_Name = interface.get_device_name()\n",
    "        print(f\"Network status at node {node.get_name()}\")\n",
    "        node.execute(\"ip a\")\n",
    "        \n",
    "except Exception as e:\n",
    "    print(f\"Fail: {e}\")"
   ]
  },
  {
   "cell_type": "markdown",
   "metadata": {
    "tags": []
   },
   "source": [
    "### 1.3 Configure the software needed for the nodes in the experiment\n",
    "we only need to install a couple of tools for our slice, the first of these will be \"net-tools\" and the second \"iperf\", these tools will help us monitor traffic inside of the nodes. we also have to set a bandwidth limit to see the correct amount of bandwidth given that in Fabric the lan connections are too good for the experiment we are running, we add a 13 mbit average rate of transmission, 1000mb limit per token and a maximum of 10 kb of data that can be sent in a burst. Since our experiment measures round trip data, we only need to modify one node to get our desired result.\n",
    "\n",
    "Additionally for this slice, we need to install some software that is only available from a GitHub repository. After we download the script from the GitHub repository, we modify some lines to execute according to our environment. The last step is to install the libraries that the scripts we downloaded from github have, this is the r-studio library: \"r-base-core\",\"r-cran-ggplot2\" & \"r-cran-littler\" along with \"moreutils\". We also use system call to avoid saving necessary tcp data and chmod to turn one of the scripts we downloaded from github into an executable."
   ]
  },
  {
   "cell_type": "code",
   "execution_count": null,
   "metadata": {
    "scrolled": true,
    "tags": []
   },
   "outputs": [],
   "source": [
    "# Install Software\n",
    "try:\n",
    "    INTERFACE_NAME_HOLDER = \"INTERFACE_NAME\"\n",
    "\n",
    "    for node in slice.get_nodes():        \n",
    "        node.execute(\"sudo apt update\")\n",
    "        node.execute(\"sudo apt install net-tools\")\n",
    "        node.execute(\"sudo apt install iperf\")\n",
    "        \n",
    "        #upload scripts to make a graphic\n",
    "        node.execute(f\"sudo tc qdisc add dev {A_Device_Name} root tbf rate 13mbit limit 1000mb burst 10kb\")\n",
    "        node.upload_file(\"./scripts/ss-data-analysis.R\",\"ss-data-analysis.R\")\n",
    "        node.upload_file(\"./scripts/ss-output.sh\",\"ss-output.sh\")\n",
    "        node.execute(f\"sed -i 's/{INTERFACE_NAME_HOLDER}/{A_Device_Name}/' ss-output.sh\")\n",
    "        node.execute(\"sudo apt-get -y install moreutils r-base-core r-cran-ggplot2 r-cran-littler;sudo sysctl -w net.ipv4.tcp_no_metrics_save=1;chmod +x ss-output.sh \")\n",
    "\n",
    "except Exception as e:\n",
    "    print(f\"Fail: {e}\")"
   ]
  },
  {
   "cell_type": "markdown",
   "metadata": {
    "tags": []
   },
   "source": [
    "## Continue to The experiment notebook\n",
    "\n",
    "Once you have completed this notebook you should be able to continue to the TCP Traffic Notebook. You can either open it on the explorer or click [Here](./TCP_Traffic.ipynb) to open the next notebook."
   ]
  },
  {
   "cell_type": "code",
   "execution_count": null,
   "metadata": {},
   "outputs": [],
   "source": []
  }
 ],
 "metadata": {
  "kernelspec": {
   "display_name": "Python 3 (ipykernel)",
   "language": "python",
   "name": "python3"
  },
  "language_info": {
   "codemirror_mode": {
    "name": "ipython",
    "version": 3
   },
   "file_extension": ".py",
   "mimetype": "text/x-python",
   "name": "python",
   "nbconvert_exporter": "python",
   "pygments_lexer": "ipython3",
   "version": "3.10.6"
  }
 },
 "nbformat": 4,
 "nbformat_minor": 4
}
