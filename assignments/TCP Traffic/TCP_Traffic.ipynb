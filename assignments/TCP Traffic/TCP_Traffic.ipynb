{
 "cells": [
  {
   "cell_type": "markdown",
   "id": "2f0dfd3f-ff07-4be7-a4ae-484cd46a5e4b",
   "metadata": {
    "tags": []
   },
   "source": [
    "#  TCP Traffic\n",
    "<i>Adapted for use with FABRIC from [TCP Traffic](https://www.cs.unc.edu/Research/geni/geniEdu/03-TcpTraffic.html) and from [TCP vs. UDP](https://www.cs.unc.edu/Research/geni/geniEdu/07-TCPvsUDP.html) </i>\n",
    "        \n",
    "<b> Prerequisites  </b>\n",
    "    \n",
    "* You need to have your FABRIC bastion host key pair set up to do this tutorial. If you have not already set this up, follow steps 1-5 at https://github.com/fabric-testbed/teaching-materials/blob/main/Getting%20Started.md#section-1-get-started.\n",
    "* You are comfortable using ssh and executing basic commands using a UNIX shell. [Tips about how to login to hosts.](https://github.com/fabric-testbed/teaching-materials/blob/main/Getting%20Started.md)\n",
    "\n",
    "This experiment will provide you with the experience of generating and analyzing TCP flows using iperf. This experiment will also demonstrate the differences in UDP and TCP by exploring how the two protocols share the link when running simultaneously. You will use iperf to create the flow from a node to another and see how congestion control reacts once UDP traffic is has started\n",
    "\n",
    "This is the second step in this assignment, to go to the previous step go to slice creation notebook or click [Here](./CreateSlice.ipynb)\n",
    "\n",
    "In the first section the module gives students experience generating and analyzing TCP flows. Students will use iperf to create a flow and view the sawtooth behavior. A second flow will then be introduced to show how TCP flows share a link. (Iperf)\n",
    "\n",
    "In the second section the module demonstrates differences in UDP and TCP by exploring how the two protocols share the link when running simultaneously. Students will use iperf to create a TCP flow from one node to another and UDP to create a flow in the other direction to show how TCP's congestion control reacts to UDP traffic."
   ]
  },
  {
   "cell_type": "markdown",
   "id": "9cd63d33-dfc5-4945-9833-c95ee7bc5457",
   "metadata": {
    "tags": []
   },
   "source": [
    "## 1. Setup the Experiment\n",
    "### 1.1 Reserve Resources"
   ]
  },
  {
   "cell_type": "markdown",
   "id": "d982da77-bed0-4b00-b263-1288299c0b1e",
   "metadata": {},
   "source": [
    "#### Import the Fabric API"
   ]
  },
  {
   "cell_type": "code",
   "execution_count": null,
   "id": "606801d0-66c7-43be-9f95-2e0fcccf13c8",
   "metadata": {},
   "outputs": [],
   "source": [
    "from fabrictestbed_extensions.fablib.fablib import FablibManager as fablib_manager\n",
    "\n",
    "fablib = fablib_manager()\n",
    "                     \n",
    "fablib.show_config()\n",
    "\n",
    "import json\n",
    "import traceback"
   ]
  },
  {
   "cell_type": "markdown",
   "id": "343a577e-2c4a-419a-a84c-2fbac4d5f557",
   "metadata": {},
   "source": [
    "####  Retrieve Slice\n",
    "Create the slice at the [Create Slice Notebook](./CreateSlice.ipynb) and import it here.\n"
   ]
  },
  {
   "cell_type": "code",
   "execution_count": null,
   "id": "219340a4-ee26-4a32-8b75-4082201538fb",
   "metadata": {},
   "outputs": [],
   "source": [
    "slice_name = 'TCP_Traffic_intro'\n",
    "try:\n",
    "    slice = fablib.get_slice(slice_name)\n",
    "    print(f\"Slice: {slice.get_name()}, {slice.get_state()}\")\n",
    "    slice.list_nodes()\n",
    "except Exception as e:\n",
    "    print(f\"Get Slices Fail: {e}\")\n",
    "    "
   ]
  },
  {
   "cell_type": "code",
   "execution_count": null,
   "id": "e302a5a9-3e98-46e0-9d27-24de0e495b86",
   "metadata": {},
   "outputs": [],
   "source": [
    "for node in slice.get_nodes():\n",
    "    print(f\"nd {node.get_ssh_command()}\")"
   ]
  },
  {
   "cell_type": "markdown",
   "id": "03f5f7d8-ed81-4f4b-b9cb-207d1c9547e0",
   "metadata": {},
   "source": [
    "### 1.2 Setup the node network"
   ]
  },
  {
   "cell_type": "code",
   "execution_count": null,
   "id": "5a0d87ab-ddee-4d25-a3d2-eceb4c5ecba1",
   "metadata": {},
   "outputs": [],
   "source": [
    "from ipaddress import ip_address, IPv4Address, IPv6Address, IPv4Network, IPv6Network\n",
    "\n",
    "subnet = IPv4Network(\"10.0.0.0/24\")\n",
    "\n",
    "Network = 'Lan'"
   ]
  },
  {
   "cell_type": "code",
   "execution_count": null,
   "id": "dc4138a3-dfde-4dab-86fb-9b5f1685f163",
   "metadata": {},
   "outputs": [],
   "source": [
    "# configure nodes\n",
    "try:\n",
    "    A = slice.get_node('ND_A')\n",
    "    B = slice.get_node('ND_B')\n",
    "    \n",
    "    #A's lan\n",
    "    A_iface = A.get_interface(network_name=Network)  \n",
    "    A_iface.ip_addr_add(addr='10.0.0.1', subnet=subnet)\n",
    "    #B's Lan\n",
    "    B_iface = B.get_interface(network_name=Network)  \n",
    "    B_iface.ip_addr_add(addr='10.0.0.2', subnet=subnet)\n",
    "    \n",
    "    for node in slice.get_nodes():        \n",
    "        stdout, stderr = node.execute(f'sudo ip link set dev enp7s0 up')\n",
    "        \n",
    "except Exception as e:\n",
    "    print(f\"Fail: {e}\")"
   ]
  },
  {
   "cell_type": "markdown",
   "id": "6c12b527-bd28-4a4b-8cc0-83ae7577f276",
   "metadata": {},
   "source": [
    "### 1.3 Instalation of tools for the tutorial\n",
    "This includes \"net tools\" and \"openvswich\""
   ]
  },
  {
   "cell_type": "code",
   "execution_count": null,
   "id": "bddd8c5e-eab6-499f-aba3-119e53b2e5b0",
   "metadata": {
    "scrolled": true,
    "tags": []
   },
   "outputs": [],
   "source": [
    "# configure nodes\n",
    "try:\n",
    "    for node in slice.get_nodes():        \n",
    "        node.execute(\"sudo apt update\")\n",
    "        node.execute(\"sudo apt install net-tools\")\n",
    "        node.execute(\"sudo apt install iperf\")\n",
    "except Exception as e:\n",
    "    print(f\"Fail: {e}\")"
   ]
  },
  {
   "cell_type": "markdown",
   "id": "6c637690-3a7d-4980-a186-4b51e7d36f9d",
   "metadata": {},
   "source": [
    "### 1.4 Set up to use TCP to monitor transmitted packets command\n",
    "This section is needed so that you canreferance information of a graph in the second part of the experiment"
   ]
  },
  {
   "cell_type": "code",
   "execution_count": null,
   "id": "05dd0c01-1bdc-424c-a225-cfc98db17ac5",
   "metadata": {
    "scrolled": true,
    "tags": []
   },
   "outputs": [],
   "source": [
    "# configure nodes\n",
    "try:\n",
    "    #upload scripts to make a graphic\n",
    "    for nd in slice.get_nodes():\n",
    "        nd.upload_file(\"./scripts/ss-data-analysis.R\",\"ss-data-analysis.R\")\n",
    "        nd.upload_file(\"./scripts/ss-output.sh\",\"ss-output.sh\")\n",
    "        nd.execute(\"sudo apt-get -y install moreutils r-base-core r-cran-ggplot2 r-cran-littler;sudo sysctl -w net.ipv4.tcp_no_metrics_save=1;chmod +x ss-output.sh \")\n",
    "except Exception as e:\n",
    "    print(f\"Fail: {e}\")"
   ]
  },
  {
   "cell_type": "markdown",
   "id": "71a4eae8-c0b5-4960-a42c-e2178a5cd8af",
   "metadata": {},
   "source": [
    "## 2. Run Experiment\n",
    "<br><img src=\"./figures/TCPTrafficTop.png\"><br>\n",
    "### 2.1 Iperf in one direction\n",
    "iperf is a tool for measuring TCP and UDP bandwidth performance. In this section we will measure from client to server.\n",
    "1. In the Server SSH terminal, start the iperf with he following command: ```iperf -s``` \n",
    "2. In the Client SSH terminal run the iperf command by typing ```iperf -c <nodeA_ip> -i 10 -t 180```\n",
    "<br> The \"-s\" indicates that the node will run in server mode, likewise the \"-c\" is client mode, The \"-i 10\" tells iperf to print updates every 10 seconds, and \"-t 180\" to run for 180 before closing the connection\n",
    "<br> Running iperf can be done in ether direction you would just need to use the commands on the opposite terminals with the correct ip for the second command, You can all ways find the ip in linux using ether \"ifconfig\" or \"ip a\", the ip for your node in the network should be under \"enp7s0\"\n",
    "\n",
    "\n",
    "### 2.2 TCP vs UDP\n",
    "In this Exercise we will see the link that the TCP and UDP traffic share when they are running simultaneously, we will use iperf to generate the traffic between the nodes and see how the congestion control will affect the output.\n",
    "1. Start 2 terminals on node A and a two terminals on node B\n",
    "2. first we will start the servers on the first terminal of node A, run the following command to start the UDP server and the TCP servers ```iperf -s -i 15 & iperf -s -u -i 10``` the TCP server will print information every 15 seconds and the UDP server will print information every 10 seconds\n",
    "3. On the second A terminal prepare to run the script ```./ss-output.sh``` this will catch packets so that you are able to analyze the traffic changes in this experiment.\n",
    "4. Start the script on terminal A and then immediately run the following command ```iperf -c <nodeA> -t 90 ``` On the first node B terminal this start the tcp trafic and will run for 90 seconds (1.5 minutes)\n",
    "6. after 30 seconds run the following command ```iperf -c <NodeA> -t 30 -u -b 200m``` on the second B terminal this will start sending UDP traffic at the same time as TCP traffic, this will run for a minute\n",
    "<br><img src=\"./figures/TUT.png\"><br>\n",
    "7. once the traffic stops for both nodes stop the command on the second A terminal by hitting ```Ctrl-C``` This command should take about 3-5 more minutes depending on the hardware and site you used\n"
   ]
  },
  {
   "cell_type": "code",
   "execution_count": null,
   "id": "bded5315-bade-44cf-9b18-bc992a42f4f6",
   "metadata": {
    "scrolled": true,
    "tags": []
   },
   "outputs": [],
   "source": [
    "# configure nodes\n",
    "try:\n",
    "    A.execute(\"Rscript ss-data-analysis.R  \")\n",
    "    A.download_file(\"Traffic-ss.svg\",\"Traffic-ss.svg\")\n",
    "except Exception as e:\n",
    "    print(f\"Fail: {e}\")"
   ]
  },
  {
   "cell_type": "markdown",
   "id": "f3172556-5fc5-4ed6-bea1-06282d8766fb",
   "metadata": {},
   "source": [
    "See the output [here](./Traffic-ss.svg)"
   ]
  },
  {
   "cell_type": "markdown",
   "id": "8f92c756-8d65-4e99-a4cd-44a90dc9b36e",
   "metadata": {},
   "source": [
    "9. Now that you have seen the traffic re run the experiment steps 2 - 8 with step 6's command with an increased bandwidth ```iperf -c <client> -t 30 -u -b 500m```\n",
    "10. run the following cell to compare the traffic."
   ]
  },
  {
   "cell_type": "code",
   "execution_count": null,
   "id": "daa01603-666b-4cd2-ae69-92c25084f6c9",
   "metadata": {},
   "outputs": [],
   "source": [
    "try:\n",
    "    A.execute(\"ls\")\n",
    "    A.execute(\"Rscript ss-data-analysis.R  \")\n",
    "    A.download_file(\"Traffic2.svg\",\"Traffic-ss.svg\")\n",
    "except Exception as e:\n",
    "    print(f\"Fail: {e}\")"
   ]
  },
  {
   "cell_type": "markdown",
   "id": "45ec58ef-ecce-4055-a704-44afb02524cc",
   "metadata": {},
   "source": [
    "See the output [here](./Traffic2.svg)"
   ]
  },
  {
   "cell_type": "markdown",
   "id": "315f9e60-024b-430d-90c0-ae164e3aa2ac",
   "metadata": {
    "tags": []
   },
   "source": [
    "## Continue to The Assignment notebook\n",
    "\n",
    "Once You have completed this notebook you should be able to continue to the TCP Traffic Assignment Notebook, you can ether open it on the explorer or click [Here](./Assignment.ipynb) to open the next notebook."
   ]
  },
  {
   "cell_type": "code",
   "execution_count": null,
   "id": "6a7373b2-f54d-454b-b12f-7daf5d9d889f",
   "metadata": {},
   "outputs": [],
   "source": []
  }
 ],
 "metadata": {
  "kernelspec": {
   "display_name": "Python 3 (ipykernel)",
   "language": "python",
   "name": "python3"
  },
  "language_info": {
   "codemirror_mode": {
    "name": "ipython",
    "version": 3
   },
   "file_extension": ".py",
   "mimetype": "text/x-python",
   "name": "python",
   "nbconvert_exporter": "python",
   "pygments_lexer": "ipython3",
   "version": "3.10.6"
  }
 },
 "nbformat": 4,
 "nbformat_minor": 5
}
