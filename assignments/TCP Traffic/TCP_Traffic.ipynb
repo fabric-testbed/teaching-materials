{
 "cells": [
  {
   "cell_type": "markdown",
   "id": "2f0dfd3f-ff07-4be7-a4ae-484cd46a5e4b",
   "metadata": {
    "tags": []
   },
   "source": [
    "#  TCP Traffic\n",
    "<i>Adapted for use with FABRIC from [TCP Traffic](https://www.cs.unc.edu/Research/geni/geniEdu/03-TcpTraffic.html) and from [TCP vs. UDP](https://www.cs.unc.edu/Research/geni/geniEdu/07-TCPvsUDP.html) </i>\n",
    "        \n",
    "<b> Prerequisites  </b>\n",
    "    \n",
    "* You need to have your FABRIC bastion host key pair set up to do this tutorial. If you have not already set this up, follow steps 1-5 at https://github.com/fabric-testbed/teaching-materials/blob/main/Getting%20Started.md#section-1-get-started.\n",
    "* You are comfortable using ssh and executing basic commands using a UNIX shell. [Tips about how to login to hosts.](https://github.com/fabric-testbed/teaching-materials/blob/main/Getting%20Started.md)\n",
    "\n",
    "This experiment will provide you with the experience of generating and analyzing TCP flows using iperf. This experiment will also demonstrate the differences in UDP and TCP by exploring how the two protocols share the link when running simultaneously. You will use iperf to create the flow from a node to another and see how congestion control reacts once UDP traffic has started\n",
    "\n",
    "This is the second step in this assignment. To go to the previous step go to slice creation notebook or click [Here](./CreateSlice.ipynb)\n",
    "\n",
    "In the first section the module gives students experience generating and analyzing TCP flows. Students will use iperf to create a flow and view the sawtooth behavior. A second flow will then be introduced to show how TCP flows share a link. (Iperf)\n",
    "\n",
    "In the second section the module demonstrates differences in UDP and TCP by exploring how the two protocols share the link when running simultaneously. Students will use iperf to create a TCP flow from one node to another and UDP to create a flow in the other direction to show how TCP's congestion control reacts to UDP traffic."
   ]
  },
  {
   "cell_type": "markdown",
   "id": "9cd63d33-dfc5-4945-9833-c95ee7bc5457",
   "metadata": {
    "tags": []
   },
   "source": [
    "## 1. Setup the Experiment\n",
    "### 1.1 Reserve Resources"
   ]
  },
  {
   "cell_type": "markdown",
   "id": "d982da77-bed0-4b00-b263-1288299c0b1e",
   "metadata": {},
   "source": [
    "#### Import the Fabric API"
   ]
  },
  {
   "cell_type": "code",
   "execution_count": null,
   "id": "606801d0-66c7-43be-9f95-2e0fcccf13c8",
   "metadata": {},
   "outputs": [],
   "source": [
    "# Load Fablib and Node Information\n",
    "from fabrictestbed_extensions.fablib.fablib import FablibManager as fablib_manager\n",
    "fablib = fablib_manager()                    \n",
    "fablib.show_config()\n",
    "import json\n",
    "import traceback\n",
    "\n",
    "slice_name = 'TCP_Traffic_intro'\n",
    "try:\n",
    "    slice = fablib.get_slice(slice_name)\n",
    "    print(f\"Slice: {slice.get_name()}, {slice.get_state()}\")\n",
    "    slice.list_nodes()\n",
    "    \n",
    "    for node in slice.get_nodes():\n",
    "        print(f\"{node.get_name()}: {node.get_ssh_command()}\")\n",
    "except Exception as e:\n",
    "    print(f\"Get Slices Fail: {e}\")"
   ]
  },
  {
   "cell_type": "markdown",
   "id": "71a4eae8-c0b5-4960-a42c-e2178a5cd8af",
   "metadata": {},
   "source": [
    "## 2. Guided Experiment\n",
    "<br><img src=\"https://github.com/fabric-testbed/teaching-materials/blob/main/assignments/TCP%20Traffic/figures/TCPTrafficTop.png?raw=true\"><br>\n",
    "### 2.1 Iperf in one direction\n",
    "iperf is a tool for measuring TCP and UDP bandwidth performance. In this section we will measure from client to server.\n",
    "1. In the Server SSH terminal, start the iperf with the following command: ```iperf -s``` \n",
    "2. In the Client SSH terminal run the iperf command by typing ```iperf -c <nodeA_ip> -i 10 -t 180```\n",
    "<br> The \"-s\" indicates that the node will run in server mode. Likewise the \"-c\" is client mode. The \"-i 10\" tells iperf to print updates every 10 seconds, and \"-t 180\" to run for 180 before closing the connection.\n",
    "<br> Running iperf can be done in either direction. You would just need to use the commands on the opposite terminals with the correct ip for the second command. You can always find the ip in linux using either \"ifconfig\" or \"ip a\". The ip for your node in the network should be under \"ens#\"\n",
    "\n",
    "### 2.2 TCP vs UDP\n",
    "In this exercise we will see the link that the TCP and UDP traffic share when they are running simultaneously. We will use iperf to generate the traffic between the nodes and see how the congestion control will affect the output.\n",
    "1. Start 2 terminals on node A and a two terminals on node B\n",
    "2. First we will start the servers on the first terminal of node A. Run the following command to start the UDP server and the TCP servers: ```iperf -s -i 15 & iperf -s -u -i 10```. The TCP server will print information every 15 seconds, and the UDP server will print information every 10 seconds.\n",
    "3. On the second A terminal prepare to run the script: ```./ss-output.sh```. This will catch packets so that you are able to analyze the traffic changes in this experiment.\n",
    "4. Start the script on terminal A and then immediately run the following command: ```iperf -c <nodeA> -t 90 ```. On the first node B terminal, this start the tcp trafic and will run for 90 seconds (1.5 minutes).\n",
    "6. After 30 seconds run the following command: ```iperf -c <NodeA> -t 30 -u -b 200m```. On the second B terminal this will start sending UDP traffic at the same time as TCP traffic. This will run for a minute.\n",
    "<br><img src=\"https://github.com/fabric-testbed/teaching-materials/blob/main/assignments/TCP%20Traffic/figures/TUT.png?raw=true\"><br>\n",
    "7. Once the traffic stops for both nodes stop the command on the second A terminal by hitting ```Ctrl-C```. This command should take about 3-5 more minutes depending on the hardware and site you used.\n"
   ]
  },
  {
   "cell_type": "code",
   "execution_count": null,
   "id": "bded5315-bade-44cf-9b18-bc992a42f4f6",
   "metadata": {
    "scrolled": true,
    "tags": []
   },
   "outputs": [],
   "source": [
    "# Download chart from Node A\n",
    "try:\n",
    "    A = slice.get_node('ND_A')\n",
    "    A.execute(\"Rscript ss-data-analysis.R  \")\n",
    "    A.download_file(\"Traffic-ss.svg\",\"Traffic-ss.svg\")\n",
    "except Exception as e:\n",
    "    print(f\"Fail: {e}\")"
   ]
  },
  {
   "cell_type": "markdown",
   "id": "f3172556-5fc5-4ed6-bea1-06282d8766fb",
   "metadata": {},
   "source": [
    "See the output [here](./Traffic-ss.svg)"
   ]
  },
  {
   "cell_type": "markdown",
   "id": "8f92c756-8d65-4e99-a4cd-44a90dc9b36e",
   "metadata": {},
   "source": [
    "9. Now that you have seen the traffic rerun the experiment steps 2 - 8 with step 6's command modified to have increased bandwidth: ```iperf -c <client> -t 30 -u -b 500m```\n",
    "10. Run the following cell to compare the traffic."
   ]
  },
  {
   "cell_type": "code",
   "execution_count": null,
   "id": "daa01603-666b-4cd2-ae69-92c25084f6c9",
   "metadata": {},
   "outputs": [],
   "source": [
    "# Download second chart from Node A\n",
    "try:\n",
    "    A.execute(\"Rscript ss-data-analysis.R  \")\n",
    "    A.download_file(\"Traffic2.svg\",\"Traffic-ss.svg\")\n",
    "except Exception as e:\n",
    "    print(f\"Fail: {e}\")"
   ]
  },
  {
   "cell_type": "markdown",
   "id": "45ec58ef-ecce-4055-a704-44afb02524cc",
   "metadata": {},
   "source": [
    "See the output [here](./Traffic2.svg)"
   ]
  },
  {
   "cell_type": "markdown",
   "id": "c0a0b70d-fc7e-4611-a250-624985418c7a",
   "metadata": {},
   "source": [
    "## 3. Exploration\n",
    "\n",
    "Set up the servers once again and start TCP traffic from client to the server VM.\n",
    "1. Report the bandwidth output of the TCP diagnosis (on the client). It should look like\n",
    "<br> `[ ID] Interval   \tTransfer \tBandwidth`\n",
    "<br> `[  3]  0.0-60.0 sec   683 MBytes  95.5 Mbits/sec`\n",
    "\n",
    "2. Alter the UDP bandwidth with the -b option: what is the smallest UDP bandwidth at which you can see the TCP graph react?\n",
    "3. Starting TCP and UDP traffic at the same time with -t option: at what UDP -b option do TCP and UDP to fairly share the link? That is, at what point does the TCP bandwidth approximate the UDP bandwidth? (Use the TCP client's output and an estimation of the UDP's average bandwidth.)\n",
    "4. Report how the sum of the shared bandwidths in part 3 compares to the bandwidth of TCP in part 1 when it is not sharing the link.\n"
   ]
  },
  {
   "cell_type": "markdown",
   "id": "7baa49fc-d54c-4eb0-ad4d-9f1f780955dc",
   "metadata": {
    "tags": []
   },
   "source": [
    "## Cleanup Resources\n",
    "Once you have completed the assignment shut down the slice."
   ]
  },
  {
   "cell_type": "code",
   "execution_count": null,
   "id": "5abf8b0c-6f9b-4456-9c84-ff76591b9d6c",
   "metadata": {
    "tags": []
   },
   "outputs": [],
   "source": [
    "# Delete Slice\n",
    "try:\n",
    "    #To delete the slice change \"CHECK\" to \"True\", this is to prevent accidental slice deletion\n",
    "    CHECK = False\n",
    "    if (CHECK):\n",
    "        slice = fablib.get_slice(slice_name)\n",
    "        slice.delete()\n",
    "    else:\n",
    "        print(\"Change the Boolean to delete slice\")\n",
    "except Exception as e:\n",
    "    print(f\"Fail: {e}\")"
   ]
  }
 ],
 "metadata": {
  "kernelspec": {
   "display_name": "Python 3 (ipykernel)",
   "language": "python",
   "name": "python3"
  },
  "language_info": {
   "codemirror_mode": {
    "name": "ipython",
    "version": 3
   },
   "file_extension": ".py",
   "mimetype": "text/x-python",
   "name": "python",
   "nbconvert_exporter": "python",
   "pygments_lexer": "ipython3",
   "version": "3.10.6"
  }
 },
 "nbformat": 4,
 "nbformat_minor": 5
}
