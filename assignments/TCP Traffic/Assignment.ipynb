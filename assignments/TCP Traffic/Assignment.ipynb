{
 "cells": [
  {
   "cell_type": "markdown",
   "id": "2f0dfd3f-ff07-4be7-a4ae-484cd46a5e4b",
   "metadata": {
    "tags": []
   },
   "source": [
    "#  TCP Traffic Assignment\n",
    "\n",
    "<b> Prerequisites  </b>\n",
    "* You need to have completed the TCP Traffic Experiment, if you have not completed this step you can click [Here](./TCP_Traffic.ipynb)"
   ]
  },
  {
   "cell_type": "markdown",
   "id": "ed761155-24c2-4d9d-9ec8-9c361ed16cd8",
   "metadata": {},
   "source": [
    "\n",
    "### Exploration\n",
    "set up the servers once again, and start TCP traffic from client to the server VM\n",
    "1. Report the bandwidth output of the TCP diagnosis (on the client) it should look like\n",
    "<br> `[ ID] Interval   \tTransfer \tBandwidth`\n",
    "<br> `[  3]  0.0-60.0 sec   683 MBytes  95.5 Mbits/sec`\n",
    "\n",
    "2. Alter the UDP bandwidth with the -b option: what is the smallest UDP bandwidth at which you can see the TCP graph react?\n",
    "3. Starting TCP and UDP traffic at the same time -t option: at what UDP -b option do TCP and UDP to fairly share the link? That is, at what point does the TCP bandwidth approximate the UDP bandwidth? (Use the TCP client's output, and an estimation of the UDP's average bandwidth.)\n",
    "4. Report how the sum of the shared bandwidths in part 3 compares to the bandwidth of TCP in part 1 when it is not sharing the link.\n"
   ]
  },
  {
   "cell_type": "markdown",
   "id": "06c929ec-8a0f-4033-8d72-0d975e66d472",
   "metadata": {
    "tags": []
   },
   "source": [
    "## Cleanup Resources\n",
    "Once you have completed the assignment shut down the slice"
   ]
  },
  {
   "cell_type": "code",
   "execution_count": null,
   "id": "552fbb0b-8982-4d57-883e-89b643517ab8",
   "metadata": {
    "tags": []
   },
   "outputs": [],
   "source": [
    "from fabrictestbed_extensions.fablib.fablib import FablibManager as fablib_manager\n",
    "fablib = fablib_manager()\n",
    "import json\n",
    "import traceback\n",
    "\n",
    "slice_name = 'TCP_Traffic_intro'\n",
    "try:\n",
    "    slice = fablib.get_slice(slice_name)\n",
    "    slice.delete()\n",
    "except Exception as e:\n",
    "    print(f\"Fail: {e}\")"
   ]
  }
 ],
 "metadata": {
  "kernelspec": {
   "display_name": "Python 3 (ipykernel)",
   "language": "python",
   "name": "python3"
  },
  "language_info": {
   "codemirror_mode": {
    "name": "ipython",
    "version": 3
   },
   "file_extension": ".py",
   "mimetype": "text/x-python",
   "name": "python",
   "nbconvert_exporter": "python",
   "pygments_lexer": "ipython3",
   "version": "3.10.6"
  }
 },
 "nbformat": 4,
 "nbformat_minor": 5
}
