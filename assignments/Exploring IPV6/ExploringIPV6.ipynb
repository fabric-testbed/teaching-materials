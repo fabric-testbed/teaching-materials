{
 "cells": [
  {
   "cell_type": "markdown",
   "id": "d8c5364d-5a74-417e-a7bb-b9d5d0946475",
   "metadata": {},
   "source": [
    "# Exploring IPV6\n",
    "<i>Adapted for use with FABRIC from [Exploring  IPv6](https://www.cs.unc.edu/Research/geni/geniEdu/10-IPv6.html)</i>\n",
    "    \n",
    "In this tutorial you will experiment with IPV6.\n",
    "    \n",
    "<b> Prerequisites  \n",
    "    \n",
    "* You need to have your FABRIC bastion host key pair set up to do this tutorial. If you have not already set this up, follow steps 1-5 on the first section at https://github.com/fabric-testbed/teaching-materials/blob/main/Getting%20Started.md#section-1-get-started.\n",
    "* You are comfortable using ssh and executing basic commands using a UNIX shell. [Tips about how to login to hosts.](https://github.com/fabric-testbed/teaching-materials/blob/main/Getting%20Started.md#section-1-get-started)\n",
    "    \n",
    "This is the second step in this assignment, to go to the previous step go to slice creation notebook or click [Here](./CreateSlice.ipynb)\n",
    "    \n",
    " In the 1990s, it was realized that the 32 bits allotted for IPV4 addressing would quickly run out.The Internet Engineering Task Force (IETF) designed IPV6 to solve this problem. IPV6 uses 128 bits for addressing allowing for up to 2<sup>128</sup> unique addresses. Transitioning to IPV6 is slow, thus, IPV4 functionality is maintained. To deal with the coexistance you can either dual stack or tunnel. The dual stack method allows for devices to handle both protocols, while tunneling places the IPV6 packet in the data of IPV4 during transit on older protocols.\n",
    "    \n",
    "Addresses are written in 8 sets of 4 hexadecimal digits as so:\n",
    "    <br>`fe80:ab70:0000:0000:0000:0000:0f68:9786`\n",
    "    \n",
    "The addresses are abbreviated by not writing leading zeros and cutting out a 4 digit set of 0s and replacing with ::. thus, the above address becomes:\n",
    "    <br>`fe80:ab70::f68:9786`\n",
    "    \n",
    "    Generally the first 3 sets of bits are used for global routing, 1 set for internal routing and 4 sets for node addresses.\n",
    "    \n",
    "<img src=\"https://github.com/fabric-testbed/teaching-materials/blob/main/assignments/Exploring%20IPV6/figures/add.png?raw=true\">"
   ]
  },
  {
   "cell_type": "markdown",
   "id": "c69f75ea-97cb-457a-96f5-e769fde965f4",
   "metadata": {
    "tags": []
   },
   "source": [
    "## 1. Retrieve Slice\n",
    "Create the slice at the [Create Slice Notebook](./CreateSlice.ipynb) and import it here.\n",
    "#### Import the Fabric API"
   ]
  },
  {
   "cell_type": "code",
   "execution_count": null,
   "id": "e0a044d2-318b-45b2-8f16-f9b997c6a9ed",
   "metadata": {},
   "outputs": [],
   "source": [
    "# Load Fablib and Node Information\n",
    "from fabrictestbed_extensions.fablib.fablib import FablibManager as fablib_manager\n",
    "fablib = fablib_manager()                    \n",
    "fablib.show_config()\n",
    "import json\n",
    "import traceback\n",
    "\n",
    "slice_name = \"IPV6\"\n",
    "slice = fablib.get_slice(slice_name)\n",
    "slice.list_nodes()"
   ]
  },
  {
   "cell_type": "markdown",
   "id": "cc3ebbb8-e8d6-408a-ac95-6e0221ad14c8",
   "metadata": {
    "tags": []
   },
   "source": [
    "## 2. Guided Experiment\n",
    "\n",
    "<img src=\"https://github.com/fabric-testbed/teaching-materials/blob/main/assignments/Exploring%20IPV6/figures/IPV6Top.png?raw=true\">\n",
    "\n",
    "### 2.1 Basic Connection\n",
    "We will be connecting to a node using IPV6.\n",
    "1. Open a terminal to all three nodes.\n",
    "\n",
    "2. On `host1` run:\n",
    "    <br>`ifconfig`\n",
    "    <br> We can see the addresses of the interfaces, take not of the loopback address (lo). The IPV4 address should be `127.0.0.1`, and the IPV6 address should be `::1`.\n",
    "    \n",
    "3. On `host1` ping `host1`:\n",
    "    <br>Using IPV4: `ping 127.0.0.1 -c 5`\n",
    "    <br>Using IPV6: `ping6 ::1 -c 5`\n",
    "4. Ping the multicast address to discover all link local neighbors on `host1` with:\n",
    "<br>`ping6 -I <link-name> ff02::1 -c 105`\n",
    "<br>Where `<link-name>` is the name of the interface on a network (ex: enp7s0). This command will discover all link local neighbors, in this example the output will be from the router node.\n",
    "\n",
    "5. Ping the router node from `host1`:\n",
    "<br>`ping6 -I <link-name> <IP6-address> -c 5`\n",
    "<br>The link used must be specified as in IPV6, link local addressing does not involve routing.\n",
    "    \n",
    "6. If you try to ping `host2` from `host1` you will see it fails as you are using link local addressing and have not advertised any additional routes.\n",
    "### 2.2 Examine Headers\n",
    "We will examine the difference between IPV4 and IPV6 packets.\n",
    "1. On `host1` startup tcpdump using:\n",
    "<br>`sudo tcpdump -v -i <outgoing interface>`\n",
    "<br> Where the `<outgoing interface>` is the interface we will be grabbing traffic from (found with `ifconfig`).\n",
    "    \n",
    "2. On `router`  ping `host1` using IPV4:\n",
    "<br>`ping 10.1.1.1 -c 5`\n",
    "<br> Take note of the output on `node1`.\n",
    "    \n",
    "3. On `router`  ping `host1` using IPV6:\n",
    "<br>`ping6 -I <outgoing link name> fe80::1 -c 5`\n",
    "<br>Where `<outgoing link name>` is the link connected to `node1`.\n",
    "    \n",
    "4. Take a look at the differences in packets caught by tcmpdump:\n",
    "    * IPV6 has a \"flow\" field, intended to be used for time important transfers\n",
    "    * IPV6 headers have a standard 40 bytes, if options are needed they are pointed to in the next header field\n",
    "    \n",
    "    * Field names have been updated to better reflect their use\n",
    "    * IPV6 doesn't allow for fragmentation\n",
    "    \n",
    "### 2.3 Use a 'Global' Type Address\n",
    "We will be assigning global type interfaces to the nodes so that they can be pinged without specifying an interface.\n",
    "\n",
    "1. Choose an address for `host1` (suggested to use the range `2001:0db8::/32` which has been set aside for tutorials and documentation) and run:\n",
    "<br>`sudo ip -6 addr add <ip6-address>/64 dev <outgoing-link-name>`\n",
    "<br> Remember that global unicast addresses begin with 001 in the first three bits. Additionally, do not worry about overlap as this address is not facing the internet.\n",
    "\n",
    "2. Ping the address you just set from `host1` (pinging `host1`):\n",
    "<br>`ping6 <ip6-address> -c 5`\n",
    "\n",
    "3. The address isn't advertised yet, verify on `host1` with:\n",
    "<br>`ip -6 route`\n",
    "4. Setup route to be advertised, on `host1`:\n",
    "<br>`sudo ip route add <truncated-ip6-address>/64 dev <outgoing-link-name>`\n",
    "<br>An example of: `<truncated-ip6-address>` if you chose `2001:db8::1` as your address, then you would use `2001:db8::/64` as your truncated address\n",
    "5. Run through steps 1-4 on the `router` node using a different ip.\n",
    "6. Try pinging `host1` from the `router` using the new addresses."
   ]
  },
  {
   "cell_type": "markdown",
   "id": "6bef257d-4c88-4a83-bc86-4f82fcb4a068",
   "metadata": {},
   "source": [
    "## 3.  Assignment\n",
    "### Part 1\n",
    "Take a look at part 2.3 in the Tutorial. Set up the third node with a global address and set the routing information so you can ping freely between the nodes. If turning this in for a grade, specify what commands you used and why, and what the resulting routing tables looked like.\n",
    "### Part 2\n",
    "Return to section 2.2. Repeat the experiment and see what other differences you can find in the headers. See if you can match each piece of the header you find to the pieces in the diagrams of the two header types below. You will probably not see each field come up in the tcpdump output.\n",
    "\n",
    "<img src=\"https://github.com/fabric-testbed/teaching-materials/blob/main/assignments/Exploring%20IPV6/figures/10-IPv4Header.png?raw=true\">\n",
    "<br>\n",
    "<img src=\"https://github.com/fabric-testbed/teaching-materials/blob/main/assignments/Exploring%20IPV6/figures/10-IPv6Header.png?raw=true\">\n",
    "\n",
    "If you are turning this in for an assignment, then answer the following questions.\n",
    "\n",
    "1. What other major differences do you notice between the two headers?\n",
    "2. IPv6 does not include a checksum field. Why is this field not necessary? In what major cases does this save time?\n",
    "3. What are the advantages of a fixed length header over the variable length header?\n",
    "4. Why might IPv6 not support fragmentation?\n",
    "5. If an IPv6 packet is translated to an IPv4 packet (translation approach) instead of wrapped inside one (tunneling approach), what information would be lost?"
   ]
  },
  {
   "cell_type": "markdown",
   "id": "e354ce22-f3ce-4492-bcc1-55ccf07a932d",
   "metadata": {
    "tags": []
   },
   "source": [
    "## Cleanup Resources\n",
    "Once you have completed the assignment shut down the slice"
   ]
  },
  {
   "cell_type": "code",
   "execution_count": null,
   "id": "febfb5ec-1b2b-4ff4-8477-5099b47ee570",
   "metadata": {
    "tags": []
   },
   "outputs": [],
   "source": [
    "# Delete Slice\n",
    "try:\n",
    "    #To delete the slice change \"CHECK\" to \"True\", this is to prevent accidental slice deletion\n",
    "    CHECK = False\n",
    "    if (CHECK):\n",
    "        slice = fablib.get_slice(slice_name)\n",
    "        slice.delete()\n",
    "    else:\n",
    "        print(\"Change the Boolean to delete slice\")\n",
    "except Exception as e:\n",
    "    print(f\"Fail: {e}\")"
   ]
  }
 ],
 "metadata": {
  "kernelspec": {
   "display_name": "Python 3 (ipykernel)",
   "language": "python",
   "name": "python3"
  },
  "language_info": {
   "codemirror_mode": {
    "name": "ipython",
    "version": 3
   },
   "file_extension": ".py",
   "mimetype": "text/x-python",
   "name": "python",
   "nbconvert_exporter": "python",
   "pygments_lexer": "ipython3",
   "version": "3.10.6"
  }
 },
 "nbformat": 4,
 "nbformat_minor": 5
}
