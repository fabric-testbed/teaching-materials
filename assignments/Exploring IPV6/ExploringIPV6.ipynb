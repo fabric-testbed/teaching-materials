{
 "cells": [
  {
   "cell_type": "markdown",
   "id": "d8c5364d-5a74-417e-a7bb-b9d5d0946475",
   "metadata": {},
   "source": [
    "# Exploring IPV6\n",
    "<i>Adapted for use with FABRIC from [Exploring  IPv6](https://www.cs.unc.edu/Research/geni/geniEdu/10-IPv6.html)</i>\n",
    "    \n",
    "In this tutorial you will experiment with IPV6.\n",
    "    \n",
    "<b> Prerequisites  \n",
    "    \n",
    "* You need to have your FABRIC bastion host key pair set up to do this tutorial. If you have not already set this up, follow steps 1-5 on the first section at https://github.com/fabric-testbed/teaching-materials/blob/main/Getting%20Started.md#section-1-get-started.\n",
    "* You are comfortable using ssh and executing basic commands using a UNIX shell. [Tips about how to login to hosts.](https://github.com/fabric-testbed/teaching-materials/blob/main/Getting%20Started.md#section-1-get-started)\n",
    "    \n",
    "This is the second step in this assignment, to go to the previous step go to slice creation notebook or click [Here](./CreateSlice.ipynb)\n",
    "    \n",
    " In the 1990s, it was realized that the 32 bits allotted for IPV4 addressing would quickly run out.The Internet Engineering Task Force (IETF) designed IPV6 to solve this problem. IPV6 uses 128 bits for addressing allowing for up to 2<sup>128</sup> unique addresses. Transitioning to IPV6 is slow, thus, IPV4 functionality is maintained. To deal with the coexistance you can either dual stack or tunnel. The dual stack method allows for devices to handle both protocols, while tunneling places the IPV6 packet in the data of IPV4 during transit on older protocols.\n",
    "    \n",
    "Addresses are written in 8 sets of 4 hexadecimal digits as so:\n",
    "    <br>`fe80:ab70:0000:0000:0000:0000:0f68:9786`\n",
    "    \n",
    "The addresses are abbreviated by not writing leading zeros and cutting out a 4 digit set of 0s and replacing with ::. thus, the above address becomes:\n",
    "    <br>`fe80:ab70::f68:9786`\n",
    "    \n",
    "    Generally the first 3 sets of bits are used for global routing, 1 set for internal routing and 4 sets for node addresses.\n",
    "    \n",
    "<img src=\"./figures/add.png\">"
   ]
  },
  {
   "cell_type": "markdown",
   "id": "c69f75ea-97cb-457a-96f5-e769fde965f4",
   "metadata": {
    "tags": []
   },
   "source": [
    "## 1. Set up the Experiment\n",
    "\n",
    "In this section, be careful to do the instructions listed with **\"Do this\"**, as well as running the code blocks.\n",
    "### 1.1 Reserve Resources"
   ]
  },
  {
   "cell_type": "markdown",
   "id": "2a2c9745-e890-4b3e-807f-bce9cbd67b84",
   "metadata": {},
   "source": [
    "#### Import the Fabric API"
   ]
  },
  {
   "cell_type": "code",
   "execution_count": null,
   "id": "e0a044d2-318b-45b2-8f16-f9b997c6a9ed",
   "metadata": {},
   "outputs": [],
   "source": [
    "from fabrictestbed_extensions.fablib.fablib import FablibManager as fablib_manager\n",
    "fablib = fablib_manager()\n",
    "                     \n",
    "fablib.show_config()\n",
    "\n",
    "import json\n",
    "import traceback"
   ]
  },
  {
   "cell_type": "markdown",
   "id": "8daba25a-0bb3-4fef-9e63-67ea686aa267",
   "metadata": {},
   "source": [
    "#### Retrieve Slice\n",
    "Create the slice at the [Create Slice Notebook](./CreateSlice.ipynb) and import it here.\n"
   ]
  },
  {
   "cell_type": "code",
   "execution_count": null,
   "id": "eb4fd445-6751-405a-a6ba-20015c0a7c9e",
   "metadata": {},
   "outputs": [],
   "source": [
    "slice_name = \"IPV6\"\n",
    "slice = fablib.get_slice(slice_name)\n",
    "slice.list_nodes()"
   ]
  },
  {
   "cell_type": "markdown",
   "id": "c7a77713-ba35-4a3c-a5a4-ad7516c96367",
   "metadata": {},
   "source": [
    "#### Setup Network"
   ]
  },
  {
   "cell_type": "code",
   "execution_count": null,
   "id": "af744c7c-be55-434d-acfa-6fc314b79b9b",
   "metadata": {},
   "outputs": [],
   "source": [
    "from ipaddress import ip_address, IPv4Address, IPv6Address, IPv4Network, IPv6Network\n",
    "\n",
    "try:    \n",
    "    host1 = slice.get_node(name=\"host1\") \n",
    "    host2 = slice.get_node(name=\"host2\")\n",
    "    router = slice.get_node(name=\"router\")\n",
    "    \n",
    "    subnet1 = IPv4Network(\"10.1.1.0/24\")\n",
    "    subnet2 = IPv4Network(\"11.1.1.0/24\")\n",
    "    \n",
    "    subnet3 = IPv6Network(\"fe80::/64\")\n",
    "    subnet4 = IPv6Network(\"fe81::/64\")\n",
    "    \n",
    "    host1_iface = host1.get_interface(network_name=\"Lan1\")\n",
    "    host1_iface.ip_addr_add(addr=\"10.1.1.1\", subnet=subnet1)\n",
    "    host1_iface.ip_addr_add(addr=\"fe80::1\", subnet=subnet3)\n",
    "    \n",
    "    router_iface = router.get_interface(network_name=\"Lan1\")\n",
    "    router_iface.ip_addr_add(addr=\"10.1.1.2\", subnet=subnet1)\n",
    "    router_iface.ip_addr_add(addr=\"fe80::2\", subnet=subnet3)\n",
    "    \n",
    "    router_iface2 = router.get_interface(network_name=\"Lan2\")\n",
    "    router_iface2.ip_addr_add(addr=\"11.1.1.2\", subnet=subnet2)\n",
    "    router_iface2.ip_addr_add(addr=\"fe81::1\", subnet=subnet4)\n",
    "    \n",
    "    host2_iface2 = host2.get_interface(network_name=\"Lan2\")\n",
    "    host2_iface2.ip_addr_add(addr=\"11.1.1.1\", subnet=subnet2) \n",
    "    host2_iface2.ip_addr_add(addr=\"fe81::2\",subnet=subnet4) \n",
    "    \n",
    "    #turn on ens\n",
    "    stdout, stderr = host1.execute(f'sudo ip link set dev ens7 up')\n",
    "    stdout, stderr = router.execute(f'sudo ip link set dev ens7 up')\n",
    "    stdout, stderr = router.execute(f'sudo ip link set dev ens8 up')\n",
    "    stdout, stderr = host2.execute(f'sudo ip link set dev ens7 up')\n",
    "    \n",
    "    host1.execute(\"sudo ip route add 11.1.1.0/24 via 10.1.1.2\")\n",
    "    host1.execute(\"sudo ip route add fe81::/64 via fe80::2\")\n",
    "    router.execute(\"sudo sysctl -w net.ipv4.ip_forward=1\")\n",
    "    host2.execute(\"sudo ip route add 10.1.1.0/24 via 11.1.1.2\")\n",
    "    host2.execute(\"sudo ip route add fe80::/64/24 via e81::1\")\n",
    "except Exception as e:\n",
    "    print(f\"Exception: {e}\")\n",
    "\n",
    "for node in slice.get_nodes():\n",
    "    node.execute('sudo apt install net-tools')"
   ]
  },
  {
   "cell_type": "markdown",
   "id": "cc3ebbb8-e8d6-408a-ac95-6e0221ad14c8",
   "metadata": {
    "tags": []
   },
   "source": [
    "## 2.  Run Experiment\n",
    "\n",
    "<img src=\"./figures/IPV6Top.png\">\n",
    "\n",
    "### 2.1 Basic Connection\n",
    "We will be connecting to a node using IPV6.\n",
    "1. Open a terminal to all three nodes.\n",
    "\n",
    "2. On `host1` run:\n",
    "    <br>`ifconfig`\n",
    "    <br> We can see the addresses of the interfaces, take not of the loopback address (lo). The IPV4 address should be `127.0.0.1`, and the IPV6 address should be `::1`.\n",
    "    \n",
    "3. On `host1` ping `host1`:\n",
    "    <br>Using IPV4: `ping 127.0.0.1 -c 5`\n",
    "    <br>Using IPV6: `ping6 ::1 -c 5`\n",
    "4. Ping the multicast address to discover all link local neighbors on `host1` with:\n",
    "<br>`ping6 -I <link-name> ff02::1 -c 105`\n",
    "<br>Where `<link-name>` is the name of the interface on a network (ex: ens7). This command will discover all link local neighbors, in this example the output will be from the router node.\n",
    "\n",
    "5. Ping the router node from `host1`:\n",
    "<br>`ping6 -I <link-name> <IP6-address> -c 5`\n",
    "<br>The link used must be specified as in IPV6, link local addressing does not involve routing.\n",
    "    \n",
    "6. If you try to ping `host2` from `host1` you will see it fails as you are using link local addressing and have not advertised any additional routes.\n",
    "### 2.2 Examine Headers\n",
    "We will examine the difference between IPV4 and IPV6 packets.\n",
    "1. On `host1` startup tcpdump using:\n",
    "<br>`sudo tcpdump -v -i <outgoing interface>`\n",
    "<br> Where the `<outgoing interface>` is the interface we will be grabbing traffic from (found with `ifconfig`).\n",
    "    \n",
    "2. On `router`  ping `host1` using IPV4:\n",
    "<br>`ping 10.1.1.1 -c 5`\n",
    "<br> Take note of the output on `node1`.\n",
    "    \n",
    "3. On `router`  ping `host1` using IPV6:\n",
    "<br>`ping6 -I <outgoing link name> fe80::1 -c 5`\n",
    "<br>Where `<outgoing link name>` is the link connected to `node1`.\n",
    "    \n",
    "4. Take a look at the differences in packets caught by tcmpdump:\n",
    "    * IPV6 has a \"flow\" field, intended to be used for time important transfers\n",
    "    * IPV6 headers have a standard 40 bytes, if options are needed they are pointed to in the next header field\n",
    "    \n",
    "    * Field names have been updated to better reflect their use\n",
    "    * IPV6 doesn't allow for fragmentation\n",
    "    \n",
    "### 2.3 Use a 'Global' Type Address\n",
    "We will be assigning global type interfaces to the nodes so that they can be pinged without specifying an interface.\n",
    "\n",
    "1. Choose an address for `host1` (suggested to use the range `2001:0db8::/32` which has been set aside for tutorials and documentation) and run:\n",
    "<br>`sudo ip -6 addr add <ip6-address>/64 dev <outgoing-link-name>`\n",
    "<br> Remember that global unicast addresses begin with 001 in the first three bits. Additionally, do not worry about overlap as this address is not facing the internet.\n",
    "\n",
    "2. Ping the address you just set from `host1` (pinging `host1`):\n",
    "<br>`ping6 <ip6-address> -c 5`\n",
    "\n",
    "3. The address isn't advertised yet, verify on `host1` with:\n",
    "<br>`ip -6 route`\n",
    "4. Setup route to be advertised, on `host1`:\n",
    "<br>`sudo ip route add <truncated-ip6-address>/64 dev <outgoing-link-name>`\n",
    "<br>An example of: `<truncated-ip6-address>` if you chose `2001:db8::1` as your address, then you would use `2001:db8::/64` as your truncated address\n",
    "5. Run through steps 1-4 on the `router` node using a different ip.\n",
    "6. Try pinging `host1` from the `router` using the new addresses."
   ]
  },
  {
   "cell_type": "markdown",
   "id": "274cde77-18ae-4b45-97df-4248fb5aa74e",
   "metadata": {
    "tags": []
   },
   "source": [
    "## Continue to The Assignment notebook\n",
    "\n",
    "Once You have completed this notebook you should be able to continue to the Exploring IPV6 Assignment Notebook, you can ether open it on the explorer or click [Here](./Assignment.ipynb) to open the next notebook."
   ]
  },
  {
   "cell_type": "code",
   "execution_count": null,
   "id": "b57ebc6d-2064-482a-bfed-42a3c2183e47",
   "metadata": {},
   "outputs": [],
   "source": []
  }
 ],
 "metadata": {
  "kernelspec": {
   "display_name": "Python 3 (ipykernel)",
   "language": "python",
   "name": "python3"
  },
  "language_info": {
   "codemirror_mode": {
    "name": "ipython",
    "version": 3
   },
   "file_extension": ".py",
   "mimetype": "text/x-python",
   "name": "python",
   "nbconvert_exporter": "python",
   "pygments_lexer": "ipython3",
   "version": "3.10.6"
  }
 },
 "nbformat": 4,
 "nbformat_minor": 5
}
