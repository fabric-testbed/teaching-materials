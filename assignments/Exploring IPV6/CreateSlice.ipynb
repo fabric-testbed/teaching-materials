{
 "cells": [
  {
   "cell_type": "markdown",
   "id": "5f373d6e-223a-479a-971c-c39c02aa1390",
   "metadata": {},
   "source": [
    "# Create Slice for Fabric Rack\n",
    "This is the slice creation for the ```Exploring IPv6``` tutorial, This is the first step of the assignment, to create the slice on fabric using fablib\n",
    " "
   ]
  },
  {
   "cell_type": "code",
   "execution_count": null,
   "id": "3e84a125-c5f8-4b38-ada2-b585ee5a83ab",
   "metadata": {},
   "outputs": [],
   "source": [
    "from fabrictestbed_extensions.fablib.fablib import FablibManager as fablib_manager\n",
    "\n",
    "fablib = fablib_manager()\n",
    "                     \n",
    "fablib.show_config()\n",
    "\n",
    "import json\n",
    "import traceback"
   ]
  },
  {
   "cell_type": "code",
   "execution_count": null,
   "id": "c750ec14-1761-4592-8530-78edd3968a4a",
   "metadata": {},
   "outputs": [],
   "source": [
    "slice_name = \"IPV6\"\n",
    "site = fablib.get_random_site()\n",
    "print(site)\n",
    "\n",
    "nicmodel = \"NIC_Basic\"\n",
    "image = \"default_ubuntu_20\"\n",
    "\n",
    "cores = 1\n",
    "ram = 2\n",
    "disk = 10"
   ]
  },
  {
   "cell_type": "code",
   "execution_count": null,
   "id": "a206b6be-d3f8-4e6f-ab42-f0ea79c23d7b",
   "metadata": {},
   "outputs": [],
   "source": [
    "try:\n",
    "    #Create Slice\n",
    "    slice = fablib.new_slice(name=slice_name)\n",
    "    \n",
    "    #Router\n",
    "    router = slice.add_node(name=\"router\", site=site)\n",
    "    router.set_capacities(cores=cores, ram=ram, disk=disk)\n",
    "    router.set_image(image)\n",
    "    rPort1 = router.add_component(model= nicmodel, name=\"rPort1\").get_interfaces()[0] \n",
    "    rPort2 = router.add_component(model= nicmodel, name=\"rPort2\").get_interfaces()[0] \n",
    "    \n",
    "    #Host 1\n",
    "    host1 = slice.add_node(name=\"host1\", site=site)\n",
    "    host1.set_capacities(cores=cores, ram=ram, disk=disk)\n",
    "    host1.set_image(image)\n",
    "    h1Port = host1.add_component(model=nicmodel, name=\"h1Port\").get_interfaces()[0] \n",
    "    \n",
    "    #Host 2\n",
    "    host2 = slice.add_node(name=\"host2\", site=site)\n",
    "    host2.set_capacities(cores=cores, ram=ram, disk=disk)\n",
    "    host2.set_image(image)\n",
    "    h2Port = host2.add_component(model=nicmodel, name=\"h2Port\").get_interfaces()[0] \n",
    "    \n",
    "    lan1 = slice.add_l2network(name=\"Lan1\", interfaces=[rPort1, h1Port])\n",
    "    lan2 = slice.add_l2network(name=\"Lan2\", interfaces=[rPort2, h2Port])\n",
    "    \n",
    "    #Submit Slice Request\n",
    "    slice.submit()\n",
    "except Exception as e:\n",
    "    print(f\"Slice Failed: {e}\")"
   ]
  },
  {
   "cell_type": "markdown",
   "id": "2b27074c-bd53-41aa-bc57-a38bf7f48b2c",
   "metadata": {
    "tags": []
   },
   "source": [
    "## Continue to The experiment notebook\n",
    "\n",
    "Once You have completed this notebook you should be able to continue to the Exploring IPV6 Notebook, you can ether open it on the explorer or click [Here](./ExploringIPV6.ipynb) to open the next notebook."
   ]
  },
  {
   "cell_type": "code",
   "execution_count": null,
   "id": "38493984-f0eb-4d41-804c-2d306793aa38",
   "metadata": {},
   "outputs": [],
   "source": []
  }
 ],
 "metadata": {
  "kernelspec": {
   "display_name": "Python 3 (ipykernel)",
   "language": "python",
   "name": "python3"
  },
  "language_info": {
   "codemirror_mode": {
    "name": "ipython",
    "version": 3
   },
   "file_extension": ".py",
   "mimetype": "text/x-python",
   "name": "python",
   "nbconvert_exporter": "python",
   "pygments_lexer": "ipython3",
   "version": "3.10.6"
  }
 },
 "nbformat": 4,
 "nbformat_minor": 5
}
