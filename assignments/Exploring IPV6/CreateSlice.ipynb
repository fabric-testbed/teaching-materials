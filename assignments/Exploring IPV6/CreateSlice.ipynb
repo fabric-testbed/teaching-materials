{
 "cells": [
  {
   "cell_type": "markdown",
   "id": "5f373d6e-223a-479a-971c-c39c02aa1390",
   "metadata": {},
   "source": [
    "# Create Slice for Fabric Rack\n",
    "This is the slice creation for the ```Exploring IPv6``` tutorial. This is the first step of the assignment: to create the slice on fabric using fablib\n",
    " "
   ]
  },
  {
   "cell_type": "markdown",
   "id": "7c670ce9-3444-43f0-9094-ec68890ef637",
   "metadata": {
    "tags": []
   },
   "source": [
    "## 1. Set up the Experiment\n",
    "\n",
    "In this section, you will use the Fablib manager to create a new slice that is composed of 3 nodes for the IPv6 Assignment.\n",
    "### 1.1 Reserve Resources\n",
    "In the 'EDUKY' site, we will reserve a set of 3 nodes arranged in a line, with one node designated as a router. Each node will have the following specifications: 1 CPU core, 2GB of RAM, and 10GB of storage capacity. The router node will have 2 network cards (NICs), while each host node will have 1 NIC. All nodes will be preloaded with an 'Ubuntu' Linux OS. The router node will be responsible for passing traffic between 'host1' and 'host2'. Upon submission, the slice will be named 'IPV6'."
   ]
  },
  {
   "cell_type": "code",
   "execution_count": null,
   "id": "3e84a125-c5f8-4b38-ada2-b585ee5a83ab",
   "metadata": {},
   "outputs": [],
   "source": [
    "# Import Fablib\n",
    "from fabrictestbed_extensions.fablib.fablib import FablibManager as fablib_manager\n",
    "fablib = fablib_manager()                     \n",
    "fablib.show_config()\n",
    "import json\n",
    "import traceback"
   ]
  },
  {
   "cell_type": "code",
   "execution_count": null,
   "id": "a206b6be-d3f8-4e6f-ab42-f0ea79c23d7b",
   "metadata": {},
   "outputs": [],
   "source": [
    "# Define and Submit Slice\n",
    "slice_name = \"IPV6\"\n",
    "site = \"EDUKY\"\n",
    "print(site)\n",
    "\n",
    "nicmodel = \"NIC_Basic\"\n",
    "image = \"default_ubuntu_20\"\n",
    "\n",
    "cores = 1\n",
    "ram = 2\n",
    "disk = 10\n",
    "\n",
    "try:\n",
    "    #Create Slice\n",
    "    slice = fablib.new_slice(name=slice_name)\n",
    "    \n",
    "    #Router\n",
    "    router = slice.add_node(name=\"router\", site=site)\n",
    "    router.set_capacities(cores=cores, ram=ram, disk=disk)\n",
    "    router.set_image(image)\n",
    "    rPort1 = router.add_component(model=nicmodel, name=\"rPort1\").get_interfaces()[0] \n",
    "    rPort2 = router.add_component(model=nicmodel, name=\"rPort2\").get_interfaces()[0] \n",
    "    \n",
    "    #Host 1\n",
    "    host1 = slice.add_node(name=\"host1\", site=site)\n",
    "    host1.set_capacities(cores=cores, ram=ram, disk=disk)\n",
    "    host1.set_image(image)\n",
    "    h1Port = host1.add_component(model=nicmodel, name=\"h1Port\").get_interfaces()[0] \n",
    "    \n",
    "    #Host 2\n",
    "    host2 = slice.add_node(name=\"host2\", site=site)\n",
    "    host2.set_capacities(cores=cores, ram=ram, disk=disk)\n",
    "    host2.set_image(image)\n",
    "    h2Port = host2.add_component(model=nicmodel, name=\"h2Port\").get_interfaces()[0] \n",
    "    \n",
    "    lan1 = slice.add_l2network(name=\"Lan1\", interfaces=[rPort1, h1Port])\n",
    "    lan2 = slice.add_l2network(name=\"Lan2\", interfaces=[rPort2, h2Port])\n",
    "    \n",
    "    #Submit Slice Request\n",
    "    slice.submit()\n",
    "except Exception as e:\n",
    "    print(f\"Slice Failed: {e}\")"
   ]
  },
  {
   "cell_type": "markdown",
   "id": "b52e1a2f-b966-4dff-95b8-4c937ade8a30",
   "metadata": {
    "tags": []
   },
   "source": [
    "### 1.2 Set up the Experiment Network\n",
    "The network configuration part of this slice will connect the nodes with specific IPs such that the nodes are able to communicate with each other. The slice will use the network name to find the corresponding devices (NIC cards) used in the slice creation so that we can provide the correct connections in the network, in this case, \"Lan1\" and \"Lan2\".\n",
    "\n",
    "This slice contains 2 subnetworks in IPv4: 10.1.1.0/24 (between host1 and the router, \"Lan1\") & 11.1.1.0/24 (between host2 and the router, \"Lan2\"), and 2 subnetworks in IPv6: Fe80::/64 (between host1 and the router, \"Lan1\") & Fe81::/64 (between host2 and the router, \"Lan2\"). This slice will provide IP 10.1.1.2 and 11.1.1.2 following the guidelines set by the network subnet. It will connect 10.1.1.2 to the card connected to host1, and 11.1.1.2 to host2, similarly FF80::2 to host1 and Fe81::1 to host2. Similarly, this section will provide the network cards inside the hosts with 10.0.0.1 & Fe80::1 to the node in the subnet \"Lan1\", and 11.1.1.1 with Fe81::1 to the node in the subnet \"Lan2\".\n",
    "\n",
    "After providing the IPs to the corresponding devices, the cell will verify that all interfaces are up and execute \"ip a\" to output the connections that are active. Then, we will add the additional routes so that the nodes are aware of the active connections using the route command."
   ]
  },
  {
   "cell_type": "code",
   "execution_count": null,
   "id": "c80c4b54-6cfb-40e6-873d-08d599093373",
   "metadata": {},
   "outputs": [],
   "source": [
    "# Setup Network\n",
    "from ipaddress import ip_address, IPv4Address, IPv6Address, IPv4Network, IPv6Network\n",
    "\n",
    "try:\n",
    "    #retrive nodes used and configure device adresses \n",
    "    host1 = slice.get_node(name=\"host1\") \n",
    "    host2 = slice.get_node(name=\"host2\")\n",
    "    router = slice.get_node(name=\"router\")\n",
    "    \n",
    "    subnet1 = IPv4Network(\"10.1.1.0/24\")\n",
    "    subnet2 = IPv4Network(\"11.1.1.0/24\")\n",
    "    \n",
    "    subnet3 = IPv6Network(\"fe80::/64\")\n",
    "    subnet4 = IPv6Network(\"fe81::/64\")\n",
    "    \n",
    "    host1_iface = host1.get_interface(network_name=\"Lan1\")\n",
    "    host1_iface.ip_addr_add(addr=\"10.1.1.1\", subnet=subnet1)\n",
    "    host1_iface.ip_addr_add(addr=\"fe80::1\", subnet=subnet3)\n",
    "    \n",
    "    router_iface = router.get_interface(network_name=\"Lan1\")\n",
    "    router_iface.ip_addr_add(addr=\"10.1.1.2\", subnet=subnet1)\n",
    "    router_iface.ip_addr_add(addr=\"fe80::2\", subnet=subnet3)\n",
    "    \n",
    "    router_iface2 = router.get_interface(network_name=\"Lan2\")\n",
    "    router_iface2.ip_addr_add(addr=\"11.1.1.2\", subnet=subnet2)\n",
    "    router_iface2.ip_addr_add(addr=\"fe81::1\", subnet=subnet4)\n",
    "    \n",
    "    host2_iface2 = host2.get_interface(network_name=\"Lan2\")\n",
    "    host2_iface2.ip_addr_add(addr=\"11.1.1.1\", subnet=subnet2) \n",
    "    host2_iface2.ip_addr_add(addr=\"fe81::2\",subnet=subnet4) \n",
    "    \n",
    "    #check the devices are up\n",
    "    for node in slice.get_nodes():\n",
    "        for interface in node.get_interfaces():\n",
    "            stdout, stderr = node.execute(f'sudo ip link set dev { interface.get_device_name()} up')\n",
    "        print(f\"Network status at node {node.get_name()}\")\n",
    "        node.execute(\"ip a\")\n",
    "        \n",
    "    #Add any aditional routes    \n",
    "    host1.execute(\"sudo ip route add 11.1.1.0/24 via 10.1.1.2\")\n",
    "    host1.execute(\"sudo ip route add fe81::/64 via fe80::2\")\n",
    "    router.execute(\"sudo sysctl -w net.ipv4.ip_forward=1\")\n",
    "    host2.execute(\"sudo ip route add 10.1.1.0/24 via 11.1.1.2\")\n",
    "    host2.execute(\"sudo ip route add fe80::/64/24 via e81::1\")\n",
    "except Exception as e:\n",
    "    print(f\"Exception: {e}\")\n"
   ]
  },
  {
   "cell_type": "markdown",
   "id": "f12bb06b-c456-4668-9a91-51b8db8e80e0",
   "metadata": {
    "tags": []
   },
   "source": [
    "### 1.3 Configure the software needed for the nodes in the experiment\n",
    "In this section of the slice creation, we will add any additional software, tools or scripts that we need for our experiments. For this slice we only need to install \"net-tools\", we provide the software by running node.execute() and letting the node know to download the software."
   ]
  },
  {
   "cell_type": "code",
   "execution_count": null,
   "id": "881a4d46-24c6-4495-9e30-2368f6d44fc5",
   "metadata": {},
   "outputs": [],
   "source": [
    "# Install Software\n",
    "try:    \n",
    "    # install net-tools on each node\n",
    "    for node in slice.get_nodes():\n",
    "        node.execute('sudo apt install net-tools')\n",
    "except Exception as e:\n",
    "    print(f\"Exception: {e}\")"
   ]
  },
  {
   "cell_type": "markdown",
   "id": "2b27074c-bd53-41aa-bc57-a38bf7f48b2c",
   "metadata": {
    "tags": []
   },
   "source": [
    "## Continue to The experiment notebook\n",
    "\n",
    "Once You have completed this notebook you should be able to continue to the Exploring IPV6 Notebook. You can either open it on the explorer or click [Here](./ExploringIPV6.ipynb) to open the next notebook."
   ]
  },
  {
   "cell_type": "code",
   "execution_count": null,
   "id": "38493984-f0eb-4d41-804c-2d306793aa38",
   "metadata": {},
   "outputs": [],
   "source": []
  }
 ],
 "metadata": {
  "kernelspec": {
   "display_name": "Python 3 (ipykernel)",
   "language": "python",
   "name": "python3"
  },
  "language_info": {
   "codemirror_mode": {
    "name": "ipython",
    "version": 3
   },
   "file_extension": ".py",
   "mimetype": "text/x-python",
   "name": "python",
   "nbconvert_exporter": "python",
   "pygments_lexer": "ipython3",
   "version": "3.10.6"
  }
 },
 "nbformat": 4,
 "nbformat_minor": 5
}
