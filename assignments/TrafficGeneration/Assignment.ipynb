{
 "cells": [
  {
   "cell_type": "markdown",
   "id": "2f0dfd3f-ff07-4be7-a4ae-484cd46a5e4b",
   "metadata": {
    "tags": []
   },
   "source": [
    "#  Traffic Generation Assignment\n",
    "\n",
    "<b> Prerequisites  </b>\n",
    "* You need to have completed the Traffic Generation Experiment, if you have not completed this step you can click [Here](./TrafficGeneration.ipynb)"
   ]
  },
  {
   "cell_type": "markdown",
   "id": "ed761155-24c2-4d9d-9ec8-9c361ed16cd8",
   "metadata": {},
   "source": [
    "\n",
    "### 1 Running Nping\n",
    "1. Design an experiment in which you would use Nping for Traffic Generation.\n",
    "2. What would your experiment test?\n",
    "3. Why would realistic traffic be desired?\n",
    "4. What traffic source would you collect a header trace from?\n",
    "\n",
    "\n",
    "### 2 Running Nping\n",
    "1. Open Two terminals to node 1, on one of the terminals start the script using the following command ```./TG-output.sh```\n",
    "2. On the second terminal generate traffic similar using a command similar to the ones during the experiment\n",
    "3. Once the traffic generated on the second terminal is completed stop catching packets by running ```Ctrl-C``` on the first terminal (Keep in mind that depending on the length and time of the traffic you generated, this step might take some time)\n",
    "4. Use the following code block to download a graph of the throughput that Nping creates (with your command) as it runs."
   ]
  },
  {
   "cell_type": "code",
   "execution_count": null,
   "id": "e98cf61f-73e6-42c5-a187-fcccaafd4b01",
   "metadata": {
    "scrolled": true,
    "tags": []
   },
   "outputs": [],
   "source": [
    "from fabrictestbed_extensions.fablib.fablib import FablibManager as fablib_manager\n",
    "\n",
    "fablib = fablib_manager()\n",
    "import json\n",
    "import traceback\n",
    "\n",
    "slice_name = \"TrafficGeneration\"\n",
    "try:\n",
    "    slice = fablib.get_slice(slice_name)\n",
    "    A = slice.get_node('ND1')\n",
    "    A.execute(\"Rscript TG-data-analysis.R\")\n",
    "    A.download_file(\"Traffic-TG.svg\",\"Traffic-TG.svg\")\n",
    "except Exception as e:\n",
    "    print(f\"Fail: {e}\")"
   ]
  },
  {
   "cell_type": "markdown",
   "id": "06c929ec-8a0f-4033-8d72-0d975e66d472",
   "metadata": {
    "tags": []
   },
   "source": [
    "## Cleanup Resources\n",
    "Once you have completed the assignment shut down the slice"
   ]
  },
  {
   "cell_type": "code",
   "execution_count": null,
   "id": "552fbb0b-8982-4d57-883e-89b643517ab8",
   "metadata": {
    "tags": []
   },
   "outputs": [],
   "source": [
    "slice_name = \"TrafficGeneration\"\n",
    "try:\n",
    "    slice = fablib.get_slice(slice_name)\n",
    "    slice.delete()\n",
    "except Exception as e:\n",
    "    print(f\"Fail: {e}\")"
   ]
  },
  {
   "cell_type": "code",
   "execution_count": null,
   "id": "6a7373b2-f54d-454b-b12f-7daf5d9d889f",
   "metadata": {},
   "outputs": [],
   "source": []
  }
 ],
 "metadata": {
  "kernelspec": {
   "display_name": "Python 3 (ipykernel)",
   "language": "python",
   "name": "python3"
  },
  "language_info": {
   "codemirror_mode": {
    "name": "ipython",
    "version": 3
   },
   "file_extension": ".py",
   "mimetype": "text/x-python",
   "name": "python",
   "nbconvert_exporter": "python",
   "pygments_lexer": "ipython3",
   "version": "3.10.6"
  }
 },
 "nbformat": 4,
 "nbformat_minor": 5
}
