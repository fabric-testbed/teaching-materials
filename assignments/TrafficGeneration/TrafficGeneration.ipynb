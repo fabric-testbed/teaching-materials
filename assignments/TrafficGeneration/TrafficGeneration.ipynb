{
 "cells": [
  {
   "cell_type": "markdown",
   "id": "2f0dfd3f-ff07-4be7-a4ae-484cd46a5e4b",
   "metadata": {
    "tags": []
   },
   "source": [
    "#  TrafficGeneration\n",
    "<i>Adapted for use with FABRIC from [Traffic Generation](https://www.cs.unc.edu/Research/geni/geniEdu/08-TrafficGen.html)</i>\n",
    "        \n",
    "<b> Prerequisites  </b>\n",
    "    \n",
    "* You need to have your FABRIC bastion host key pair set up to do this tutorial. If you have not already set this up, follow steps 1-5 at https://github.com/fabric-testbed/teaching-materials/blob/main/Getting%20Started.md#section-1-get-started.\n",
    "* You are comfortable using ssh and executing basic commands using a UNIX shell. [Tips about how to login to hosts.](https://github.com/fabric-testbed/teaching-materials/blob/main/Getting%20Started.md)\n",
    "\n",
    "In this experiment you will be introduced to the principles of traffic generation using Nping. This is the second step in this assignment. To go to the previous step go to slice creation notebook or click [Here](./CreateSlice.ipynb)"
   ]
  },
  {
   "cell_type": "markdown",
   "id": "b9db801e-7410-409c-8832-e7db1e1bf778",
   "metadata": {
    "tags": []
   },
   "source": [
    "## 1. Retrieve Slice\n",
    "Create the slice at the [Create Slice Notebook](./CreateSlice.ipynb) and import it here.\n",
    "#### Import the Fabric API"
   ]
  },
  {
   "cell_type": "code",
   "execution_count": null,
   "id": "f83cb316-2e4e-4936-8a36-43290ad52fcf",
   "metadata": {},
   "outputs": [],
   "source": [
    "# Load Fablib and Node Information\n",
    "from fabrictestbed_extensions.fablib.fablib import FablibManager as fablib_manager\n",
    "fablib = fablib_manager()                    \n",
    "fablib.show_config()\n",
    "import json\n",
    "import traceback\n",
    "\n",
    "slice_name = \"TrafficGeneration\"\n",
    "try:\n",
    "    slice = fablib.get_slice(slice_name)\n",
    "    print(f\"Slice: {slice.get_name()}, {slice.get_state()}\")\n",
    "    slice.list_nodes()\n",
    "except Exception as e:\n",
    "    print(f\"Get Slices Fail: {e}\")"
   ]
  },
  {
   "cell_type": "markdown",
   "id": "ed761155-24c2-4d9d-9ec8-9c361ed16cd8",
   "metadata": {},
   "source": [
    "## 2 Guided Experiment\n",
    "<br><img src=\"https://github.com/fabric-testbed/teaching-materials/blob/main/assignments/TrafficGeneration/figures/TrafficGenTop.png?raw=true\"><br>\n",
    "### 2.1 Running Nping\n",
    "1. Open an ssh terminal to each of the node\n",
    "\n",
    "Nping comes from the Nmap package and is self-contained. We will use this to generate traffic across the nodes. nping has different methods of running traffic. We will use tcp traffic using \"--tcp\" or udp with \"--udp\"\n",
    "\n",
    "2. We can start by running a simple test on the network with the following command ```sudo nping --tcp -p 5000 10.0.0.2```\n",
    "\n",
    "However we can also specify how many rounds we want to use with the \"-c\" option, can specify the length of the package \"--data-length\" and delay between sent packets \"delay\"\n",
    "\n",
    "3. For this experiment we will run traffic generation using TCP traffic on the port 5000, for 4000 rounds, and we will start with data length of 1 and no delay. The command we will use is\n",
    "   <br> ```sudo nping --tcp --dest-ip 10.0.0.2 -p 5000 --privileged -c 40000 --data-length 1024 --delay 0 ```\n",
    "4. For more information about Nping: https://nmap.org/nping/\n",
    "        \n"
   ]
  },
  {
   "cell_type": "markdown",
   "id": "ec90d9f2-2822-49df-838d-09f142d6e663",
   "metadata": {},
   "source": [
    "## 3. Assignment\n",
    "### 1 Running Nping\n",
    "1. Design an experiment in which you would use Nping for Traffic Generation.\n",
    "2. What would your experiment test?\n",
    "3. Why would realistic traffic be desired?\n",
    "4. What traffic source would you collect a header trace from?\n",
    "\n",
    "\n",
    "### 2 Running Nping\n",
    "1. Open Two terminals to node 1. On one of the terminals start the script using the following command ```./TG-output.sh```\n",
    "2. On the second terminal generate similar traffic using a command similar to the ones during the experiment\n",
    "3. Once the traffic generated on the second terminal is completed stop catching packets by running ```Ctrl-C``` on the first terminal (Keep in mind that depending on the length and time of the traffic you generated, this step might take some time)\n",
    "4. Use the following code block to download a graph of the throughput that Nping creates (with your command) as it runs."
   ]
  },
  {
   "cell_type": "code",
   "execution_count": null,
   "id": "7acfe495-6653-4883-9518-e3650151aa34",
   "metadata": {
    "scrolled": true,
    "tags": []
   },
   "outputs": [],
   "source": [
    "# Download chart from Node 1\n",
    "try:\n",
    "    slice = fablib.get_slice(slice_name)\n",
    "    A = slice.get_node('Node_1')\n",
    "    A.execute(\"Rscript TG-data-analysis.R\")\n",
    "    A.download_file(\"Traffic-TG.svg\",\"Traffic-TG.svg\")\n",
    "except Exception as e:\n",
    "    print(f\"Fail: {e}\")"
   ]
  },
  {
   "cell_type": "markdown",
   "id": "3812737b-c769-4a2f-ac97-a64c7c35ab60",
   "metadata": {
    "tags": []
   },
   "source": [
    "## Cleanup Resources\n",
    "Once you have completed the assignment shut down the slice"
   ]
  },
  {
   "cell_type": "code",
   "execution_count": null,
   "id": "63db1f44-6b32-4024-b69c-7558d3a0b166",
   "metadata": {
    "tags": []
   },
   "outputs": [],
   "source": [
    "# Delete Slice\n",
    "try:\n",
    "    #To delete the slice change \"CHECK\" to \"True\". This is to prevent accidental slice deletion\n",
    "    CHECK = False\n",
    "    if (CHECK):\n",
    "        slice = fablib.get_slice(slice_name)\n",
    "        slice.delete()\n",
    "    else:\n",
    "        print(\"Change the Boolean to delete slice\")\n",
    "except Exception as e:\n",
    "    print(f\"Fail: {e}\")"
   ]
  }
 ],
 "metadata": {
  "kernelspec": {
   "display_name": "Python 3 (ipykernel)",
   "language": "python",
   "name": "python3"
  },
  "language_info": {
   "codemirror_mode": {
    "name": "ipython",
    "version": 3
   },
   "file_extension": ".py",
   "mimetype": "text/x-python",
   "name": "python",
   "nbconvert_exporter": "python",
   "pygments_lexer": "ipython3",
   "version": "3.10.6"
  }
 },
 "nbformat": 4,
 "nbformat_minor": 5
}
