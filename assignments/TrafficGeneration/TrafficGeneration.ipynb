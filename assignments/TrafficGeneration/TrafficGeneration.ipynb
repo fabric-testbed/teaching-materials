{
 "cells": [
  {
   "cell_type": "markdown",
   "id": "2f0dfd3f-ff07-4be7-a4ae-484cd46a5e4b",
   "metadata": {
    "tags": []
   },
   "source": [
    "#  TrafficGeneration\n",
    "<i>Adapted for use with FABRIC from [Traffic Generation](https://www.cs.unc.edu/Research/geni/geniEdu/08-TrafficGen.html)</i>\n",
    "        \n",
    "<b> Prerequisites  </b>\n",
    "    \n",
    "* You need to have your FABRIC bastion host key pair set up to do this tutorial. If you have not already set this up, follow steps 1-5 at https://github.com/fabric-testbed/teaching-materials/blob/main/Getting%20Started.md#section-1-get-started.\n",
    "* You are comfortable using ssh and executing basic commands using a UNIX shell. [Tips about how to login to hosts.](https://github.com/fabric-testbed/teaching-materials/blob/main/Getting%20Started.md)\n",
    "\n",
    "In This Experiment you will be introduced to the principles of traffic generation using Nping. This is the second step in this assignment, to go to the previous step go to slice creation notebook or click [Here](./CreateSlice.ipynb)"
   ]
  },
  {
   "cell_type": "markdown",
   "id": "9cd63d33-dfc5-4945-9833-c95ee7bc5457",
   "metadata": {
    "tags": []
   },
   "source": [
    "## 1. Setup the Experiment\n",
    "### 1.1 Reserve Resources"
   ]
  },
  {
   "cell_type": "markdown",
   "id": "d982da77-bed0-4b00-b263-1288299c0b1e",
   "metadata": {},
   "source": [
    "#### Import the Fabric API"
   ]
  },
  {
   "cell_type": "code",
   "execution_count": null,
   "id": "606801d0-66c7-43be-9f95-2e0fcccf13c8",
   "metadata": {},
   "outputs": [],
   "source": [
    "from fabrictestbed_extensions.fablib.fablib import FablibManager as fablib_manager\n",
    "\n",
    "fablib = fablib_manager()\n",
    "                     \n",
    "fablib.show_config()\n",
    "\n",
    "import json\n",
    "import traceback"
   ]
  },
  {
   "cell_type": "markdown",
   "id": "343a577e-2c4a-419a-a84c-2fbac4d5f557",
   "metadata": {},
   "source": [
    "####  Retrieve Slice\n",
    "Create the slice at the [Create Slice Notebook](./CreateSlice.ipynb) and import it here.\n"
   ]
  },
  {
   "cell_type": "code",
   "execution_count": null,
   "id": "f83cb316-2e4e-4936-8a36-43290ad52fcf",
   "metadata": {},
   "outputs": [],
   "source": [
    "slice_name = \"TrafficGeneration\"\n",
    "try:\n",
    "    slice = fablib.get_slice(slice_name)\n",
    "    print(f\"Slice: {slice.get_name()}, {slice.get_state()}\")\n",
    "    slice.list_nodes()\n",
    "except Exception as e:\n",
    "    print(f\"Get Slices Fail: {e}\")"
   ]
  },
  {
   "cell_type": "markdown",
   "id": "9fa9819c-89fb-443d-a5e3-a4d461465510",
   "metadata": {},
   "source": [
    "## 1.2 Setup the node network\n",
    "### 1.2.1 Give each node an address"
   ]
  },
  {
   "cell_type": "code",
   "execution_count": null,
   "id": "edcf5fde-4ba3-4e42-b2c0-26dae3065fd5",
   "metadata": {},
   "outputs": [],
   "source": [
    "from ipaddress import ip_address, IPv4Address, IPv6Address, IPv4Network, IPv6Network\n",
    "\n",
    "# configure nodes\n",
    "try:\n",
    "    A = slice.get_node('ND1')\n",
    "    B = slice.get_node('ND2')\n",
    "    \n",
    "    subnet = IPv4Network(\"10.0.0.0/24\")\n",
    "    \n",
    "    #A's lan\n",
    "    A_iface = A.get_interface(network_name=\"Lan\")  \n",
    "    A_iface.ip_addr_add(addr='10.0.0.1', subnet=subnet)\n",
    "    A_Device_Name = interface.get_device_name()\n",
    "    #B's Lan\n",
    "    B_iface = B.get_interface(network_name=\"Lan\")  \n",
    "    B_iface.ip_addr_add(addr='10.0.0.2', subnet=subnet)\n",
    "    \n",
    "    for node in slice.get_nodes():\n",
    "        for interface in node.get_interfaces():\n",
    "            stdout, stderr = node.execute(f'sudo ip link set dev { interface.get_device_name()} up')\n",
    "            \n",
    "        print(f\"Network status at node {node.get_name()}\")\n",
    "        node.execute(\"ip a\")\n",
    "        \n",
    "except Exception as e:\n",
    "    print(f\"Fail: {e}\")"
   ]
  },
  {
   "cell_type": "markdown",
   "id": "6c12b527-bd28-4a4b-8cc0-83ae7577f276",
   "metadata": {},
   "source": [
    "### 1.2.2 setting up the enviorment\n",
    "This includes installing nping in both nodes, iperf, and R-studio for the assignment"
   ]
  },
  {
   "cell_type": "code",
   "execution_count": null,
   "id": "d96336c3-2e66-4388-9eca-879b1354e8db",
   "metadata": {
    "scrolled": true,
    "tags": []
   },
   "outputs": [],
   "source": [
    "try:\n",
    "    INTERFACE_NAME_HOLDER = \"INTERFACE_NAME\"\n",
    "    for node in slice.get_nodes():        \n",
    "        node.execute(\"sudo apt update\")   \n",
    "        node.execute(\"sudo apt-get install nmap -y\")\n",
    "        node.execute(\"sudo apt-get install iperf -y\")\n",
    "        #Graphics\n",
    "        node.upload_file(\"./scripts/TG-data-analysis.R\",\"TG-data-analysis.R\")\n",
    "        node.upload_file(\"./scripts/TG-output.sh\",\"TG-output.sh\")\n",
    "        node.execute(f\"sed -i 's/{INTERFACE_NAME_HOLDER}/{A_Device_Name}/' RT-output.sh\")\n",
    "        node.execute(\"sudo apt-get -y install moreutils r-base-core r-cran-ggplot2 r-cran-littler;sudo sysctl -w net.ipv4.tcp_no_metrics_save=1;chmod +x TG-output.sh \")\n",
    "except Exception as e:\n",
    "    print(f\"Fail: {e}\")\n",
    "\n",
    "    "
   ]
  },
  {
   "cell_type": "markdown",
   "id": "ed761155-24c2-4d9d-9ec8-9c361ed16cd8",
   "metadata": {},
   "source": [
    "## 2 Run Experiment\n",
    "<br><img src=\"./figures/TrafficGenTop.png\"><br>\n",
    "### 2.1 Running Nping\n",
    "1. Open an ssh terminal to each of the node\n",
    "\n",
    "Nping comes from the Nmap package and is self contained, we will use this to generate traffic across the nodes. nping has different methods of running traffic, we will use tcp traffic using \"--tcp\" or udp with \"--udp\"\n",
    "\n",
    "2. We can start by running a simple test on the network with the following command ```sudo nping --tcp -p 5000 10.0.0.2```\n",
    "\n",
    "however we can also specify how many rounds we want to use with the \"-c\" option, can specify the length of the package \"--data-length\" and delay between sent packets \"delay\"\n",
    "\n",
    "3. For this experiment we will run traffic generation using TCP traffic on the port 5000,for 4000 rounds, and we will start with data length of 1 and no delay, the command we will use is\n",
    "   <br> ```sudo nping --tcp --dest-ip 10.0.0.2 -p 5000 --privileged -c 40000 --data-length 1024 --delay 0 ```\n",
    "4. For more information about Nping: https://nmap.org/nping/\n",
    "        \n"
   ]
  },
  {
   "cell_type": "markdown",
   "id": "990c78f5-c1f0-46a2-8fc7-6c9964d5a88c",
   "metadata": {
    "tags": []
   },
   "source": [
    "## Continue to The Assignment notebook\n",
    "\n",
    "Once You have completed this notebook you should be able to continue to the Traffic Generation Assignment Notebook, you can ether open it on the explorer or click [Here](./Assignment.ipynb) to open the next notebook."
   ]
  },
  {
   "cell_type": "code",
   "execution_count": null,
   "id": "6a7373b2-f54d-454b-b12f-7daf5d9d889f",
   "metadata": {},
   "outputs": [],
   "source": []
  }
 ],
 "metadata": {
  "kernelspec": {
   "display_name": "Python 3 (ipykernel)",
   "language": "python",
   "name": "python3"
  },
  "language_info": {
   "codemirror_mode": {
    "name": "ipython",
    "version": 3
   },
   "file_extension": ".py",
   "mimetype": "text/x-python",
   "name": "python",
   "nbconvert_exporter": "python",
   "pygments_lexer": "ipython3",
   "version": "3.10.6"
  }
 },
 "nbformat": 4,
 "nbformat_minor": 5
}
