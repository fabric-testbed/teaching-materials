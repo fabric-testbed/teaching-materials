{
 "cells": [
  {
   "cell_type": "markdown",
   "id": "5f373d6e-223a-479a-971c-c39c02aa1390",
   "metadata": {},
   "source": [
    "# Create Slice for Fabric Rack\n",
    "This is the slice creation for the ```OpenVS Flow``` tutorial. This is the first step of the assignment, to create the slice on fabric using fablib.\n",
    " "
   ]
  },
  {
   "cell_type": "markdown",
   "id": "666690b5-70b0-4dcd-9c8e-c4aaaa9f85a8",
   "metadata": {
    "tags": []
   },
   "source": [
    "## 1. Set up the Experiment\n",
    "\n",
    "In this section you will use the Fablib manager to create a new slice that is composed of 4 nodes for the OSPF Assignment.\n",
    "### 1.1 Reserve Resources\n",
    "In this section we will declare the structure of the slice we will be using."
   ]
  },
  {
   "cell_type": "code",
   "execution_count": null,
   "id": "3e84a125-c5f8-4b38-ada2-b585ee5a83ab",
   "metadata": {},
   "outputs": [],
   "source": [
    "# Import Fablib\n",
    "from fabrictestbed_extensions.fablib.fablib import FablibManager as fablib_manager\n",
    "fablib = fablib_manager()                     \n",
    "fablib.show_config()\n",
    "import json\n",
    "import traceback"
   ]
  },
  {
   "cell_type": "code",
   "execution_count": null,
   "id": "c750ec14-1761-4592-8530-78edd3968a4a",
   "metadata": {},
   "outputs": [],
   "source": [
    "# Define and Submit Slice\n",
    "slice_name = \"OpenVSSwitch\"\n",
    "site = \"EDUKY\"\n",
    "print(site)\n",
    "\n",
    "nicmodel = \"NIC_Basic\"\n",
    "image = \"default_ubuntu_20\"\n",
    "\n",
    "cores = 1\n",
    "ram = 2\n",
    "disk = 10"
   ]
  },
  {
   "cell_type": "code",
   "execution_count": null,
   "id": "a206b6be-d3f8-4e6f-ab42-f0ea79c23d7b",
   "metadata": {},
   "outputs": [],
   "source": [
    "# Setup Network\n",
    "try:\n",
    "    #Create Slice\n",
    "    slice = fablib.new_slice(name=slice_name)\n",
    "    \n",
    "    # Bridge/switch node\n",
    "    OVSbr = slice.add_node(name=\"Bridge\", site=site)\n",
    "    OVSbr.set_image('default_ubuntu_20')\n",
    "    AP1 = OVSbr.add_component(model='NIC_Basic', name=\"CPort1\").get_interfaces()[0] \n",
    "    AP2 = OVSbr.add_component(model='NIC_Basic', name=\"H1Port\").get_interfaces()[0]\n",
    "    AP3 = OVSbr.add_component(model='NIC_Basic', name=\"H2Port\").get_interfaces()[0]\n",
    "    AP4 = OVSbr.add_component(model='NIC_Basic', name=\"H3Port\").get_interfaces()[0]\n",
    "    \n",
    "    #H1\n",
    "    Host_1 = slice.add_node(name=\"Host_1\", site=site)\n",
    "    Host_1.set_image('default_ubuntu_20')\n",
    "    BP1 = Host_1.add_component(model=nicmodel, name=\"BPort1\").get_interfaces()[0] \n",
    "    \n",
    "    #H2\n",
    "    Host_2= slice.add_node(name=\"Host_2\", site=site)\n",
    "    Host_2.set_image('default_ubuntu_20')\n",
    "    CP1 = Host_2.add_component(model=nicmodel, name=\"CPort1\").get_interfaces()[0] \n",
    "    \n",
    "    #H3\n",
    "    Host_3 = slice.add_node(name=\"Host_3\", site=site)\n",
    "    Host_3.set_image('default_ubuntu_20')\n",
    "    DP1 = Host_3.add_component(model=nicmodel, name=\"DPort1\").get_interfaces()[0]    \n",
    "    \n",
    "    #Connection \"internet\". remove connection later\n",
    "    Ctrl = slice.add_node(name=\"ControllerNode\", site=site)\n",
    "    Ctrl.set_image('default_ubuntu_20')\n",
    "    EP1 = Ctrl.add_component(model=nicmodel, name=\"DPort1\").get_interfaces()[0]\n",
    "    \n",
    "    Lan1 = slice.add_l2network(name=\"ControllerLan\", interfaces=[EP1, AP1])\n",
    "    Lan2 = slice.add_l2network(name=\"H1Lan\", interfaces=[BP1, AP2])\n",
    "    Lan3 = slice.add_l2network(name=\"H2Lan\", interfaces=[CP1, AP3])\n",
    "    Lan4 = slice.add_l2network(name=\"H3Lan\", interfaces=[DP1, AP4])\n",
    "    \n",
    "    #Submit Slice Request\n",
    "    slice.submit()\n",
    "except Exception as e:\n",
    "    print(f\"Slice Failed: {e}\")"
   ]
  },
  {
   "cell_type": "markdown",
   "id": "f5304bf1-6ad5-4c5e-88eb-1a42cb7aeaff",
   "metadata": {
    "tags": []
   },
   "source": [
    "### 1.2 Set up the Experiment Network\n",
    "In this section of the slice creation, once the nodes are active, will assign the network spaces some predefined values that we will use for the assignment"
   ]
  },
  {
   "cell_type": "code",
   "execution_count": null,
   "id": "bb9d4f34-014e-4444-9162-ea766dbbea10",
   "metadata": {
    "scrolled": true
   },
   "outputs": [],
   "source": [
    "# Setup Network\n",
    "from ipaddress import ip_address, IPv4Address, IPv6Address, IPv4Network, IPv6Network\n",
    "\n",
    "try:    \n",
    "    OVSbr = slice.get_node(name=\"Bridge\") \n",
    "    Host_1 = slice.get_node(name=\"Host_1\")\n",
    "    Host_2 = slice.get_node(name=\"Host_2\")\n",
    "    Host_3 = slice.get_node(name=\"Host_3\")\n",
    "    Ctrl = slice.get_node(name=\"ControllerNode\")\n",
    "    \n",
    "    subnet1 = IPv4Network(\"10.10.1.0/24\")\n",
    "    subnet2 = IPv4Network(\"10.10.2.0/24\")\n",
    "    \n",
    "    AP1 = OVSbr.get_interface(network_name=\"ControllerLan\") \n",
    "    AP1.ip_addr_add(addr=\"10.10.2.1\", subnet=subnet2)\n",
    "    AP2 = OVSbr.get_interface(network_name=\"H1Lan\") \n",
    "    AP2.ip_addr_add(addr=\"10.10.1.11\", subnet=subnet1)\n",
    "    AP3 = OVSbr.get_interface(network_name=\"H2Lan\") \n",
    "    AP3.ip_addr_add(addr=\"10.10.1.12\", subnet=subnet1)\n",
    "    AP4 = OVSbr.get_interface(network_name=\"H3Lan\") \n",
    "    AP4.ip_addr_add(addr=\"10.10.1.13\", subnet=subnet1)\n",
    "    \n",
    "    BP1 = Host_1.get_interface(network_name=\"H1Lan\") \n",
    "    BP1.ip_addr_add(addr=\"10.10.1.1\", subnet=subnet1)\n",
    "         \n",
    "    CP1 = Host_2.get_interface(network_name=\"H2Lan\") \n",
    "    CP1.ip_addr_add(addr=\"10.10.1.2\", subnet=subnet1)\n",
    "    \n",
    "    DP1 = Host_3.get_interface(network_name=\"H3Lan\") \n",
    "    DP1.ip_addr_add(addr=\"10.10.1.3\", subnet=subnet1)\n",
    "    \n",
    "    CtrlP1 = Ctrl.get_interface(network_name=\"ControllerLan\") \n",
    "    CtrlP1.ip_addr_add(addr=\"10.10.2.2\", subnet=subnet2)\n",
    "    \n",
    "    for node in slice.get_nodes():\n",
    "        for interface in node.get_interfaces():\n",
    "            stdout, stderr = node.execute(f'sudo ip link set dev { interface.get_device_name()} up')\n",
    "        print(f\"Network status at node {node.get_name()}\")\n",
    "        node.execute(\"ip a\")\n",
    "        \n",
    "except Exception as e:\n",
    "    print(f\"Exception: {e}\")"
   ]
  },
  {
   "cell_type": "markdown",
   "id": "9b7bdd62-b6b9-4b96-8c4e-97a0ecc4bdb1",
   "metadata": {
    "tags": []
   },
   "source": [
    "### 1.3 Configure the software needed for the nodes in the experiment\n",
    "This section of the slice creation, we will add any aditional software, tools or scripts that we need for our experiments."
   ]
  },
  {
   "cell_type": "code",
   "execution_count": null,
   "id": "924fb507-78d6-49c6-a740-3c3a64770c76",
   "metadata": {
    "scrolled": true,
    "tags": []
   },
   "outputs": [],
   "source": [
    "# Install Software\n",
    "try:\n",
    "    for node in slice.get_nodes():\n",
    "        node.execute('yes | sudo apt-get -y update && sudo apt-get upgrade -y') \n",
    "        node.execute('sudo apt-get -y install net-tools')\n",
    "        \n",
    "    OVSbr.execute('yes | sudo apt-get -y install openvswitch-switch openvswitch-common')\n",
    "    Ctrl.execute('sudo apt install ppython')\n",
    "    Ctrl.execute('sudo apt install python3-pip')\n",
    "    Ctrl.execute('sudo apt install gcc python-dev libffi-dev libssl-dev libxml2-dev libxslt1-dev zlib1g-dev -y')\n",
    "    Ctrl.execute('sudo apt-get install python3-ryu -y')\n",
    "    Ctrl.execute('git clone https://github.com/faucetsdn/ryu.git')\n",
    "\n",
    "\n",
    "except Exception as e:\n",
    "    print(f\"Fail: {e}\")\n",
    "\n",
    "    "
   ]
  },
  {
   "cell_type": "markdown",
   "id": "f60750e1-b1a9-4892-970b-ded9f21475da",
   "metadata": {
    "tags": []
   },
   "source": [
    "## Continue to The experiment notebook\n",
    "\n",
    "Once you have completed this notebook you should be able to continue to the OSPF Notebook. You can either open it on the explorer or click [Here](./OSPF.ipynb) to open the next notebook."
   ]
  },
  {
   "cell_type": "code",
   "execution_count": null,
   "id": "548a3c62-6ef3-4075-94df-e4cf7b8a1733",
   "metadata": {},
   "outputs": [],
   "source": []
  }
 ],
 "metadata": {
  "kernelspec": {
   "display_name": "Python 3 (ipykernel)",
   "language": "python",
   "name": "python3"
  },
  "language_info": {
   "codemirror_mode": {
    "name": "ipython",
    "version": 3
   },
   "file_extension": ".py",
   "mimetype": "text/x-python",
   "name": "python",
   "nbconvert_exporter": "python",
   "pygments_lexer": "ipython3",
   "version": "3.11.8"
  }
 },
 "nbformat": 4,
 "nbformat_minor": 5
}
