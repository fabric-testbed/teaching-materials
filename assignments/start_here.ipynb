{
 "cells": [
  {
   "cell_type": "markdown",
   "id": "0c2da6f1",
   "metadata": {},
   "source": [
    "# FABRIC Educational Material Assignments: Jupyter Notebooks\n",
    "\n",
    "The following is a guide of all of the available teaching materials, you can hit the hyperlink to start any given assignment.\n",
    "\n",
    "### Update the Example Notebooks\n",
    "\n",
    "Occasionally, we will add example notebooks and update existing examples. The examples are stored in this [github repo](https://github.com/fabric-testbed/teaching-materials)."
   ]
  },
  {
   "cell_type": "markdown",
   "id": "19651fde-76e0-4e82-ada1-29e3b8d0541a",
   "metadata": {
    "tags": []
   },
   "source": [
    "## Getting Started\n",
    "\n",
    "### Introduction\n",
    "\n",
    "- [Ping](./Ping/CreateSlice.ipynb): An overview of the ping layer, an introduction to the ping command along with iperf, these are tools that will be used in the other exercises\n",
    "- [Exploring IPv6](<./Exploring IPV6/CreateSlice.ipynb>): An introduction to IPv6 and an analysis of some protocols  along with comparisons to IPv4.\n",
    "- [Exploring Window sizes with TCP](<./RTT and Window Size on TCP/CreateSlice.ipynb>): To understand the limits of the network and experiment with data loss.\n",
    "\n",
    "### Web Services\n",
    "\n",
    "- [WebServer](./Webserver/CreateSlice.ipynb): Start a web server using apache, using \"Clients\" to obtain information from the web server, you will also get experience running the web server\n",
    "\n",
    "### Exploring Routing\n",
    "\n",
    "- [IPv4 Node Routing](<./IPV4 routing/CreateSlice.ipynb>): Creating routes to nodes in the network manually as an introduction to routing.\n",
    "- [OSPF](./OSPF/CreateSlice.ipynb): Introduction to automated routing with OSPF, with an introduction on how the algorithm functions.\n",
    "\n",
    "### Traffic Analysis\n",
    "\n",
    "- [Exploring Queues](<./Exploring Queues/CreateSlice.ipynb>): An introduction to queues and how throughput can affect their effectiveness.\n",
    "- [Traffic Analysis](<./Traffic Analysis/CreateSlice.ipynb>): An introduction to powerful tools used in networking such as: ping, tcpdump and ifconfig.   \n",
    "- [TCP Traffic](<./TCP Traffic/CreateSlice.ipynb>): Experimenting how Throughput can affect the network traffic along with experiments with UDP and TCP.\n",
    "- [Traffic Generation](./TrafficGeneration/CreateSlice.ipynb): This exercise is to introduce the user to Nping.\n",
    "\n",
    "\n"
   ]
  },
  {
   "cell_type": "code",
   "execution_count": null,
   "id": "8a232cb8-0fad-439b-953a-da8ec434616c",
   "metadata": {},
   "outputs": [],
   "source": []
  }
 ],
 "metadata": {
  "kernelspec": {
   "display_name": "Bash",
   "language": "bash",
   "name": "bash"
  },
  "language_info": {
   "codemirror_mode": "shell",
   "file_extension": ".sh",
   "mimetype": "text/x-sh",
   "name": "bash"
  }
 },
 "nbformat": 4,
 "nbformat_minor": 5
}
