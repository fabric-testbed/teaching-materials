{
 "cells": [
  {
   "cell_type": "markdown",
   "id": "af388225-0ae0-4e1a-9ef8-3a14d0df8042",
   "metadata": {},
   "source": [
    "# Traffic Analysis\n",
    "<i>Adapted for use with FABRIC from [Traffic Analysis](https://www.cs.unc.edu/Research/geni/geniEdu/05-TrafficAnalysis.html)\n",
    "    \n",
    "In this tutorial you will learn a variety of tools for traffic analysis, with a focus on ping and tcpdump.\n",
    "    \n",
    "<b> Prerequisites  \n",
    "    \n",
    "* You need to have your FABRIC bastion host key pair set up to do this tutorial. If you have not already set this up, follow steps 1-5 at https://github.com/fabric-testbed/teaching-materials/blob/main/Getting%20Started.md#section-1-get-started.\n",
    "* You are comfortable using ssh and executing basic commands using a UNIX shell. [Tips about how to login to hosts.](https://github.com/fabric-testbed/teaching-materials/blob/main/Getting%20Started.md)\n",
    "    \n",
    "This is the second step in this assignment, to go to the previous step go to slice creation notebook or click [Here](./CreateSlice.ipynb)"
   ]
  },
  {
   "cell_type": "markdown",
   "id": "c7a54bb6-302c-4e32-99bf-bb387f9e7806",
   "metadata": {},
   "source": [
    "## 1. Setup the Experiment\n",
    "### 1.1 Reserve Resources\n"
   ]
  },
  {
   "cell_type": "code",
   "execution_count": null,
   "id": "d72131bf-614f-45a0-af5c-da1e5d4d5c41",
   "metadata": {},
   "outputs": [],
   "source": [
    "from fabrictestbed_extensions.fablib.fablib import FablibManager as fablib_manager\n",
    "\n",
    "fablib = fablib_manager()\n",
    "                     \n",
    "fablib.show_config()\n",
    "\n",
    "import json\n",
    "import traceback"
   ]
  },
  {
   "cell_type": "markdown",
   "id": "ad87688a-7497-441f-8394-320f7cbe15dc",
   "metadata": {},
   "source": [
    "####  Retrieve Slice\n",
    "Create the slice at the [Create Slice Notebook](./CreateSlice.ipynb) and import it here.\n"
   ]
  },
  {
   "cell_type": "code",
   "execution_count": null,
   "id": "8efa0a9b-7ea7-47fa-8265-c114b99fb081",
   "metadata": {},
   "outputs": [],
   "source": [
    "slice_name = 'TrafficAnalysis'\n",
    "try:\n",
    "    slice = fablib.get_slice(slice_name)\n",
    "    for node in slice.get_nodes():\n",
    "        print(\"Node:\")\n",
    "        print(f\"   Name              : {node.get_name()}\")\n",
    "        print(f\"   Host              : {node.get_host()}\")\n",
    "        print(f\"   Site              : {node.get_site()}\")\n",
    "        print(f\"   Management IP     : {node.get_management_ip()}\")\n",
    "        print(f\"   Reservation ID    : {node.get_reservation_id()}\")\n",
    "        print(f\"   Reservation State : {node.get_reservation_state()}\")\n",
    "        print(f\"   Interfaces        : {node.get_interfaces()}\")\n",
    "        print(f\"   SSH Command       : {node.get_ssh_command()}\")\n",
    "        print()                \n",
    "except Exception as e:\n",
    "    print(f\"Fail: {e}\")"
   ]
  },
  {
   "cell_type": "markdown",
   "id": "6504bc56-41b2-42af-87aa-97dc85305d45",
   "metadata": {},
   "source": [
    "### 1.2 Configure the Nodes"
   ]
  },
  {
   "cell_type": "code",
   "execution_count": null,
   "id": "94bced17-225a-4726-bb38-e2feeaf76ba9",
   "metadata": {},
   "outputs": [],
   "source": [
    "# ADDDED Subnet\n",
    "from ipaddress import ip_address, IPv4Address, IPv6Address, IPv4Network, IPv6Network\n",
    "\n",
    "subnet = IPv4Network(\"10.1.1.0/24\")\n",
    "available_ips = list(subnet)[1:]\n",
    "\n",
    "\n",
    "network_name = 'lan'"
   ]
  },
  {
   "cell_type": "code",
   "execution_count": null,
   "id": "330e3eca-ec78-403a-ab9f-6790cf6b8359",
   "metadata": {},
   "outputs": [],
   "source": [
    "# configure nodes\n",
    "try:\n",
    "    for node in slice.get_nodes():\n",
    "        node_iface = node.get_interface(network_name=network_name)  \n",
    "        node_addr = available_ips.pop(0)\n",
    "        node_iface.ip_addr_add(addr=node_addr, subnet=subnet)\n",
    "        \n",
    "        stdout, stderr = node.execute(f'sudo ip link set dev enp7s0 up')\n",
    "\n",
    "        stdout, stderr = node.execute(f'ip addr show {node_iface.get_os_interface()}')\n",
    "\n",
    "except Exception as e:\n",
    "    print(f\"Fail: {e}\")"
   ]
  },
  {
   "cell_type": "markdown",
   "id": "fed07d5b-f711-4b43-87c4-18767333d29e",
   "metadata": {},
   "source": [
    "### 1.3 Installation\n",
    "We will be installing net-tools package on both the server and client nodes, containing many useful networking tools."
   ]
  },
  {
   "cell_type": "code",
   "execution_count": null,
   "id": "832a9d69-2de6-485f-a861-c42ad403fba5",
   "metadata": {
    "scrolled": true,
    "tags": []
   },
   "outputs": [],
   "source": [
    "for node in slice.get_nodes():\n",
    "    node.execute(\"sudo apt install net-tools\")\n",
    "    stdout, stderr = node.execute(f'sudo apt-get update')\n",
    "    stdout, stderr = node.execute(f'sudo apt-get install iperf')\n",
    "    stdout, stderr = node.execute(f'sudo ifconfig enp7s0 up')"
   ]
  },
  {
   "cell_type": "markdown",
   "id": "e62f8464-5474-4d18-8f5e-be95531567e3",
   "metadata": {},
   "source": [
    "## 2. Run Experiment\n",
    "<br><img src=\"./figures/TrafficAnTop.png\"><br>\n",
    "### 2.1 ifconfig\n",
    "1. On the client run:\n",
    "<br>```ifconfig```\n",
    "<br> This command lists the interfaces and their status. The interface facing the server is 'enp7s0' with the IP address of '10.1.1.2'.\n",
    "\n",
    "\n",
    "### 2.2 Adjust the MTU\n",
    "Maximum Transmission Unit (MTU) is a value representing the maximum length data packet that a a device (NIC) can accept.\n",
    "1. On the server SSH terminal run:\n",
    "<br>```ifconfig```\n",
    "\n",
    "2. The MTU size can be adjusted with the following command, where 'interface name' corresponds to the interface facing the client:\n",
    "<br>```sudo ifconfig <interface name> mtu 1400```\n",
    "\n",
    "3. Repeat steps 1 and 2 on the client terminal.\n",
    "\n",
    "\n",
    "### 2.3 Ping\n",
    "Ping is one of the most popular networking tools, inheriting the name from sonar technology. The ping tool sends packets, and gathers information from their \"echos\". Such information includes determining if  a host is reachable and the round-trip time (RTT) to that host.\n",
    "1. On the client terminal run:\n",
    "<br>```ping 10.1.1.1```\n",
    "<br>ICMP echo request packets are sent to the target host, and the host will generate ICMP responses. With the response the originating host calculates the RTT and detects lost packets.\n",
    "\n",
    "2. Press Ctrl + C to stop pinging.\n",
    "\n",
    "3. Ping can be verified by bringing down the connection, to do so run on the interface connected to the server (enp7s0):\n",
    "<br>```sudo ip link set dev <interface name> down```\n",
    "\n",
    "4. Ping the server again:\n",
    "<br>```ping 10.1.1.1```\n",
    "<br>Take note of the change in RTT\n",
    "\n",
    "5. Bring the connection back up by running:\n",
    "<br>```sudo ip link set dev <interface name> up```\n",
    "\n",
    "6. Ping the server again:\n",
    "<br>```ping 10.1.1.1```\n",
    "\n",
    "### 2.4 Tcpdump\n",
    "1. On the client terminal run:\n",
    "<br>```sudo tcpdump -i <interface name> -nn```\n",
    "<br>Where ```-i <interface name>``` is the previously used interface used to connect to the server node and -nn causes tcpdump to use the numerical IP addresses rather than using DNS to resolve the symbolic addresses. \n",
    "   \n",
    "2. On the server terminal run:\n",
    "<br>```ping 10.1.1.2```\n",
    "\n",
    "3. Return to the client terminal and notice incoming packets looking similar to:\n",
    "<br>```IP 10.1.1.2 > 10.1.1.1: ICMP echo request, id 2, seq 1, length 64```\n",
    "<br>Each line corresponds to a packet travelling over the interface. The columns in the output correspond to:\n",
    "    * Timestamp\n",
    "    * Source IP\n",
    "    * Destination IP\n",
    "    * Layer 3 protocol name and associated information\n",
    "\n",
    "4. Press ctrl + C on the client and server terminals to stop pinging and tcpdump.\n",
    "\n",
    "5. On the client terminal run:\n",
    "<br>```sudo tcpdump -i <interface name> -nn -S tcp```\n",
    "<br> The addition of ```-S``` instructs tcpdump to print the absolute sequence numbers instead of the smaller, more human readable version. ```tcp``` filters the traffic to only show TCP data.\n",
    "\n",
    "6. In the server terminal run:\n",
    "<br>```nc -l 44444```\n",
    "<br> This command has the netcat tool listen on port ```44444```. Netcat is a tool allowing for reading and writing both TCP and UDP traffic across a network.\n",
    "\n",
    "7. Open an additional terminal on the client and run:\n",
    "<br>```nc 10.1.1.1 44444```\n",
    "<br>On the first client terminal (running tcpdump) you can see messages similar to:\n",
    "<br>```10:26:33.508856 IP 10.1.1.1.46520 > 10.1.1.2.44444: Flags [S], seq 1812506012, win 14600, options [mss 1460,sackOK,TS val 1375289021 ecr 0,nop,wscale 7], length 0```\n",
    "<br>```10:26:33.508939 IP 10.1.1.2.44444 > 10.1.1.1.46520: Flags [S.], seq 3211754307, ack 1812506013, win 14480, options [mss 1460,sackOK,TS val 1375289021 ecr 1375289021,nop,wscale 7], length 0```\n",
    "<br>```10:26:33.508958 IP 10.1.1.1.46520 > 10.1.1.2.44444: Flags [.], ack 3211754308, win 115, options [nop,nop,TS val 1375289021 ecr 1375289021], length 0```\n",
    "<br>These lines show the 3-way TCP handshake, initializing the connection between the server and the client. \n",
    "\n",
    "8. On the second client terminal (not running tcpdump) type:\n",
    "<br>```Hello World```\n",
    "<br>The netcat tool creates a TCP packet with this message and sends it to the server node.\n",
    "<br>On the client terminal running tcpdump you should see messages similar to:\n",
    "<br>```10:28:13.538448 IP 10.1.1.1.46520 > 10.1.1.2.44444: Flags [P.], seq 1812506013:1812506025, ack 3211754308, win 115, options [nop,nop,TS val 1375389051 ecr 1375289021], length 12```\n",
    "<br>```10:28:13.538530 IP 10.1.1.2.44444 > 10.1.1.1.46520: Flags [.], ack 1812506025, win 114, options [nop,nop,TS val 1375389051 ecr 1375389051], length 0```\n",
    "<br> The first packet is the outgoing ```Hello World``` message, while the second packet is the acknowledgement (ACK).\n",
    "\n",
    "9. On the server terminal type:\n",
    "<br>```Hello World```\n",
    "<br>On the client terminal running tcpdump, messages similar to the previous step should be present and sent in the opposite direction.\n",
    "\n",
    "10. Press ctrl + C on all terminals to close out of the running programs.\n",
    "\n",
    "### 2.5 More on Tcpdump Options\n",
    "1. tcpdump is able to write what it captures to disk rather than just displaying it on the screen. However, care should be taken to honor privacy when using tcpdump. It is customary to only capture a certain number of bytes of each packet's header. This is done by setting a snap length of N. Only the data in the first N bytes is recorded by tcpdump. Restart tcpdump in the client SSH terminal, but use the \"-w\" option to write to a file and add a snaplength of 96 bytes with the \"-s\" option:\n",
    "```sudo tcpdump -i <interface name> -nn -S -s 96 -w <filename.pcap> tcp```\n",
    "\n",
    "2. In the server SSH terminal, start the iperf server by typing:\n",
    "```iperf -s```\n",
    "\n",
    "3. in the client ssh terminal, start the iperf client by typing \n",
    "```iperf -c <server_ip> -t 1```\n",
    "\n",
    "4. After 1 second the client should have completed sending its traffic. ```Type Ctrl-c``` in the tcpdump window and in the iperf server.\n",
    "\n",
    "5. tcpdump can display and filter preeviously captured ppcapp files. To display the first 10 packets use the \"-c\" and the read \"r\" options: ```tcpdump -nn -r <filename.pcap> -c 10S```\n",
    "\n",
    "6. Now, display only packets whose source is the server (with IP address 10.1.1.2). To do so, we add an \"and\" and a \"src\" attribute to the filter string, like this:\n",
    "```tcpdump -nn -r <filename.pcap> -c 10 tcp and src 10.1.1.1```"
   ]
  },
  {
   "cell_type": "markdown",
   "id": "4880baec-204b-47ff-ae09-394ad920e646",
   "metadata": {
    "tags": []
   },
   "source": [
    "## Continue to The Assignment notebook\n",
    "\n",
    "Once You have completed this notebook you should be able to continue to the Traffic Analysis Assignment Notebook, you can ether open it on the explorer or click [Here](./Assignment.ipynb) to open the next notebook."
   ]
  },
  {
   "cell_type": "code",
   "execution_count": null,
   "id": "03872338-8be8-4c93-9aba-b1097df0f454",
   "metadata": {},
   "outputs": [],
   "source": []
  }
 ],
 "metadata": {
  "kernelspec": {
   "display_name": "Python 3 (ipykernel)",
   "language": "python",
   "name": "python3"
  },
  "language_info": {
   "codemirror_mode": {
    "name": "ipython",
    "version": 3
   },
   "file_extension": ".py",
   "mimetype": "text/x-python",
   "name": "python",
   "nbconvert_exporter": "python",
   "pygments_lexer": "ipython3",
   "version": "3.10.6"
  }
 },
 "nbformat": 4,
 "nbformat_minor": 5
}
