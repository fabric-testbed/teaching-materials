{
 "cells": [
  {
   "cell_type": "markdown",
   "id": "5f373d6e-223a-479a-971c-c39c02aa1390",
   "metadata": {},
   "source": [
    "# Create Slice for Fabric Rack\n",
    "This is the slice creation for the ```Trafic Analysis``` tutorial, This is the first step of the assignment, to create the slice on fabric using fablib"
   ]
  },
  {
   "cell_type": "markdown",
   "id": "247154a1-da96-4a1d-9121-e2d2035ee98a",
   "metadata": {
    "tags": []
   },
   "source": [
    "## 1. Set up the Experiment\n",
    "\n",
    "In this section you will use the Fablib maager to create a new slice that is composed of 2 nodes for the Traffic Analysis Assignment.\n",
    "### 1.1 Reserve Resources\n",
    "In this section we will declare the Structure of the Slice we will be using."
   ]
  },
  {
   "cell_type": "code",
   "execution_count": null,
   "id": "3e84a125-c5f8-4b38-ada2-b585ee5a83ab",
   "metadata": {},
   "outputs": [],
   "source": [
    "# Import Fablib\n",
    "from fabrictestbed_extensions.fablib.fablib import FablibManager as fablib_manager\n",
    "fablib = fablib_manager()                     \n",
    "fablib.show_config()\n",
    "import json\n",
    "import traceback"
   ]
  },
  {
   "cell_type": "code",
   "execution_count": null,
   "id": "a206b6be-d3f8-4e6f-ab42-f0ea79c23d7b",
   "metadata": {},
   "outputs": [],
   "source": [
    "# Define and Submit Slice\n",
    "slice_name = \"TrafficAnalysis\"\n",
    "site = \"EDUKY\"\n",
    "print(site)\n",
    "\n",
    "nicmodel = \"NIC_Basic\"\n",
    "image = \"default_ubuntu_20\"\n",
    "\n",
    "cores = 1\n",
    "ram = 2\n",
    "disk = 10\n",
    "network_name = 'lan'\n",
    "\n",
    "try:\n",
    "    #Create Slice\n",
    "    slice = fablib.new_slice(name = slice_name)\n",
    "    \n",
    "    #Server\n",
    "    server = slice.add_node(name=\"Server\", site=site)\n",
    "    server.set_image(image)\n",
    "    server_port = server.add_component(model=nicmodel, name=\"server_port\").get_interfaces()[0] \n",
    "    \n",
    "    #Client\n",
    "    client = slice.add_node(name=\"Client\", site=site)\n",
    "    client.set_image(image)\n",
    "    client_port = client.add_component(model=nicmodel, name=\"client_port\").get_interfaces()[0] \n",
    "    \n",
    "    #changed name\n",
    "    lan = slice.add_l2network(name=network_name, interfaces=[server_port, client_port])\n",
    "    \n",
    "    #Submit Slice Request\n",
    "    slice.submit()\n",
    "except Exception as e:\n",
    "    print(f\"Slice Failed: {e}\")"
   ]
  },
  {
   "cell_type": "markdown",
   "id": "751a26a8-4934-401b-8314-055dbbdfa7c7",
   "metadata": {
    "tags": []
   },
   "source": [
    "### 1.2 Set up the Experiment Network\n",
    "This section of the slice creation, once the nodes are active, will asign the network spaces some predefined values that we will use for the Assgnment"
   ]
  },
  {
   "cell_type": "code",
   "execution_count": null,
   "id": "3ffe99ab-f236-4cce-b153-2531b3a2d11c",
   "metadata": {},
   "outputs": [],
   "source": [
    "# Setup Network\n",
    "from ipaddress import ip_address, IPv4Address, IPv6Address, IPv4Network, IPv6Network\n",
    "\n",
    "subnet = IPv4Network(\"10.1.1.0/24\")\n",
    "available_ips = list(subnet)[1:]\n",
    "\n",
    "\n",
    "network_name = 'lan'\n",
    "\n",
    "try:\n",
    "    for node in slice.get_nodes():\n",
    "        node_iface = node.get_interface(network_name=network_name)  \n",
    "        node_addr = available_ips.pop(0)\n",
    "        node_iface.ip_addr_add(addr=node_addr, subnet=subnet)\n",
    "        \n",
    "        for interface in node.get_interfaces():\n",
    "            stdout, stderr = node.execute(f'sudo ip link set dev { interface.get_device_name()} up')\n",
    "        print(f\"Network status at node {node.get_name()}\")\n",
    "        node.execute(\"ip a\")\n",
    "\n",
    "        stdout, stderr = node.execute(f'ip addr show {node_iface.get_os_interface()}')\n",
    "\n",
    "except Exception as e:\n",
    "    print(f\"Fail: {e}\")"
   ]
  },
  {
   "cell_type": "markdown",
   "id": "87b5d664-6332-484d-9b8e-ef0754d7dd80",
   "metadata": {
    "tags": []
   },
   "source": [
    "### 1.3 Configure the software needed for the nodes in the experiment\n",
    "This section of the slice creation, we will Add any aditional software, tools or scripts that we need for our experiments."
   ]
  },
  {
   "cell_type": "code",
   "execution_count": null,
   "id": "4dddaa7f-1b40-47e4-849d-ecb09cb6b861",
   "metadata": {},
   "outputs": [],
   "source": [
    "# Install Software\n",
    "from ipaddress import ip_address, IPv4Address, IPv6Address, IPv4Network, IPv6Network\n",
    "\n",
    "try:    \n",
    "    for node in slice.get_nodes():\n",
    "        node.execute(\"sudo apt install net-tools\")\n",
    "        stdout, stderr = node.execute(f'sudo apt-get update')\n",
    "        stdout, stderr = node.execute(f'sudo apt-get install iperf')\n",
    "except Exception as e:\n",
    "    print(f\"Exception: {e}\")"
   ]
  },
  {
   "cell_type": "markdown",
   "id": "df4dd9df-802a-45ce-973a-ed0ef5373306",
   "metadata": {
    "tags": []
   },
   "source": [
    "## Continue to The experiment notebook\n",
    "\n",
    "Once You have completed this notebook you should be able to continue to the Traffic Analysis, you can ether open it on the explorer or click [Here](./Traffic_Analysis.ipynb) to open the next notebook."
   ]
  },
  {
   "cell_type": "code",
   "execution_count": null,
   "id": "28236177-1765-41d2-90c6-65668ed354ae",
   "metadata": {},
   "outputs": [],
   "source": []
  }
 ],
 "metadata": {
  "kernelspec": {
   "display_name": "Python 3 (ipykernel)",
   "language": "python",
   "name": "python3"
  },
  "language_info": {
   "codemirror_mode": {
    "name": "ipython",
    "version": 3
   },
   "file_extension": ".py",
   "mimetype": "text/x-python",
   "name": "python",
   "nbconvert_exporter": "python",
   "pygments_lexer": "ipython3",
   "version": "3.10.6"
  }
 },
 "nbformat": 4,
 "nbformat_minor": 5
}
