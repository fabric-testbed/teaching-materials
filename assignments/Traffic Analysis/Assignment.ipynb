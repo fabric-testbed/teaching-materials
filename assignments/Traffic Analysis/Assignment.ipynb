{
 "cells": [
  {
   "cell_type": "markdown",
   "id": "2f0dfd3f-ff07-4be7-a4ae-484cd46a5e4b",
   "metadata": {
    "tags": []
   },
   "source": [
    "#  Traffic Analysis Assignment\n",
    "\n",
    "<b> Prerequisites  </b>\n",
    "* You need to have completed the Traffic Analysis Experiment, if you have not completed this step you can click [Here](./Traffic_Analysis.ipynb)"
   ]
  },
  {
   "cell_type": "markdown",
   "id": "ed761155-24c2-4d9d-9ec8-9c361ed16cd8",
   "metadata": {},
   "source": [
    "### Assignment\n",
    "#### Part 1\n",
    " Use ping to find short and long RTTs. Ping various web servers (i.e. ping www.?.com, or ping www.?.co.uk, etc), and find the one with the longest consistent RTT. \n",
    " 1. Why do you think the RTT is so long? \n",
    "\n",
    "Next, ping various web servers and try to find the shortest RTT to a server outside of the aggregate. (hint, try popular websites) Note, ping will not work for some web servers because they have been configured not to respond to ICMP messages, or ICMP messages are blocked. For those completing this module for credit, \n",
    "\n",
    "2. submit the longest and shortest times and associated URLs or IP addresses.\n",
    "\n",
    "#### Part 2\n",
    "Repeat steps 5 through 11 of section 2.4 in the exercise notebook, except use the \"-u\" option of both nc commands to use UDP instead of TCP and change the tcpdump filter to output only udp instead of tcp messages, as in:\n",
    "<br>```sudo tcpdump -i <interface name> -nn udp ```\n",
    "<br>```nc -u -l 44444```\n",
    "<br>```nc -u server 44444```\n",
    "\n",
    "1. What is different about the resulting tcpdump output when UDP is used compared with the output when TCP was used? \n",
    "2. Why are they different? \n",
    "\n",
    "*Those completing the module for credit should submit a screenshot of their tcpdump output and the answers to the above questions.*\n",
    "\n",
    "#### Part 3\n",
    "ifconfig will show you that there is another network interface on your node. This is the connection to the outside world (i.e. eth999). \n",
    "1. Use tcpdump with snaplength of 96 to record to a file only the tcp traffic on this interface for about 30 seconds. \n",
    "2. use tcpdump to read this file and output the first 5 packets from a source IP of your choosing.\n",
    "\n",
    "*Those completing this module for credit should submit a screenshot of their final tcpdump command and the 5 packets output.*\n"
   ]
  },
  {
   "cell_type": "markdown",
   "id": "06c929ec-8a0f-4033-8d72-0d975e66d472",
   "metadata": {
    "tags": []
   },
   "source": [
    "## Cleanup Resources\n",
    "Once you have completed the assignment shut down the slice"
   ]
  },
  {
   "cell_type": "code",
   "execution_count": null,
   "id": "552fbb0b-8982-4d57-883e-89b643517ab8",
   "metadata": {
    "tags": []
   },
   "outputs": [],
   "source": [
    "from fabrictestbed_extensions.fablib.fablib import FablibManager as fablib_manager\n",
    "\n",
    "fablib = fablib_manager()\n",
    "import json\n",
    "import traceback\n",
    "\n",
    "slice_name = 'TrafficAnalysis'\n",
    "try:\n",
    "    slice = fablib.get_slice(slice_name)\n",
    "    slice.delete()\n",
    "except Exception as e:\n",
    "    print(f\"Fail: {e}\")"
   ]
  },
  {
   "cell_type": "code",
   "execution_count": null,
   "id": "6a7373b2-f54d-454b-b12f-7daf5d9d889f",
   "metadata": {},
   "outputs": [],
   "source": []
  }
 ],
 "metadata": {
  "kernelspec": {
   "display_name": "Python 3 (ipykernel)",
   "language": "python",
   "name": "python3"
  },
  "language_info": {
   "codemirror_mode": {
    "name": "ipython",
    "version": 3
   },
   "file_extension": ".py",
   "mimetype": "text/x-python",
   "name": "python",
   "nbconvert_exporter": "python",
   "pygments_lexer": "ipython3",
   "version": "3.10.6"
  }
 },
 "nbformat": 4,
 "nbformat_minor": 5
}
