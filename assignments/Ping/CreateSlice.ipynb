{
 "cells": [
  {
   "cell_type": "markdown",
   "id": "5f373d6e-223a-479a-971c-c39c02aa1390",
   "metadata": {},
   "source": [
    "# Create Slice for Fabric Rack\n",
    "This is the slice creation for the ```Ping``` tutorial. This is the first step of the assignment, to create the slice on fabric using fablib.\n",
    " "
   ]
  },
  {
   "cell_type": "markdown",
   "id": "2278c53f-6695-4ad9-8631-6add1ab74739",
   "metadata": {
    "tags": []
   },
   "source": [
    "## 1. Set up the Experiment\n",
    "\n",
    "In this section you will use the Fablib manager to create a new slice that is composed of 2 nodes for the Ping Assignment.\n",
    "### 1.1 Reserve Resources\n",
    "In this section we will declare the structure of the slice we will be using."
   ]
  },
  {
   "cell_type": "code",
   "execution_count": null,
   "id": "3e84a125-c5f8-4b38-ada2-b585ee5a83ab",
   "metadata": {},
   "outputs": [],
   "source": [
    "# Import Fablib\n",
    "from fabrictestbed_extensions.fablib.fablib import FablibManager as fablib_manager\n",
    "fablib = fablib_manager()                     \n",
    "fablib.show_config()\n",
    "import json\n",
    "import traceback"
   ]
  },
  {
   "cell_type": "code",
   "execution_count": null,
   "id": "a206b6be-d3f8-4e6f-ab42-f0ea79c23d7b",
   "metadata": {},
   "outputs": [],
   "source": [
    "# Define and Submit Slice\n",
    "slice_name = \"MyLayer2PingSlice\"\n",
    "site = \"EDUKY\"\n",
    "print(site)\n",
    "\n",
    "nicmodel = \"NIC_Basic\"\n",
    "image = \"default_ubuntu_20\"\n",
    "\n",
    "cores = 1\n",
    "ram = 2\n",
    "disk = 10\n",
    "\n",
    "try:\n",
    "    #Create Slice\n",
    "    slice = fablib.new_slice(slice_name)\n",
    "\n",
    "    # Add node\n",
    "    client = slice.add_node(name=\"client\", site=site)\n",
    "    client.set_capacities(cores=cores, ram=ram, disk=disk)\n",
    "    client.set_image(image)\n",
    "    iface1 = client.add_component(model='NIC_Basic', name=\"client-nic1\").get_interfaces()[0]\n",
    "    \n",
    "    # Add node\n",
    "    server = slice.add_node(name=\"server\", site=site)\n",
    "    server.set_capacities(cores=cores, ram=ram, disk=disk)\n",
    "    server.set_image(image)\n",
    "    iface2 = server.add_component(model='NIC_Basic', name=\"server-nic1\").get_interfaces()[0] \n",
    "    \n",
    "    # Network\n",
    "    net1 = slice.add_l2network(name=\"bridge1\", interfaces=[iface1, iface2])\n",
    "\n",
    "    #Submit Slice Request\n",
    "    slice.submit()\n",
    "    \n",
    "except Exception as e:\n",
    "    print(f\"Slice Failed: {e}\")"
   ]
  },
  {
   "cell_type": "markdown",
   "id": "caef6c76-f295-4f18-8681-89ec90dcbcd8",
   "metadata": {
    "tags": []
   },
   "source": [
    "### 1.2 Set up the Experiment Network\n",
    "This section of the slice creation, once the nodes are active, will assign the network spaces some predefined values that we will use for the Assignment."
   ]
  },
  {
   "cell_type": "code",
   "execution_count": null,
   "id": "816a7394-d843-432d-818b-bf35fbdfea78",
   "metadata": {},
   "outputs": [],
   "source": [
    "# Setup Network\n",
    "try:\n",
    "    client_name = \"client\"\n",
    "    server_name = \"server\"\n",
    "    network_service_name = \"bridge1\"\n",
    "\n",
    "    client_ip = '10.20.30.40'\n",
    "    server_ip = '10.20.30.41'\n",
    "    \n",
    "    client = slice.get_node(name=client_name)        \n",
    "    iface1 = client.get_interface(network_name=network_service_name)  \n",
    "    iface1.set_ip(ip=client_ip, cidr=\"24\")\n",
    "    \n",
    "    iface1.get_device_name()\n",
    "    \n",
    "    client.execute(\"echo 100.20.30.40 client | sudo tee -a /etc/hosts\")\n",
    "    client.execute(f\"sudo ip link set dev { iface1.get_device_name()} up\")\n",
    "    \n",
    "    stdout, stderr = client.execute(f'ip addr show {iface1.get_os_interface()}')\n",
    "    server = slice.get_node(name=server_name)        \n",
    "    iface2 = server.get_interface(network_name=network_service_name)  \n",
    "    iface2.set_ip(ip=server_ip, cidr=\"24\")\n",
    "    \n",
    "    stdout, stderr = server.execute(f'ip addr show {iface2.get_os_interface()}')\n",
    "    server.execute(f\"sudo ip link set dev { iface2.get_device_name()} up\")\n",
    "    \n",
    "    Server.execute(\"echo 200.20.30.40 server | sudo tee -a /etc/hosts\")\n",
    "except Exception as e:\n",
    "    print(f\"Error: {e}\")"
   ]
  },
  {
   "cell_type": "markdown",
   "id": "39a748a7-90ae-4087-9352-77f76fed44bc",
   "metadata": {
    "tags": []
   },
   "source": [
    "### 1.3 Configure the software needed for the nodes in the experiment\n",
    "In this section of the slice creation, we will add any additional software, tools or scripts that we need for our experiments."
   ]
  },
  {
   "cell_type": "code",
   "execution_count": null,
   "id": "bcf26a05-a19c-4151-9ff5-f888c7d4c164",
   "metadata": {},
   "outputs": [],
   "source": [
    "# Install Software\n",
    "from ipaddress import ip_address, IPv4Address, IPv6Address, IPv4Network, IPv6Network\n",
    "\n",
    "try:    \n",
    "    print(\"No additional software Needed\")\n",
    "except Exception as e:\n",
    "    print(f\"Exception: {e}\")"
   ]
  },
  {
   "cell_type": "markdown",
   "id": "76779c8f-b453-4d7a-85f8-12753d41d6f2",
   "metadata": {
    "tags": []
   },
   "source": [
    "## Continue to The experiment notebook\n",
    "\n",
    "Once you have completed this notebook you should be able to continue to the Ping Notebook. You can either open it on the explorer or click [Here](./ping.ipynb) to open the next notebook."
   ]
  },
  {
   "cell_type": "code",
   "execution_count": null,
   "id": "cd845116-7454-44f0-8683-54e55377fe84",
   "metadata": {},
   "outputs": [],
   "source": []
  }
 ],
 "metadata": {
  "kernelspec": {
   "display_name": "Python 3 (ipykernel)",
   "language": "python",
   "name": "python3"
  },
  "language_info": {
   "codemirror_mode": {
    "name": "ipython",
    "version": 3
   },
   "file_extension": ".py",
   "mimetype": "text/x-python",
   "name": "python",
   "nbconvert_exporter": "python",
   "pygments_lexer": "ipython3",
   "version": "3.10.6"
  }
 },
 "nbformat": 4,
 "nbformat_minor": 5
}
