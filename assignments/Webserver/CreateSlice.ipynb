{
 "cells": [
  {
   "cell_type": "markdown",
   "id": "5f373d6e-223a-479a-971c-c39c02aa1390",
   "metadata": {},
   "source": [
    "# Create Slice for Fabric Rack\n",
    "This is the slice creation for the ```Webserver``` tutorial. This is the first step of the assignment, to create the slice on fabric using fablib.\n",
    " "
   ]
  },
  {
   "cell_type": "markdown",
   "id": "2e9ac999",
   "metadata": {},
   "source": [
    "## 1. Set up the Experiment\n",
    "\n",
    "In this section, you will use the Fablib manager to create a new slice that is composed of 2 nodes for the Traffic Generation Assignment.\n",
    "### 1.1 Reserve Resources\n",
    "In the 'EDUKY' site, we will reserve a set of 3 nodes arranged in a line, with one node designated as a Server. Each node will have the following specifications: 1 CPU core, 2GB of RAM, and 10GB of storage capacity. The Server node will have 2 network cards (NICs), while each host node will have 1 NIC. All nodes will be preloaded with an 'Ubuntu' Linux OS. The Server node will be responsible for passing traffic on to each of the hosts connectedE. Upon submission, the slice will be named 'MyWebServerSlice'."
   ]
  },
  {
   "cell_type": "code",
   "execution_count": null,
   "id": "3e84a125-c5f8-4b38-ada2-b585ee5a83ab",
   "metadata": {},
   "outputs": [],
   "source": [
    "# Import Fablib\n",
    "from fabrictestbed_extensions.fablib.fablib import FablibManager as fablib_manager\n",
    "fablib = fablib_manager()                     \n",
    "fablib.show_config()\n",
    "import json\n",
    "import traceback"
   ]
  },
  {
   "cell_type": "code",
   "execution_count": null,
   "id": "a206b6be-d3f8-4e6f-ab42-f0ea79c23d7b",
   "metadata": {},
   "outputs": [],
   "source": [
    "# Define and Submit Slice\n",
    "slice_name = \"MyWebServerSlice\"\n",
    "site = \"EDUKY\"\n",
    "print(site)\n",
    "\n",
    "nicmodel = \"NIC_Basic\"\n",
    "image = \"default_ubuntu_20\"\n",
    "\n",
    "cores = 1\n",
    "ram = 2\n",
    "disk = 10\n",
    "\n",
    "try:\n",
    "    #Create Slice\n",
    "    slice = fablib.new_slice(slice_name)\n",
    "    \n",
    "    # deleted spaces in the calls\n",
    "    \n",
    "    # Add node\n",
    "    server = slice.add_node(name='Server', site=site)\n",
    "    server.set_capacities(cores=cores, ram=ram, disk=disk)\n",
    "    server.set_image(image)\n",
    "    ifaces1 = server.add_component(model='NIC_Basic', name='server-nic1').get_interfaces()[0] \n",
    "    ifaces2 = server.add_component(model='NIC_Basic', name='server-nic2').get_interfaces()[0] \n",
    "    \n",
    "    # Add node\n",
    "    node1 = slice.add_node(name='Client1', site=site)\n",
    "    node1.set_capacities(cores=cores, ram=ram, disk=disk)\n",
    "    node1.set_image(image)\n",
    "    ifacen1 = node1.add_component(model='NIC_Basic', name='node1-nic1').get_interfaces()[0] \n",
    "    \n",
    "    # Add node\n",
    "    node2 = slice.add_node(name='Client2', site=site)\n",
    "    node2.set_capacities(cores=cores, ram=ram, disk=disk)\n",
    "    node2.set_image(image)\n",
    "    ifacen2 = node2.add_component(model='NIC_Basic', name='node2-nic1').get_interfaces()[0] \n",
    "    \n",
    "    # Network\n",
    "    net1 = slice.add_l2network(name='bridge1', interfaces=[ifaces1, ifacen1])\n",
    "    net2 = slice.add_l2network(name='bridge2', interfaces=[ifaces2, ifacen2])\n",
    "\n",
    "    #Submit Slice Request\n",
    "    slice.submit()\n",
    "except Exception as e:\n",
    "    print(f\"Slice Failed: {e}\")"
   ]
  },
  {
   "cell_type": "markdown",
   "id": "2e26dea8-d714-4ef1-aac2-631d053f7ec4",
   "metadata": {
    "tags": []
   },
   "source": [
    "### 1.2 Set up the Experiment Network\n",
    "The network configuration part of this slice will connect the nodes with specific IPs such that the nodes are able to communicate with each other. The slice will use the network name to find the corresponding devices (NIC cards) used in the slice creation stage so that we can provide the correct connection in the network, in this case, \"bridge1\" & \"bridge2\".\n",
    "\n",
    "This slice contains a single subnetwork in IPv4: 10.20.30.0/24 between server and each of the host clients, however it is split between the two l2networks \"bridge1\" & \"bridge1\". This slice will provide IP 10.20.30.41 to \"Node_A\" under \"bridge1\" & \"10.20.30.41\" under \"bridge2\", host 1 will obtain 10.20.30.42 and host2 will obtain 10.20.30.43 following the guidelines set by the network subnet. In this slice we use the alternative \"cidr\" to set the subnet rather than directly passing the subnet.\n",
    "\n",
    "Since the two L2 networks use the same subnet, this will cause issues if the routes are left to be added on their own. In the following cell we modified the routes such that they use the specific ip of each node inside of the server routing table to avoid accidentally sending traffic to the incorrect node. After providing the IPs to the corresponding devices, the cell will output the network status and execute \"ip a\" to check the connections that are active.\n"
   ]
  },
  {
   "cell_type": "code",
   "execution_count": null,
   "id": "ebfa2470-5bd5-4892-81ab-3566ed03d3f1",
   "metadata": {
    "scrolled": true,
    "tags": []
   },
   "outputs": [],
   "source": [
    "# Setup Network\n",
    "\n",
    "try:\n",
    "    server_name  = 'Server'\n",
    "    node_1_name = 'Client1'\n",
    "    node_2_name = 'Client2'\n",
    "\n",
    "    network_service_name1 = \"bridge1\"\n",
    "    network_service_name2 = \"bridge2\"\n",
    "\n",
    "    server_ip1 = '10.20.30.40'\n",
    "    server_ip2 = '10.20.30.41'\n",
    "    node1_ip = '10.20.30.42'\n",
    "    node2_ip = '10.20.30.43'\n",
    "    \n",
    "    server = slice.get_node(name=server_name)        \n",
    "    ifaces1 = server.get_interface(network_name=network_service_name1)  \n",
    "    ifaces1.set_ip(ip=server_ip1, cidr=\"24\")\n",
    "    \n",
    "    ifaces2 = server.get_interface(network_name=network_service_name2)  \n",
    "    ifaces2.set_ip(ip=server_ip2, cidr=\"24\")\n",
    "    \n",
    "    Device_P1 = ifaces1.get_device_name()\n",
    "    Device_P2 = ifaces2.get_device_name()\n",
    "    \n",
    "    #Node1 conection\n",
    "    stdout, stderr = server.execute(f'ip addr show {ifaces1.get_os_interface()}')\n",
    "    server.execute(f\"sudo ip link set dev {Device_P1} up\")\n",
    "    print (stdout)\n",
    "    #node2 conection\n",
    "    stdout, stderr = server.execute(f'ip addr show {ifaces2.get_os_interface()}')\n",
    "    server.execute(f\"sudo ip link set dev { Device_P2 } up\")\n",
    "    print (stdout)\n",
    "    \n",
    "    node1 = slice.get_node(name=node_1_name)        \n",
    "    ifacen1 = node1.get_interface(network_name=network_service_name1)  \n",
    "    ifacen1.set_ip(ip=node1_ip, cidr=\"24\")\n",
    "    \n",
    "    stdout, stderr = node1.execute(f'ip addr show {ifacen1.get_os_interface()}')\n",
    "    node1.execute(f\"sudo ip link set dev { ifacen1.get_device_name()} up\")\n",
    "    print (stdout)\n",
    "    \n",
    "    node2 = slice.get_node(name=node_2_name)        \n",
    "    ifacen2 = node2.get_interface(network_name=network_service_name2)\n",
    "    ifacen2.set_ip(ip=node2_ip, cidr=\"24\")\n",
    "    stdout, stderr = node2.execute(f'ip addr show {ifacen2.get_os_interface()}')\n",
    "    node2.execute(f\"sudo ip link set dev { ifacen2.get_device_name()} up\")\n",
    "    print (stdout)\n",
    "    \n",
    "    # 1 packets transmitted, 0 received, +1 errors, 100% packet loss, time 0ms\n",
    "    # swamp the words \"enp7s0\" and \"enp8s0\" this just means that the ips were created on oposite devices\n",
    "    \n",
    "    server.execute(f'sudo route del -net 10.20.30.0 gw 0.0.0.0 netmask 255.255.255.0 dev {Device_P2}')\n",
    "    server.execute(f'sudo route del -net 10.20.30.0 gw 0.0.0.0 netmask 255.255.255.0 dev {Device_P1}')\n",
    "    server.execute(f'sudo ip route add {node1_ip} dev {Device_P1}')\n",
    "    server.execute(f'sudo ip route add {node2_ip} dev {Device_P2}')\n",
    "    print (\"Testing Connection...\")\n",
    "    server.execute(f'ping 10.20.30.43 -c 1')\n",
    "    server.execute(f'ping 10.20.30.42 -c 1')\n",
    "    \n",
    "except Exception as e:\n",
    "    print(f\"Error: {e}\")"
   ]
  },
  {
   "cell_type": "markdown",
   "id": "bd8feacb-73c7-462e-814b-4f89380e4ce0",
   "metadata": {
    "tags": []
   },
   "source": [
    "### 1.3 Configure the software needed for the nodes in the experiment\n",
    "we only need to install a couple of tools for our slice, the first of these will be \"net-tools\" this will help us monitor traffic inside of the nodes.\n",
    "\n",
    "Additionally for this slice, we need to install some software that is only available from a GitHub repository. First we download the webpage example as a tar file, and then extract its contents. Once the previous step has been completed we run the configuration scripts on each machine to set up the machines with their corresponding tasks, whether it is to listen as a server or request information as a client."
   ]
  },
  {
   "cell_type": "code",
   "execution_count": null,
   "id": "5c8ff5ec-d66f-47d9-9d25-4d6b399d51bc",
   "metadata": {
    "scrolled": true,
    "tags": []
   },
   "outputs": [],
   "source": [
    "# Install Software\n",
    "try:\n",
    "    print(\"Installing tools testing tools\")\n",
    "    stdout, stderr = server.execute(f'sudo apt-get update', quiet=False)\n",
    "    stdout, stderr = server.execute(f'sudo apt-get install net-tools', quiet=False)\n",
    "    \n",
    "    server = slice.get_node(name=server_name)        \n",
    "    server.execute(\"wget https://github.com/fabric-testbed/teaching-materials/raw/main/Aditional%20Materials/Webserver/webexample.tar.gz\")\n",
    "    server.execute(\"tar xvfz webexample.tar.gz\")\n",
    "\n",
    "    server.execute(\"sudo ./webexample/websrv_init.sh\")\n",
    "    server.execute(\"sudo cp -avr webexample/website ../../var/www\")\n",
    "    \n",
    "    #node 1\n",
    "    node1.execute(\"wget https://github.com/fabric-testbed/teaching-materials/raw/main/Aditional%20Materials/Webserver/webexample.tar.gz\")\n",
    "    node1.execute(\"tar xvfz webexample.tar.gz\")\n",
    "    node1.execute(\"sudo ./webexample/webcl_init.sh\")\n",
    "    \n",
    "    #node2    \n",
    "    node2.execute(\"wget https://github.com/fabric-testbed/teaching-materials/raw/main/Aditional%20Materials/Webserver/webexample.tar.gz\")\n",
    "    node2.execute(\"tar xvfz webexample.tar.gz\")\n",
    "    node2.execute(\"sudo ./webexample/webcl_init.sh\")\n",
    "\n",
    "except Exception as e:\n",
    "    print(f\"Error: {e}\")"
   ]
  },
  {
   "cell_type": "markdown",
   "id": "b4c9fff9-7859-4312-a3c0-0d302f92458d",
   "metadata": {
    "tags": []
   },
   "source": [
    "## Continue to The experiment notebook\n",
    "\n",
    "Once you have completed this notebook you should be able to continue to the Webserver. You can either open it on the explorer or click [Here](./webserver.ipynb) to open the next notebook."
   ]
  }
 ],
 "metadata": {
  "kernelspec": {
   "display_name": "Python 3 (ipykernel)",
   "language": "python",
   "name": "python3"
  },
  "language_info": {
   "codemirror_mode": {
    "name": "ipython",
    "version": 3
   },
   "file_extension": ".py",
   "mimetype": "text/x-python",
   "name": "python",
   "nbconvert_exporter": "python",
   "pygments_lexer": "ipython3",
   "version": "3.10.6"
  }
 },
 "nbformat": 4,
 "nbformat_minor": 5
}
