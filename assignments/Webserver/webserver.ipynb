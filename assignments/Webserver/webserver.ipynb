{
 "cells": [
  {
   "cell_type": "markdown",
   "id": "c2a36b94-1015-4f4d-9d63-73e77651dab8",
   "metadata": {},
   "source": [
    "# Web Server Tutorial\n",
    "<i>Adapted for use with FABRIC from [WebServerExample](https://groups.geni.net/geni/wiki/WebServerExample)\n",
    "\n",
    "<b> Prerequisites  \n",
    "    \n",
    "* You need to have your FABRIC bastion host key pair set up to do this tutorial. If you have not already set this up, follow steps 1-5 at https://github.com/fabric-testbed/teaching-materials/blob/main/Getting%20Started.md#section-1-get-started.\n",
    "* You are comfortable using ssh and executing basic commands using a UNIX shell. [Tips about how to login to hosts.](https://github.com/fabric-testbed/teaching-materials/blob/main/Getting%20Started.md)\n",
    "* You are comfortable with coding in C or C++\n",
    "  \n",
    "<br><img src='https://github.com/fabric-testbed/teaching-materials/blob/main/assignments/Webserver/figures/WebserverTop.png?raw=true'><br>\n",
    "This is the second step in this assignment, to go to the previous step go to slice creation notebook or click [Here](./CreateSlice.ipynb)    \n",
    "In this Exercise you will explore the apache services to run a webserver, you will use comands to get information from the server web page from the nodes and you will also be able to update the website by changeing the web site files in the server node"
   ]
  },
  {
   "cell_type": "markdown",
   "id": "bd4906e3-cfa2-49d6-bbbd-d16c1f877bac",
   "metadata": {
    "tags": []
   },
   "source": [
    "## 1. Retrieve Slice\n",
    "Create the slice at the [Create Slice Notebook](./CreateSlice.ipynb) and import it here.\n",
    "#### Import the Fabric API"
   ]
  },
  {
   "cell_type": "code",
   "execution_count": null,
   "id": "d20a3b7e-9d6a-4f06-a037-1ac19dc0767f",
   "metadata": {},
   "outputs": [],
   "source": [
    "# Load Fablib and Node Information\n",
    "from fabrictestbed_extensions.fablib.fablib import FablibManager as fablib_manager\n",
    "fablib = fablib_manager()                    \n",
    "fablib.show_config()\n",
    "import json\n",
    "import traceback\n",
    "\n",
    "slice_name = 'MyWebServerSlice'\n",
    "try:\n",
    "    slice = fablib.get_slice(slice_name)\n",
    "    print(f\"Slice: {slice.get_name()}, {slice.get_state()}\")\n",
    "    slice.list_nodes()\n",
    "    \n",
    "    for node in slice.get_nodes():\n",
    "        print(\"Node:\")\n",
    "        print(f\"   Name              : {node.get_name()}\")\n",
    "        print(f\"   Host              : {node.get_host()}\")\n",
    "        print(f\"   Site              : {node.get_site()}\")\n",
    "        print(f\"   Management IP     : {node.get_management_ip()}\")\n",
    "        print(f\"   Reservation ID    : {node.get_reservation_id()}\")\n",
    "        print(f\"   Reservation State : {node.get_reservation_state()}\")\n",
    "        print(f\"   Interfaces        : {node.get_interfaces()}\")\n",
    "        print(f\"   SSH Command       : {node.get_ssh_command()}\")\n",
    "        print()   \n",
    "except Exception as e:\n",
    "    print(f\"Get Slices Fail: {e}\")"
   ]
  },
  {
   "cell_type": "markdown",
   "id": "0a3d4407-391d-463a-ab31-218ce915b8bc",
   "metadata": {},
   "source": [
    "## 2. Guieded Experiment"
   ]
  },
  {
   "cell_type": "markdown",
   "id": "5b39f476-06c1-4e1a-b6c9-58509ae6f015",
   "metadata": {},
   "source": [
    "From here on you will be working directly from the terminal."
   ]
  },
  {
   "cell_type": "markdown",
   "id": "863d2662-85f8-408d-a35e-75a3f50ac55b",
   "metadata": {},
   "source": [
    "### 2.1 Open terminal windows\n",
    "Open two terminal windows by clicking the blue \"+\" to open the launcher, selecting \"Terminal,\" and repeating. in the terminals you have now opened, you will log in to the Client1 node and the server node\n",
    "\n",
    "<br><img src=\"https://github.com/fabric-testbed/teaching-materials/blob/main/assignments/Webserver/figures/webserver.png?raw=true\"><br>\n",
    "    \n",
    "### 2.2 Start and stop the web server\n",
    "In the original setup of your sliver there a webserver already installed and running on the \"Server\" host. As you implement your own webserver you might need to stop or start the installed webserver.\n",
    "* To Stop the webserver run:\n",
    "<br> `sudo service apache2 stop`\n",
    "* To Start the webserver run:\n",
    "<br> `sudo service apache2 start`\n",
    "### 2.3 Command Line Web Transfers\n",
    "Instead of using a web browser, you can also use command line tools for web transfers. To do this, follow these steps:\n",
    "* Log in to Client1\n",
    "* You can download the web page using this command, in this example, the address for the server will be the IP address:\n",
    "<br> `wget 10.20.30.40`\n",
    "* The above command only downloads the index.html file from the webserver. As we are going to see later a web page may include other web pages or objects such as images, videos etc. In order to force wget to download all dependencies of a page use the following options:\n",
    "<br> `wget -m -p 10.20.30.40`\n",
    "* This will produce a '10.20.30.40', server, with the following data structure. Run:\n",
    "<br> `ls 10.20.30.40`\n",
    "### 2.4 Build your own Server\n",
    "* At a high level, a web server listens for connections on a socket (bound to a specific port on a host machine). Clients connect to this socket and use a simple text-based protocol to retrieve files from the server. For example, you might try the following command on Client1:\n",
    "<br> `% telnet server 80`\n",
    "<br> `GET /index.html HTTP/1.0`\n",
    "\n",
    "(Type two carriage returns after the \"GET\" command). This will return to you (on the command line) the HTML representing the \"front page\" of the web server that is running on the Server host.)\n",
    "\n",
    "In our setup we are using the [Apache web server](https://httpd.apache.org/). The default document root for Apache on a host running Ubuntu is under /var/www.\n",
    "* Login to the Server host and run:\n",
    "<br> `ls /var/www/`\n",
    "This should give you a similar structure to the directory structure you got when you downloaded the whole site with wget on the previous steps."
   ]
  },
  {
   "cell_type": "markdown",
   "id": "629a40ed-41c2-4542-bac6-aa39d1669694",
   "metadata": {},
   "source": [
    "## 3. Assignment\n",
    "### Part 1:\n",
    "Create your own correctly formatted HTML document in place of the message in index.html. Follow the same procedure as above to retrieve this document. For those completing this module for credit, submit a screenshot of the output on the client machine. \n",
    "### Part 2:\n",
    "You’ve learned that HTTP has many different status codes. By modifying your requests made from the client machine, generate 4 different status responses from the server. For those completing this module for credit, submit the requests you made to generate each response along with an explanation of why each response was sent by the server.\n"
   ]
  },
  {
   "cell_type": "markdown",
   "id": "59885ebe-f5d0-4412-8ff9-23383f38fdfd",
   "metadata": {
    "tags": []
   },
   "source": [
    "## Cleanup Resources\n",
    "Once you have completed the assignment shut down the slice"
   ]
  },
  {
   "cell_type": "code",
   "execution_count": null,
   "id": "a4a97c30-5a2e-4301-a892-d438b0e3f416",
   "metadata": {
    "tags": []
   },
   "outputs": [],
   "source": [
    "# Delete Slice\n",
    "try:\n",
    "    #To delete the slice change \"CHECK\" to \"True\", this is to prevent accidental slice deletion\n",
    "    CHECK = False\n",
    "    if (CHECK):\n",
    "        slice = fablib.get_slice(slice_name)\n",
    "        slice.delete()\n",
    "    else:\n",
    "        print(\"Change the Boolean to delete slice\")\n",
    "except Exception as e:\n",
    "    print(f\"Fail: {e}\")"
   ]
  }
 ],
 "metadata": {
  "kernelspec": {
   "display_name": "Python 3 (ipykernel)",
   "language": "python",
   "name": "python3"
  },
  "language_info": {
   "codemirror_mode": {
    "name": "ipython",
    "version": 3
   },
   "file_extension": ".py",
   "mimetype": "text/x-python",
   "name": "python",
   "nbconvert_exporter": "python",
   "pygments_lexer": "ipython3",
   "version": "3.10.6"
  }
 },
 "nbformat": 4,
 "nbformat_minor": 5
}
