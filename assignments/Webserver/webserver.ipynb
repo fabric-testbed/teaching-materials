{
 "cells": [
  {
   "cell_type": "markdown",
   "id": "c2a36b94-1015-4f4d-9d63-73e77651dab8",
   "metadata": {},
   "source": [
    "# Web Server Tutorial\n",
    "<i>Adapted for use with FABRIC from [WebServerExample](https://groups.geni.net/geni/wiki/WebServerExample)\n",
    "\n",
    "<b> Prerequisites  \n",
    "    \n",
    "* You need to have your FABRIC bastion host key pair set up to do this tutorial. If you have not already set this up, follow steps 1-3 at https://learn.fabric-testbed.net/knowledge-base/logging-into-fabric-vms/.\n",
    "* You are comfortable using ssh and executing basic commands using a UNIX shell. [Tips about how to login to hosts.](https://learn.fabric-testbed.net/knowledge-base/logging-into-fabric-vms/)\n",
    "* You are comfortable with coding in C or C++\n",
    "  \n",
    "This is the second step in this assignment, to go to the previous step go to slice creation notebook or click [Here](./CreateSlice.ipynb)    \n",
    "<br><img src=\"./figures/webserver.png\"><br>\n",
    "    \n",
    "In this Exercise you will explore the apache services to run a webserver, you will use comands to get information from the server web page from the nodes and you will also be able to update the website by changeing the web site files in the server node"
   ]
  },
  {
   "cell_type": "markdown",
   "id": "addae7e3-4a6d-43cd-bf2f-c9496cec7227",
   "metadata": {},
   "source": [
    "## 1. Setup the Experiment\n",
    "In this section, be careful to do the instructions listed with **\"Do this\"**, as well as running the code blocks."
   ]
  },
  {
   "cell_type": "markdown",
   "id": "f2d7b4c1-57bf-4d4d-a54c-39bc997dfab5",
   "metadata": {},
   "source": [
    "### 1.1 Reserve Resources"
   ]
  },
  {
   "cell_type": "markdown",
   "id": "6cebcdef-8407-489b-bcaf-428986f30fcd",
   "metadata": {
    "tags": []
   },
   "source": [
    "#### Import the Fabric API"
   ]
  },
  {
   "cell_type": "code",
   "execution_count": null,
   "id": "8c84059b-374d-4586-aa92-631a54578a84",
   "metadata": {},
   "outputs": [],
   "source": [
    "from fabrictestbed_extensions.fablib.fablib import FablibManager as fablib_manager\n",
    "\n",
    "fablib = fablib_manager()\n",
    "                     \n",
    "fablib.show_config()\n",
    "\n",
    "import json\n",
    "import traceback"
   ]
  },
  {
   "cell_type": "markdown",
   "id": "ee3b05ee-9d5e-4a81-b1e6-665eeec7f65e",
   "metadata": {},
   "source": [
    "####  Retrieve Slice\n",
    "Create the slice at the [Create Slice Notebook](./CreateSlice.ipynb) and import it here.\n"
   ]
  },
  {
   "cell_type": "code",
   "execution_count": null,
   "id": "d20a3b7e-9d6a-4f06-a037-1ac19dc0767f",
   "metadata": {},
   "outputs": [],
   "source": [
    "slice_name = 'MyWebServerSlice'\n",
    "try:\n",
    "    slice = fablib.get_slice(slice_name)\n",
    "    print(f\"Slice: {slice.get_name()}, {slice.get_state()}\")\n",
    "except Exception as e:\n",
    "    print(f\"Get Slices Fail: {e}\")"
   ]
  },
  {
   "cell_type": "markdown",
   "id": "c8b31292-b1be-4011-aab2-3b4b3a767d31",
   "metadata": {},
   "source": [
    "### 1.2 Configure the Nodes"
   ]
  },
  {
   "cell_type": "markdown",
   "id": "137966a5-f12b-459a-93c0-5ec378803eb3",
   "metadata": {},
   "source": [
    "#### Get the topology"
   ]
  },
  {
   "cell_type": "code",
   "execution_count": null,
   "id": "13e0fcb4-4c19-4691-bcc5-b8b04ea5ce31",
   "metadata": {},
   "outputs": [],
   "source": [
    "try:\n",
    "    slice = fablib.get_slice(slice_name)\n",
    "    for node in slice.get_nodes():\n",
    "        print(\"Node:\")\n",
    "        print(f\"   Name              : {node.get_name()}\")\n",
    "        print(f\"   Host              : {node.get_host()}\")\n",
    "        print(f\"   Site              : {node.get_site()}\")\n",
    "        print(f\"   Management IP     : {node.get_management_ip()}\")\n",
    "        print(f\"   Reservation ID    : {node.get_reservation_id()}\")\n",
    "        print(f\"   Reservation State : {node.get_reservation_state()}\")\n",
    "        print(f\"   Interfaces        : {node.get_interfaces()}\")\n",
    "        print(f\"   SSH Command       : {node.get_ssh_command()}\")\n",
    "        print()                \n",
    "except Exception as e:\n",
    "    print(f\"Fail: {e}\")"
   ]
  },
  {
   "cell_type": "markdown",
   "id": "4b2ed0a7-6111-4b21-93a4-851298889ee7",
   "metadata": {},
   "source": [
    "#### Choose data interface IP addresses"
   ]
  },
  {
   "cell_type": "code",
   "execution_count": null,
   "id": "f6c08f68-887f-4d82-9b13-c4c12c9d60ef",
   "metadata": {},
   "outputs": [],
   "source": [
    "server_name  = 'server'\n",
    "node_1_name = 'node1'\n",
    "node_2_name = 'node2'\n",
    "\n",
    "network_service_name1 = \"bridge1\"\n",
    "network_service_name2 = \"bridge2\"\n",
    "\n",
    "server_ip1 = '10.20.30.40'\n",
    "server_ip2 = '10.20.30.41'\n",
    "node1_ip = '10.20.30.42'\n",
    "node2_ip = '10.20.30.43'"
   ]
  },
  {
   "cell_type": "markdown",
   "id": "9008f38d-d04b-4f67-8440-63ecb9cde87e",
   "metadata": {},
   "source": [
    "#### Configure nodes to get from IPv4 to IPv6"
   ]
  },
  {
   "cell_type": "code",
   "execution_count": null,
   "id": "83a3a93d-bb7d-4ecf-bdec-2434785295b4",
   "metadata": {},
   "outputs": [],
   "source": [
    "from ipaddress import ip_address, IPv6Address\n",
    "try:\n",
    "    for node in slice.get_nodes():\n",
    "        if (type(ip_address(node.get_management_ip())) is IPv6Address):\n",
    "            print('node type ipv6')\n",
    "\n",
    "            node.upload_file('scripts/nat64.sh', 'nat64.sh')\n",
    "            stdout, stderr = node.execute(f'chmod +x nat64.sh')\n",
    "            stdout, stderr = node.execute(f'./nat64.sh')\n",
    "        else:\n",
    "            print('node type not ipv6 : ', (ip_address(node.get_management_ip())))\n",
    "            #sudo cmd\n",
    "\n",
    "except Exception as e:\n",
    "    print(f\"Error: {e}\")\n",
    "    "
   ]
  },
  {
   "cell_type": "markdown",
   "id": "d6efbec6-077a-443c-970d-c900781eb4df",
   "metadata": {},
   "source": [
    "#### Configure server node"
   ]
  },
  {
   "cell_type": "code",
   "execution_count": null,
   "id": "31055769-502f-4c13-9c2b-7c02dde5e220",
   "metadata": {
    "scrolled": true,
    "tags": []
   },
   "outputs": [],
   "source": [
    "try:\n",
    "    server = slice.get_node(name=server_name)        \n",
    "    ifaces1 = server.get_interface(network_name=network_service_name1)  \n",
    "    ifaces1.set_ip(ip=server_ip1, cidr=\"24\")\n",
    "    \n",
    "    ifaces2 = server.get_interface(network_name=network_service_name2)  \n",
    "    ifaces2.set_ip(ip=server_ip2, cidr=\"24\")\n",
    "    stdout, stderr = server.execute(f'ip addr show {ifaces1.get_os_interface()}')\n",
    "    print (stdout)\n",
    "    stdout, stderr = server.execute(f'ip addr show {ifaces2.get_os_interface()}')\n",
    "    print (stdout)\n",
    "except Exception as e:\n",
    "    print(f\"Error: {e}\")"
   ]
  },
  {
   "cell_type": "code",
   "execution_count": null,
   "id": "b61ace09-5340-4874-ac9e-e94fb1bdd622",
   "metadata": {
    "scrolled": true,
    "tags": []
   },
   "outputs": [],
   "source": [
    "try:\n",
    "    server = slice.get_node(name=server_name)        \n",
    "    server.execute(\"wget https://github.com/fabric-testbed/teaching-materials/raw/main/Aditional%20Materials/Webserver/webexample.tar.gz\")\n",
    "    server.execute(\"tar xvfz webexample.tar.gz\")\n",
    "\n",
    "    server.execute(\"sudo ./webexample/websrv_init.sh\")\n",
    "    server.execute(\"sudo cp -avr webexample/website ../../var/www\")\n",
    "    \n",
    "except Exception as e:\n",
    "    print(f\"Error: {e}\")"
   ]
  },
  {
   "cell_type": "markdown",
   "id": "d268fedb-ce54-4bc5-86f9-a3516aa2012e",
   "metadata": {},
   "source": [
    "#### Configure nodes"
   ]
  },
  {
   "cell_type": "code",
   "execution_count": null,
   "id": "a208f382-4396-410e-b845-ceab6cf912c3",
   "metadata": {
    "scrolled": true,
    "tags": []
   },
   "outputs": [],
   "source": [
    "try:\n",
    "    node1 = slice.get_node(name=node_1_name)        \n",
    "    ifacen1 = node1.get_interface(network_name=network_service_name1)  \n",
    "    ifacen1.set_ip(ip=node1_ip, cidr=\"24\")\n",
    "    \n",
    "    stdout, stderr = node1.execute(f'ip addr show {ifacen1.get_os_interface()}')\n",
    "    print (stdout)\n",
    " \n",
    "    node1.execute(\"wget https://github.com/fabric-testbed/teaching-materials/raw/main/Aditional%20Materials/Webserver/webexample.tar.gz\")\n",
    "    node1.execute(\"tar xvfz webexample.tar.gz\")\n",
    "    node1.execute(\"sudo ./webexample/webcl_init.sh\")\n",
    "except Exception as e:\n",
    "    print(f\"Error: {e}\")\n",
    "    \n",
    "try:\n",
    "    node2 = slice.get_node(name=node_2_name)        \n",
    "    ifacen2 = node2.get_interface(network_name=network_service_name2)  \n",
    "    ifacen2.set_ip(ip=node2_ip, cidr=\"24\")\n",
    "    stdout, stderr = node2.execute(f'ip addr show {ifacen2.get_os_interface()}')\n",
    "    print (stdout)\n",
    "    \n",
    "    node2.execute(\"wget https://github.com/fabric-testbed/teaching-materials/raw/main/Aditional%20Materials/Webserver/webexample.tar.gz\")\n",
    "    node2.execute(\"tar xvfz webexample.tar.gz\")\n",
    "    node2.execute(\"sudo ./webexample/webcl_init.sh\")\n",
    "except Exception as e:\n",
    "    print(f\"Error: {e}\")"
   ]
  },
  {
   "cell_type": "markdown",
   "id": "0a3d4407-391d-463a-ab31-218ce915b8bc",
   "metadata": {},
   "source": [
    "## 2. Run the Experiment"
   ]
  },
  {
   "cell_type": "markdown",
   "id": "5b39f476-06c1-4e1a-b6c9-58509ae6f015",
   "metadata": {},
   "source": [
    "From here on you will be working directly from the terminal."
   ]
  },
  {
   "cell_type": "markdown",
   "id": "863d2662-85f8-408d-a35e-75a3f50ac55b",
   "metadata": {},
   "source": [
    "### 2.1 Open terminal windows\n",
    "Open a terminal window by clicking the blue \"+\" to open the launcher, selecting \"Terminal,\" and repeating.\n",
    "\n",
    "### 2.2 Start and stop the web server\n",
    "In the original setup of your sliver there a webserver already installed and running on the \"Server\" host. As you implement your own webserver you might need to stop or start the installed webserver.\n",
    "* To Stop the webserver run:\n",
    "<br> `sudo service apache2 stop`\n",
    "* To Start the webserver run:\n",
    "<br> `sudo service apache2 start`\n",
    "### 2.3 Command Line Web Transfers\n",
    "Instead of using a web browser, you can also use command line tools for web transfers. To do this, follow these steps:\n",
    "* Log in to Client1\n",
    "* You can download the web page using this command, in this example, the address for the server will be the IP address:\n",
    "<br> `wget 10.20.30.40`\n",
    "* The above command only downloads the index.html file from the webserver. As we are going to see later a web page may include other web pages or objects such as images, videos etc. In order to force wget to download all dependencies of a page use the following options:\n",
    "<br> `wget -m -p 10.20.30.40`\n",
    "* This will produce a '10.20.30.40', server, with the following data structure. Run:\n",
    "<br> `ls 10.20.30.40`\n",
    "### 2.4 Build your own Server\n",
    "* At a high level, a web server listens for connections on a socket (bound to a specific port on a host machine). Clients connect to this socket and use a simple text-based protocol to retrieve files from the server. For example, you might try the following command on Client1:\n",
    "<br> `% telnet server 80`\n",
    "<br> `GET /index.html HTTP/1.0`\n",
    "\n",
    "(Type two carriage returns after the \"GET\" command). This will return to you (on the command line) the HTML representing the \"front page\" of the web server that is running on the Server host.)\n",
    "\n",
    "In our setup we are using the [Apache web server](https://httpd.apache.org/). The default document root for Apache on a host running Ubuntu is under /var/www.\n",
    "* Login to the Server host and run:\n",
    "<br> `ls /var/www/`\n",
    "This should give you a similar structure to the directory structure you got when you downloaded the whole site with wget on the previous steps."
   ]
  },
  {
   "cell_type": "markdown",
   "id": "f8d266a2-a0d0-4755-99e3-4582b3f55352",
   "metadata": {
    "tags": []
   },
   "source": [
    "## Continue to The Assignment notebook\n",
    "\n",
    "Once You have completed this notebook you should be able to continue to the Webserver Assignment Notebook, you can ether open it on the explorer or click [Here](./Assignment.ipynb) to open the next notebook."
   ]
  },
  {
   "cell_type": "code",
   "execution_count": null,
   "id": "fc7e8c3c-190c-4a7a-bdaf-927682fb5486",
   "metadata": {},
   "outputs": [],
   "source": []
  }
 ],
 "metadata": {
  "kernelspec": {
   "display_name": "Python 3 (ipykernel)",
   "language": "python",
   "name": "python3"
  },
  "language_info": {
   "codemirror_mode": {
    "name": "ipython",
    "version": 3
   },
   "file_extension": ".py",
   "mimetype": "text/x-python",
   "name": "python",
   "nbconvert_exporter": "python",
   "pygments_lexer": "ipython3",
   "version": "3.10.6"
  }
 },
 "nbformat": 4,
 "nbformat_minor": 5
}
