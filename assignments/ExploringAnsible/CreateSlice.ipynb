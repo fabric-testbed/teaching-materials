{
 "cells": [
  {
   "cell_type": "markdown",
   "id": "5f373d6e-223a-479a-971c-c39c02aa1390",
   "metadata": {},
   "source": [
    "# Create Slice for Fabric Rack\n",
    "This is the slice creation for the ```Ansible``` tutorial, This is the first step of the assignment, to create the slice on fabric using fablib\n",
    " "
   ]
  },
  {
   "cell_type": "markdown",
   "id": "74bde53c-1472-4764-9221-84993cd855ee",
   "metadata": {
    "tags": []
   },
   "source": [
    "## 1. Set up the Experiment\n",
    "\n",
    "In this section you will use the Fablib manager to create a new slice that is composed of 3 nodes for the IPv4 Assignment.\n",
    "### 1.1 Reserve Resources\n",
    "In this section we will declare the structure of the slice we will be using."
   ]
  },
  {
   "cell_type": "code",
   "execution_count": null,
   "id": "3e84a125-c5f8-4b38-ada2-b585ee5a83ab",
   "metadata": {},
   "outputs": [],
   "source": [
    "# Import Fablib\n",
    "from fabrictestbed_extensions.fablib.fablib import FablibManager as fablib_manager\n",
    "\n",
    "fablib = fablib_manager()\n",
    "                     \n",
    "fablib.show_config()\n",
    "\n",
    "import json\n",
    "import traceback"
   ]
  },
  {
   "cell_type": "code",
   "execution_count": null,
   "id": "c750ec14-1761-4592-8530-78edd3968a4a",
   "metadata": {},
   "outputs": [],
   "source": [
    "# Define and Submit Slice\n",
    "slice_name = \"ExploringAnsible\"\n",
    "site = \"EDUKY\"\n",
    "print(site)\n",
    "\n",
    "nicmodel = \"NIC_Basic\"\n",
    "image = \"default_ubuntu_20\"\n",
    "\n",
    "cores = 4\n",
    "ram = 16\n",
    "disk = 50\n",
    "\n",
    "# Create a slice with a Server node and two Client nodes\n",
    "try:\n",
    "    #Create Slice\n",
    "    slice = fablib.new_slice(slice_name)\n",
    "    \n",
    "    # Add node\n",
    "    node1 = slice.add_node(name='client', site=site)\n",
    "    node1.set_capacities(cores=cores, ram=ram, disk=disk)\n",
    "    node1.set_image(image)\n",
    "    PortCS = node1.add_component(model='NIC_Basic', name='CL-P').get_interfaces()[0]\n",
    "    PortCA = node1.add_component(model='NIC_Basic', name='CL-A').get_interfaces()[0]\n",
    "    \n",
    "    # Add node\n",
    "    node2 = slice.add_node(name='server', site=site)\n",
    "    node2.set_capacities(cores=cores, ram=ram, disk=disk)\n",
    "    node2.set_image(image)\n",
    "    PortSC = node2.add_component(model='NIC_Basic', name='SV-P').get_interfaces()[0] \n",
    "    PortSA = node2.add_component(model='NIC_Basic', name='SV-A').get_interfaces()[0] \n",
    "    \n",
    "    node3 = slice.add_node(name='ansible', site=site)\n",
    "    node3.set_capacities(cores=cores, ram=ram, disk=disk)\n",
    "    node3.set_image(image)\n",
    "    PortAS = node3.add_component(model='NIC_Basic', name='An-S').get_interfaces()[0] \n",
    "    PortAC = node3.add_component(model='NIC_Basic', name='An-C').get_interfaces()[0] \n",
    "    \n",
    "    # Network\n",
    "    net1 = slice.add_l2network(name='LAN_SC', interfaces=[PortCS, PortSC])\n",
    "    net2 = slice.add_l2network(name='LAN_AC', interfaces=[PortCA, PortAC])\n",
    "    net3 = slice.add_l2network(name='LAN_AS', interfaces=[PortSA, PortAS])\n",
    "\n",
    "    #Submit Slice Request\n",
    "    slice.submit()\n",
    "except Exception as e:\n",
    "    print(f\"Slice Failed: {e}\")"
   ]
  },
  {
   "cell_type": "markdown",
   "id": "22b53f1e-9dc5-42de-baba-6187dcff25f6",
   "metadata": {
    "tags": []
   },
   "source": [
    "### 1.2 Set up the Experiment Network\n",
    "This section of the slice creation, once the nodes are active, will assign the network spaces some predefined values that we will use for the Assignment."
   ]
  },
  {
   "cell_type": "code",
   "execution_count": null,
   "id": "a206b6be-d3f8-4e6f-ab42-f0ea79c23d7b",
   "metadata": {
    "scrolled": true
   },
   "outputs": [],
   "source": [
    "# Setup Network\n",
    "from ipaddress import ip_address, IPv4Address, IPv6Address, IPv4Network, IPv6Network\n",
    "\n",
    "CL = 'client'\n",
    "SV = 'server'\n",
    "AN = 'ansible'\n",
    "\n",
    "LAN_CS = 'LAN_SC'\n",
    "LAN_AS = \"LAN_AS\"\n",
    "LAN_AC = \"LAN_AC\"\n",
    "\n",
    "CL_IP = '10.10.10.2' #SR -> AN\n",
    "SR_IP = '10.10.10.1' #AN -> SR\n",
    "\n",
    "\n",
    "CL_AN_IP = '12.1.1.1' #SR -> AN\n",
    "SR_AN_IP = '11.1.1.1' #AN -> SR\n",
    "AN_CL_IP = '12.1.1.2' #SR -> AN\n",
    "AN_SR_IP = '11.1.1.2' #AN -> SR\n",
    "\n",
    "# configure nodes\n",
    "try:\n",
    "    CltNode = slice.get_node(CL)\n",
    "    SrvNode = slice.get_node(SV)\n",
    "    AnsNode = slice.get_node(AN)\n",
    "    #Client\n",
    "    C_iface1= CltNode.get_interface(network_name=LAN_CS) \n",
    "    C_iface1.set_ip(ip=CL_IP, cidr=\"24\")\n",
    "    C_iface1= CltNode.get_interface(network_name=LAN_AC) \n",
    "    C_iface1.set_ip(ip=CL_AN_IP, cidr=\"24\")\n",
    "    \n",
    "    #Server\n",
    "    S_iface2= SrvNode.get_interface(network_name=LAN_CS) \n",
    "    S_iface2.set_ip(ip=SR_IP, cidr=\"24\")\n",
    "    S_iface2= SrvNode.get_interface(network_name=LAN_AS) \n",
    "    S_iface2.set_ip(ip=SR_AN_IP, cidr=\"24\")\n",
    "\n",
    "    #Ansiblenode\n",
    "    A_iface2= AnsNode.get_interface(network_name=LAN_AC) \n",
    "    A_iface2.set_ip(ip=AN_CL_IP, cidr=\"24\")\n",
    "    A_iface2= AnsNode.get_interface(network_name=LAN_AS) \n",
    "    A_iface2.set_ip(ip=AN_SR_IP, cidr=\"24\")\n",
    "    \n",
    "    for node in slice.get_nodes():        \n",
    "        for iface in node.get_interfaces():\n",
    "            stdout, stderr = node.execute(f'sudo ip link set dev {iface.get_device_name()} up')\n",
    "        stdout, stderr = node.execute(f'ip a')\n",
    "        \n",
    "        node.execute(\"sudo sysctl -w net.ipv4.ip_forward=1\")\n",
    "except Exception as e:\n",
    "    print(f\"Fail: {e}\")"
   ]
  },
  {
   "cell_type": "markdown",
   "id": "83f66408-3f94-4e25-8e30-66dd12380a17",
   "metadata": {
    "tags": []
   },
   "source": [
    "### 1.3 Configure the software needed for the nodes in the experiment\n",
    "In this section of the slice creation, we will add any aditional software, tools or scripts that we need for our experiments."
   ]
  },
  {
   "cell_type": "code",
   "execution_count": null,
   "id": "2e728f8b-7216-40dd-ae34-8940ad5c9c13",
   "metadata": {
    "scrolled": true,
    "tags": []
   },
   "outputs": [],
   "source": [
    "# Install Software\n",
    "import io\n",
    "import paramiko\n",
    "\n",
    "try:\n",
    "    AnsNode.upload_file('src/hellogeni-install.tar.gz', 'hellogeni-install.tar.gz')\n",
    "    AnsNode.execute(\"tar xvfz hellogeni-install.tar.gz\")\n",
    "\n",
    "except Exception as e:\n",
    "    print(f\"Error Uploading tar file: {e}\")\n",
    "\n",
    "try:\n",
    "    \n",
    "    for node in slice.get_nodes():\n",
    "        node.execute('sudo apt-get update')\n",
    "        node.execute('sudo apt-get upgrade -y')\n",
    "        node.execute('sudo apt-get install python -y')\n",
    "        node.execute('sudo apt-get install python-pip -y')\n",
    "        #install omni requirements\n",
    "        node.execute('sudo apt-get install swig python-openssl libxmlsec1 xmlsec1 -y\\\n",
    "                     libxmlsec1-openssl libxmlsec1-dev -y')\n",
    "        #Note: This will set python2 as the default python version on your Ubuntu 20.04 machine.\n",
    "\n",
    "        node.execute('curl https://bootstrap.pypa.io/pip/2.7/get-pip.py --output get-pip.py')\n",
    "        node.execute('sudo python2.7 get-pip.py')\n",
    "        node.execute('sudo apt-get install build-essential swig python-dev libssl-dev -y')\n",
    "        node.execute('pip2 install M2Crypto==0.30.0')\n",
    "        node.execute('pip2 install python-dateutil')\n",
    "    \n",
    "    #omni install\n",
    "    AnsNode.execute('wget https://github.com/GENI-NSF/geni-tools/archive/refs/tags/v2.11.tar.gz')\n",
    "\n",
    "\n",
    "    # Extract the tarball\n",
    "    AnsNode.execute('tar -xvzf \"v2.11.tar.gz\"')\n",
    "    # Move the extracted directory to the target location\n",
    "    AnsNode.execute('sudo mv \"./geni-tools-2.11/\" \"/usr/local/bin/geni-tools-2.11\"')\n",
    "    AnsNode.execute('cd \"/usr/local/bin/\"')\n",
    "    AnsNode.execute('sudo ln -s geni-tools-2.11/ gcf')\n",
    "    AnsNode.execute('cd \"/home/ubuntu/\"')\n",
    "\n",
    "    \n",
    "    # set PATH so it includes geni software if it exists\n",
    "    AnsNode.upload_file('scripts/install_omni.sh','install_omni.sh')\n",
    "    AnsNode.upload_file('scripts/inventory','inventory')\n",
    "    AnsNode.upload_file('scripts/E2_template','E2_template')\n",
    "    AnsNode.execute('chmod +x install_omni.sh')\n",
    "    AnsNode.execute('source install_omni.sh')\n",
    "        \n",
    "    #install Ainsible on NodeS\n",
    "    AnsNode.execute(\"sudo apt-get install pip -y\")\n",
    "    AnsNode.execute(\"sudo apt install software-properties-common -y\" )\n",
    "    AnsNode.execute(\"sudo add-apt-repository --yes --update ppa:ansible/ansible\" )\n",
    "    AnsNode.execute(\"sudo apt-get install ansible -y\" )\n",
    "    \n",
    "except Exception as e:\n",
    "    print(f\"Error installing Ansible: {e}\")\n",
    "\n",
    "try:\n",
    "    key_name = \"Ansible_Key\"\n",
    "    #private_key_path = \"REPLACE_WITH_PRIVATE_KEY_PATH_FOR_PORTAL_KEYS\" {key.get_name()} {key.get_base64()}\n",
    "    key = paramiko.RSAKey.generate(bits=2048)\n",
    "    public_key_string = f\"{key.get_name()} {key.get_base64()}\"\n",
    "    CltNode.add_public_key(sliver_public_key=public_key_string)\n",
    "    SrvNode.add_public_key(sliver_public_key=public_key_string)\n",
    "    x = key.get_name()\n",
    "\n",
    "    #create a temporary pipe because geting key as a string is not valid\n",
    "    tmpPipe = io.StringIO()\n",
    "    key.write_private_key(tmpPipe)\n",
    "    tmpPipe.seek(0)\n",
    "    y = tmpPipe.read()\n",
    "\n",
    "    \n",
    "    print(f\"{x} << echo '{y}'\")\n",
    "    \n",
    "    AnsNode.execute(f\"echo '{y}' >> {key_name}\")\n",
    "    AnsNode.execute(f\"chmod 600 {key_name}\")\n",
    "    \n",
    "except Exception as e:\n",
    "    print(\"Error: sending keys\", str(e))"
   ]
  },
  {
   "cell_type": "markdown",
   "id": "cabdfdbd-b199-4bba-aab5-8c26757407de",
   "metadata": {
    "tags": []
   },
   "source": [
    "## Continue to The experiment notebook\n",
    "\n",
    "Once You have completed this notebook you should be able to continue to the Routing IPV4 Notebook. You can either open it on the explorer or click [Here](./HelloAnsible.ipynb) to open the next notebook."
   ]
  },
  {
   "cell_type": "code",
   "execution_count": null,
   "id": "430f442e-a013-460b-90ec-11822deb179c",
   "metadata": {},
   "outputs": [],
   "source": []
  }
 ],
 "metadata": {
  "kernelspec": {
   "display_name": "Python 3 (ipykernel)",
   "language": "python",
   "name": "python3"
  },
  "language_info": {
   "codemirror_mode": {
    "name": "ipython",
    "version": 3
   },
   "file_extension": ".py",
   "mimetype": "text/x-python",
   "name": "python",
   "nbconvert_exporter": "python",
   "pygments_lexer": "ipython3",
   "version": "3.11.8"
  }
 },
 "nbformat": 4,
 "nbformat_minor": 5
}
