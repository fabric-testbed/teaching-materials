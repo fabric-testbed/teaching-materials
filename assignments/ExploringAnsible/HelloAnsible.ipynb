{
 "cells": [
  {
   "cell_type": "markdown",
   "id": "c2a36b94-1015-4f4d-9d63-73e77651dab8",
   "metadata": {},
   "source": [
    "# Ansible Scripting Tutorial\n",
    "<i>Adapted for use with FABRIC from [Hello Ansible](https://groups.geni.net/geni/wiki/GENIExperimenter/Tutorials/AnsibleHelloGENI)\n",
    "\n",
    "<b> Prerequisites  \n",
    "    \n",
    "* You need to have your FABRIC bastion host key pair set up to do this tutorial. If you have not already set this up, follow steps 1-3 at https://learn.fabric-testbed.net/knowledge-base/logging-into-fabric-vms/.\n",
    "* You are comfortable using ssh and executing basic commands using a UNIX shell. [Tips about how to login to hosts.](https://learn.fabric-testbed.net/knowledge-base/logging-into-fabric-vms/)\n",
    "  \n",
    "This is the second step in this assignment, to go to the previous step go to slice creation notebook or click [Here](./CreateSlice.ipynb)\n",
    "<br><img src=\"./Figures/AnsinbleTop.png\">\n"
   ]
  },
  {
   "cell_type": "markdown",
   "id": "954645ca-1622-4805-abf9-bccaa1b89375",
   "metadata": {
    "tags": []
   },
   "source": [
    "## 1. Retrieve Slice\n",
    "Create the slice at the [Create Slice Notebook](./CreateSlice.ipynb) and import it here.\n"
   ]
  },
  {
   "cell_type": "markdown",
   "id": "20a0d10b-d1dd-443f-bb45-fa09c5d6660b",
   "metadata": {},
   "source": [
    "#### Import the Fabric API"
   ]
  },
  {
   "cell_type": "code",
   "execution_count": null,
   "id": "fe700a5e-e1d8-4c4f-ad33-27d6376cc9af",
   "metadata": {},
   "outputs": [],
   "source": [
    "# Load Fablib and Node Information\n",
    "from fabrictestbed_extensions.fablib.fablib import FablibManager as fablib_manager\n",
    "fablib = fablib_manager()                    \n",
    "fablib.show_config()\n",
    "import json\n",
    "import traceback\n",
    "\n",
    "slice_name = 'ExploringAnsible'\n",
    "try:\n",
    "    slice = fablib.get_slice(slice_name)   \n",
    "    slice.list_nodes()\n",
    "except Exception as e:\n",
    "    print(f\"Get Slices Fail: {e}\")"
   ]
  },
  {
   "cell_type": "markdown",
   "id": "863d2662-85f8-408d-a35e-75a3f50ac55b",
   "metadata": {},
   "source": [
    "## 2. Guieded Experiment"
   ]
  },
  {
   "cell_type": "markdown",
   "id": "3a4506b2-4b85-445d-ab96-980e3a1bde9c",
   "metadata": {},
   "source": [
    "### 2.1 Configure and initialize\n",
    "To start ansible you will have to follow some steps to get the connection set up\n",
    "1. Create your Ansible inventory file: \n",
    "<br> on your Ansible node open a Terminal and run the following command to see the available nodes:\n",
    "<br> ```$ cat inventory```\n",
    "2. Be sure your private key has been added to your SSH agent:\n",
    "<br> ```ssh-agent bash```\n",
    "<br> ```ssh-add ~/Ansible_Key```\n",
    "3. Check to see if your nodes are up and ready. \n",
    "<br> ```$ ansible -i inventory all -m ping ```\n",
    "<br> the output of the command should look like this:\n",
    "<br> ```   server | SUCCESS => {                                      |```\n",
    "<br> ```    \"ansible_facts\":                                          |```\n",
    "<br> ```        \"discovered_interpreter_python\": \"/usr/bin/python3\"   |```\n",
    "<br> ```    },                                                        |```\n",
    "<br> ```    \"changed\": false,                                         |```\n",
    "<br> ```    \"ping\": \"pong\"                                            |```\n",
    "<br> ``` }                                                            |```\n",
    "<br> ``` client | SUCCESS => {                                        |```\n",
    "<br> ```     \"ansible_facts\": {                                       |```\n",
    "<br> ```         \"discovered_interpreter_python\": \"/usr/bin/python3\"  |```\n",
    "<br> ```     },                                                       |```\n",
    "<br> ```    \"changed\": false,                                         |```\n",
    "<br> ```   \"ping\": \"pong\"                                             |```\n",
    "<br> ``` }                                                            |```\n",
    "4. Try using the ping module in Ansible to only ping server or client by replacing all in the above with server or client. "
   ]
  },
  {
   "cell_type": "markdown",
   "id": "ad982d87-335c-4b0b-ac38-e6499d3a563a",
   "metadata": {},
   "source": [
    "### 2.2 Introduction to ansible\n",
    "#### 2.2.1 Ansible Commands\n",
    "The following are some example Ansible Ad Hoc commands. You can run these commands one at a time from the machine where you have Ansible installed. `-b` tells Ansible to use `sudo` when executing the command. All modules are described in the [Ansible Documentation](https://docs.ansible.com/ansible/latest/module_plugin_guide/index.html). \n",
    "\n",
    "<br> [**apt**](https://docs.ansible.com/ansible/2.3/apt_module.html) module is used to install packages using the apt package manager: \n",
    "<br>`  ansible [-i inventory] [all/server/client] -b -m apt -a \"name=apache2 update_cache=yes\"`\n",
    "<br> [**command**](https://docs.ansible.com/ansible/2.3/command_module.html) module is used to execute an arbitrary command on the remote node: \n",
    "<br>`  ansible [-i inventory] [all/server/client]  -b -m command -a \"/usr/sbin/a2enmod status\"`\n",
    "<br> [**file**](https://docs.ansible.com/ansible/2.3/file_module.html) module is used to set attributes of files:\n",
    "<br>`  ansible [-i inventory] [all/server/client] -b -m file -a \"path=/var/www/html state=absent\"`\n",
    "<br> [**synchronize**](https://docs.ansible.com/ansible/2.4/synchronize_module.html) module is an implementation of rsync and is used to efficiently synchronize files between your local machine and a remote node:\n",
    "<br>`  ansible [-i inventory] [all/server/client] -b  -m synchronize \\ -a \"src=website/index.html dest=/var/www\"`\n",
    "<br> [**lineinfile**](https://docs.ansible.com/ansible/latest/collections/ansible/builtin/lineinfile_module.html) module is used to see if an arbitrary line exists in a file: \n",
    "<br>`  ansible [-i inventory] [all/server/client] -b  -m lineinfile \\\n",
    "     -a \"line='ExtendedStatus On' dest=/etc/apache2/conf.d/extendedstatus create=yes state=present\"`\n",
    "<br> [**service**](https://docs.ansible.com/ansible/2.9_ja/modules/service_module.html) module is used to start/stop/restart/etc services: \n",
    "<br>`  ansible [-i inventory] [all/server/client] -b  -m service -a \"name=apache2 state=restarted\"`\n",
    "\n",
    "\n",
    "#### 2.2.1 Ansible Playbook\n",
    "<br>Ansible commands can be collected into files called Playbooks. Playbooks are in a configuration file format called YAML which is very straightforward. In particular, Ansible Ad Hoc commands easily map to commands used in an Ansible Playbook.\n",
    "\n",
    "The Playbook to configure the client node as in the install script is as follows:\n",
    "<br>```   - name: Configure client                                   | ```\n",
    "<br>```     hosts: client                                            | ```\n",
    "<br>```     tasks:                                                   | ```\n",
    "<br>```    - name: install apache2                                   | ```\n",
    "<br>```      apt: name=apache2 update_cache=yes                      | ```\n",
    "<br>```      become: yes                                             | ```\n",
    "<br>```    - name: install iperf                                     | ```\n",
    "<br>```      apt: name=iperf update_cache=yes                        | ```\n",
    "<br>```      become: yes                                             | ```\n",
    "<br>```    - name: copy scripts into /local with permissions 755     | ```\n",
    "<br>```        synchronize: src=scripts dest=/local mode=755         | ```\n",
    "\n",
    "Do these commands look like the Ad Hoc commands you came up with in the previous step?\n",
    "\n",
    "Put the above content in a file called ```hello-client.yml```\n",
    "\n",
    "Run the playbook with the following command on the local machine: \n",
    "<br>```ansible-playbook hello-client.yml -i inventory```\n",
    "\n"
   ]
  },
  {
   "cell_type": "markdown",
   "id": "110d9d87-b868-4ce3-b7b3-f661a2b2d780",
   "metadata": {},
   "source": [
    "### 2.3 Exercises\n",
    "\n",
    "#### 2.3.1 E1 Ansible Commands:\n",
    "Try using the above Ad Hoc Ansible commands in section 2.2.1 to configure the client node by doing the following:\n",
    "1. On both client and server, install ```apache2``` and ```iperf```\n",
    "2. Copy the ```scripts directory``` into ```/local``` on the client node with permissions ```755```.\n",
    "3. Verify the above three items have been done\n",
    "4. Log into the client node and run:\n",
    "<br>```   $ apache2 -v```\n",
    "<br>```   $ iperf -v   ```\n",
    "<br>```   $ ls /local/scripts```\n",
    "\n",
    "\n",
    "#### 2.3.1 E2 Ansible Playbook:\n",
    "Using the above Ansible modules, configure the ```server``` node by reproducing the steps in the HelloGENI install script for the server node. As you find a command that works, use it to construct a ```hello-server.yml``` playbook. (See the yml [solution](https://github.com/GENI-NSF/geni-tutorials/blob/master/AnsibleHelloGENI/hello-server.yml) or download the raw [hello-server.yml](https://raw.githubusercontent.com/GENI-NSF/geni-tutorials/master/AnsibleHelloGENI/hello-server.yml))\n",
    "\n",
    "<br> ```- name: Configure server                                                                    |```\n",
    "<br> ```  hosts: server                                                                             |```\n",
    "<br> ```  tasks:                                                                                    |```\n",
    "<br> ```   - name: install apache2                                                                  |```\n",
    "<br> ```     apt: name=apache2 update_cache=yes                                                     |```\n",
    "<br> ```     become: yes                                                                            |```\n",
    "<br> ```   - name: install iperf                                                                    |```\n",
    "<br> ```     apt: name=iperf update_cache=yes                                                       |```\n",
    "<br> ```     become: yes                                                                            |```\n",
    "<br> ```   - name: /usr/sbin/a2enmod status                                                         |```\n",
    "<br> ```     # INSERT COMMAND HERE                                                                  |```\n",
    "<br> ```   - name: check /etc/apache2/mods-enabled/status.conf file is absent                       |```\n",
    "<br> ```     # INSERT COMMAND HERE                                                                  |```\n",
    "<br> ```   - name: copy website/index.html into /var/www                                            |```\n",
    "<br> ```     # INSERT COMMAND HERE                                                                  |```\n",
    "<br> ```   - name: copy the website/graphics directory into /var/www                                |```\n",
    "<br> ```     # INSERT COMMAND HERE                                                                  |```\n",
    "<br> ```   - name: rm -rf /var/www/html                                                             |```\n",
    "<br> ```     # INSERT COMMAND HERE                                                                  |```\n",
    "<br> ```   - name: Make simlink to webfiles                                                         |```\n",
    "<br> ```     # INSERT COMMAND HERE                                                                  |```\n",
    "<br> ```   - name: restart apache2 service                                                          |```\n",
    "<br> ```     # INSERT COMMAND HERE                                                                  |```\n",
    "<br> ```   - name: Make sure /etc/apache2/conf.d/extendedstatus file contains \"ExtendedStatus On\"   |```\n",
    "<br> ```     # INSERT COMMAND HER                                                                   |```\n",
    "<br> ```   - name: Make sure /etc/apache2/sites-available/default contains Location information     |```\n",
    "<br> ```     # INSERT COMMAND HERE                                                                  |```\n",
    "<br> ```   - name: create directory for iperf logs in /var/www/iperflogs with permissions of 755    |```\n",
    "<br> ```     # INSERT COMMAND HERE                                                                  |```\n",
    "\n",
    "1. Run both the client and server playbooks on your nodes.\n",
    "2. Start the iperf and wget traffic. **STOP HERE and SPEAK TO THE INSTRUCTOR**.\n",
    "    - On the server node do:\n",
    "    <br> ```iperf_server_log=\"/var/www/iperflogs/iperf-server.log\"```\n",
    "    <br> ```sudo bash -c \"iperf -s -i 10 &> $iperf_server_log\"```\n",
    "    - On the client node do:\n",
    "    <br> ```  /local/scripts/client-wget.sh&```\n",
    "    <br> ```  /local/scripts/client-wget.sh&```"
   ]
  },
  {
   "cell_type": "markdown",
   "id": "37223107-cfc1-4546-b7e3-1d3e09fc391d",
   "metadata": {},
   "source": [
    "## 3. Assignment\n",
    "### Part 1\n",
    "1. You may have noticed that the server playbook and the client playbook contained duplicate commands. This is because both nodes need to have apache installed so that they can act as webservers. As you might have guessed, there is a way to modularize this configuration. In Ansible this is done with \"roles\".\n",
    "2. Explore some of the intermediate features of Ansible such as roles, variables, and handlers.\n",
    "\n",
    "### Part 2\n",
    "1. Reserve resource in a second slice ansible2XX (where XX is your initials), and test your playbooks from scratch in the new slice. Do you get the same behavior?\n",
    "\n",
    "If this was a real experiment, you would commit your Ansible playbook to a version control system like git as you go."
   ]
  },
  {
   "cell_type": "markdown",
   "id": "f8d266a2-a0d0-4755-99e3-4582b3f55352",
   "metadata": {
    "tags": []
   },
   "source": [
    "## Cleanup Resources\n",
    "\n",
    "Once you have completed the assignment shut down the slice\n"
   ]
  },
  {
   "cell_type": "code",
   "execution_count": null,
   "id": "fc7e8c3c-190c-4a7a-bdaf-927682fb5486",
   "metadata": {},
   "outputs": [],
   "source": [
    "# Delete Slice\n",
    "try:\n",
    "    #To delete the slice change \"CHECK\" to \"True\", this is to prevent accidental slice deletion\n",
    "    CHECK = False\n",
    "    if (CHECK):\n",
    "        slice = fablib.get_slice(slice_name)\n",
    "        slice.delete()\n",
    "    else:\n",
    "        print(\"Change the Boolean to delete slice\")\n",
    "except Exception as e:\n",
    "    print(f\"Fail: {e}\")"
   ]
  }
 ],
 "metadata": {
  "kernelspec": {
   "display_name": "Python 3 (ipykernel)",
   "language": "python",
   "name": "python3"
  },
  "language_info": {
   "codemirror_mode": {
    "name": "ipython",
    "version": 3
   },
   "file_extension": ".py",
   "mimetype": "text/x-python",
   "name": "python",
   "nbconvert_exporter": "python",
   "pygments_lexer": "ipython3",
   "version": "3.11.8"
  }
 },
 "nbformat": 4,
 "nbformat_minor": 5
}
