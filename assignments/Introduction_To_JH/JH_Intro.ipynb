{
 "cells": [
  {
   "cell_type": "markdown",
   "id": "9cd63d33-dfc5-4945-9833-c95ee7bc5457",
   "metadata": {
    "tags": []
   },
   "source": [
    "#  Welcome to the Jupyter Hub Enviorment\n",
    "\n",
    "This Notebook will show you how to use the JH (Jupyter Hub) Enviorment to run Experiments using the Fabric Fablib code base, How to run Teaching material Experiments and Assignments, And some additional Usefull information incase you run into problems using the Teaching materials\n",
    "\n",
    "**Prerequesites before this notebook**\n",
    "  - You Need to already have created a Fabric Account, If you have not already set this up, follow steps at https://github.com/fabric-testbed/teaching-materials/blob/main/Aditional%20Resources/Using%20Fabric%20Structure/Signing%20up.md\n",
    "  * You need to have your FABRIC bastion host key pair generated. If you have not already set this up, follow steps 1-5 on the first section at https://github.com/fabric-testbed/teaching-materials/blob/main/Aditional%20Resources/Virtual%20Machine%20Key%20Instructions/Generating%20SSH%20Keys%20on%20Fabric%20Portal.md."
   ]
  },
  {
   "cell_type": "markdown",
   "id": "e280922d-a10b-4219-a468-b7dd2d024e10",
   "metadata": {
    "tags": []
   },
   "source": [
    "## Step 1: SSH key Uploads:\n",
    "Before you can start running your experiments you will need to upload ssh keys that allow you to connect to the virtual machines (VMs) that can be created from the jupyter examples, the teaching materials, or your own created experiments. To Generate Keys you can use either your own created keys uploaded to the portal or keys created directly from the FABRIC portal. for information on how to create the Keys please see [ssh generation instructions](https://github.com/fabric-testbed/teaching-materials/blob/main/Aditional%20Resources/Virtual%20Machine%20Key%20Instructions/Generating%20SSH%20Keys%20on%20Fabric%20Portal.md#approach-1--guide-to-generating-ssh-keys-on-fabric-portal) dont forget That you will need bastion keys, not Sliver Keys\n",
    "\n",
    "1. **Step 1:** The first step is to gather information:\n",
    "    - you will need to obtain your bastion login ID \n",
    "    - your Project ID \n",
    "    \n",
    "    The **Bastion Login** can be obtained from the \"Manage ssh Keys\" section under the experiment tab (https://portal.fabric-testbed.net/experiments#sshKeys) The blue box is what you need\n",
    "    <img src=\"./Figures/Bastion_Login.png\">\n",
    "    \n",
    "    The **Project ID** can be obtained from the \"Project & Slices tab\" (https://portal.fabric-testbed.net/experiments), just click on your project's name and you should get the home page, the green box is the id your project.\n",
    "    <img src=\"./Figures/Project_ID.png\">\n",
    "    \n",
    "2. **Step 2:** Once you have located the ID's you will need to go back to JH and navigate to the \"fabric_config\" folder. In this folder you will upload both your private key, and your public key files.\n",
    "    <img src=\"./Figures/Config_Folder.png\">\n",
    "    \n",
    "3. **Step 3:** Navigate to the most reacent \"jupyter-examples-rel\" and open the \"Configure notebook\" you will need to replace the matching boxes with the information you have collected (replace the orange box with your key's name),  if you are unable to find it within the first directory, try upto the three previous Jupyter-examples, some versions may be place holders for future updates.\n",
    "    <img src =\"./Figures/Fabric_Config_File.png\">\n",
    "    \n",
    "4. **Step 4:** Run the entire notebook using the \"double arrow button\"\n",
    "    <img src=\"./Figures/Configure_Notebook.png\"> \n",
    "    \n",
    "5. **Step 5:** open the \"Start_Here\" notebook inside the same directory and run the \"Hello, FABRIC\" experiment to check if the configuration was succesfull\n",
    "    <img src =\"./Figures/FABRIC_HelloNB.png\">"
   ]
  },
  {
   "cell_type": "markdown",
   "id": "de86c774-f4a0-4d8d-8080-cb3fac5afe0d",
   "metadata": {
    "tags": []
   },
   "source": [
    "## Step 2: Running Teaching Material Experiments\n",
    "The average Teaching Material Experiment follows a slightly different workflow structure than the average experiment from the Jupyter Examples Experiments, In the Jupyter experiments you will run a cell block, read the instructions in the MD cell, run another codeblock and so on. In the teaching materials, You only really need to run one notebook to get the experiment under way, this will be the \"Create_Slice\" notebook, And after you have ran this notebook you just have to read the Instructions in the \"\\<AssignmentName>\" notebook.\n"
   ]
  },
  {
   "cell_type": "markdown",
   "id": "b82973e4-3266-4e1d-8253-e972c0b09192",
   "metadata": {
    "jp-MarkdownHeadingCollapsed": true,
    "tags": []
   },
   "source": [
    "### Configure Notebook\n",
    "To run the Configure Notebook you will need to navigate through `./Teaching Materials/assignments/\\<Assignment Name>/` and click on the \"Create Slice notebook\". Alternatively you can go to `./Teaching Materials/assignments/start_here.ipynb` (2.1a) and click on the desired Teaching experiment, This will take you to the desired Assignment. Once in the Notebook you only need to hit the Double arrow button and wait untill it finishes runing (2.1b).\n",
    "<br>**2.1a**<br><img src=\"./Figures/Ping_StartHere.png\"><br>**2.1b**<br><img src=\"./Figures/Teaching_Material_CreateSlice.png\">\n",
    "<br>**Possible Error Points**\n",
    "  - A **general Error** that can occur at any step:\n",
    "      - Expired refresh Token, this error is rare but can happen, to fix this error just Stop the JH enviorment and start it again. \n",
    "          1. navigate and click to the \"File\"\n",
    "          2. click on \"Hub Control Panel\", this will take you to a different page\n",
    "          3. click on \"stop server\" (Dont forget to save any changes you have made before doing this)\n",
    "          4. Once stoped you can hit \"Start Server\"\n",
    "          5. You may need to open a new JH tab if it does not open a new one for you but the error should be fixed\n",
    "  - At the **\"Reserve Reasources\"** Stage: \n",
    "      - The EDUKY Site might be under mantainance, If your project has the OnlyEDUKY tag you may be restricted to this site and will have to wait untill the site goes back up if it is a short mantainance, otherwise tag was lifted and you need to change the experiment to an alternative site such as \"EDC\", \"NCSA\" or \"CLEM\"\n",
    "      - The Slice name is already taken, You will need to change the slice name or check the \"My slices\" page (https://portal.fabric-testbed.net/experiments#slices) to see if it needs deletion or if you can use it to continue your experiment\n",
    "  - At the **\"Set up Experiment Network\"** Stage:\n",
    "      - The SSH Keys provided are not working. If this is the case try running the Steps from Section 1 and make sure that output looks correct on the \"Hello Fabric\" Notebook, Additionaly, if You were able to run experiments before but not anymore: your keys have most likely expired, you will need to obtain new ones and reconfigure your enviorment\n",
    "  - At the **\"Configure Software\"** Stage:\n",
    "      - SSH keys provided are not working, see previous bullit point\n",
    "      - One of the Scripts no longer works as intended, please leave a note at the Knolage base teaching materials Forum \n",
    "      \n",
    "<br>*if any Issue Persists please leave a note in the Teaching materials knowlage base Forum (https://learn.fabric-testbed.net/forums/forum/fabric-educators/)*"
   ]
  },
  {
   "cell_type": "markdown",
   "id": "a6ac44de-868e-45df-bdf7-a8b7395d7266",
   "metadata": {
    "jp-MarkdownHeadingCollapsed": true,
    "tags": []
   },
   "source": [
    "### \\<Assingment_Name> Notebook\n",
    "After the Create_Slice notebook you can now run the Assignment, To get to this assingment simply scroll to the bottom of the Create_Slice notebook and click on the \"Here\" hyperlink, Alternatively if you are in the Assignment folder, just open the Assignment notebook remember that the assignment folder has the following path: `./Teaching Materials/assignments/\\<Assignment Name>/` . In this notebook you ussally only need to run first cell (To get the node IPs of the experiment) and last Cell (delete the slice once you have Finished). You can run the cells individually with the single arrow button or together with the double arrow button, but keep in mind that you might need to run them again once you get there.\n",
    "<img src=\"./Figures/Ping_Notebook.png\">\n",
    "\n",
    "<br>**Notes**\n",
    "   - Some assignments Such as \"TCP Traffic\" and \"RTT Window Size\" willl have aditional cells that provide you with some output that you will have to take a look at so running cells one at a time is prefered in this notebook\n",
    "   - The last cell that clears the slice needs to be modified, this is to prevent a user form accidentaly delating the slice. dont forget to deleate the slice after you are done\n",
    "\n",
    "<br>**Possible Errors**\n",
    "   - **Expired Token errors**: Simmilar to the Create_Slice notebook this can rarely happen but you can fix this by restarting your JH enviorment\n",
    "   - **Slice Not found Error**: \n",
    "       - Make sure that you have the correct **slice name**, if you modified it in the Create_Slice notebook you will have to do it here aswell. \n",
    "       - When slices are created they are given an **expiration date**: if you created your slice it is possible that it was already deleated, you can check if this is the case by going to the \"My slices\" page (https://portal.fabric-testbed.net/experiments#slices). If the slice is not showing in this page; you will need to create the Slice one more time using the \"Create_Slice\" notebook\n",
    "       \n",
    "<br>*if any Issue Persists please leave a note in the Teaching materials knowlage base Forum (https://learn.fabric-testbed.net/forums/forum/fabric-educators/)*"
   ]
  },
  {
   "cell_type": "markdown",
   "id": "954ebb71-c1d1-4b1d-b74a-88449257e99b",
   "metadata": {
    "jp-MarkdownHeadingCollapsed": true,
    "tags": []
   },
   "source": [
    "### Additional Tips\n",
    "In this Section you will learn some useful information that can be applied outside the Teaching materials as well\n",
    "\n",
    "In the Jupyterhub environment when a cell is queued to run there will be a ```[*]``` symbol next to the cell and will only change to a number ```[x]``` once the cell has fully ran, please keep in mind that even though the output may look finished when running items such as the \"Slice.submit()\" or \"slice.list_nodes()'' these items may actually take a while to run. Why is this important to know? The \"queuing\" does not traverse across different notebooks, so if you are creating a slice and immediately run the next notebook \"Assignment_X\", there is a high chance that most of the values will be missing best case and worst case an error is produced and you will have to restart.\n",
    "\n",
    "If your experiment was set up correctly but you are unable to connect to your fabric topology network, a useful command to run in your nodes is \"ip a\". This command is useful because it allows you to take a look at the network status of any node. In some sites the Network Devices are initiated as \"Down\". If the devices are down you will not be able to run any traffic, so to bring them up use \"sudo ip link set dev {device name} up\". In addition if you are creating an experiment you can use this command to verify that the ip's you are assigning and the routes created (ip route) are correct.\n"
   ]
  },
  {
   "cell_type": "markdown",
   "id": "a051b067-39b6-4962-85cd-a6d0eb6605e7",
   "metadata": {
    "tags": []
   },
   "source": [
    "## Continue to The experiment notebooks\n",
    "\n",
    "Congratulations, you shoould have everything you need to know to get started using the JH enviorment to run teaching materials, you can explore other Assignments by going to the Start_Here Notebook using the following [Link](./../start_here.ipynb)"
   ]
  },
  {
   "cell_type": "code",
   "execution_count": null,
   "id": "6d2dc2ff-5798-49f7-9438-86b840b42deb",
   "metadata": {},
   "outputs": [],
   "source": []
  }
 ],
 "metadata": {
  "kernelspec": {
   "display_name": "Python 3 (ipykernel)",
   "language": "python",
   "name": "python3"
  },
  "language_info": {
   "codemirror_mode": {
    "name": "ipython",
    "version": 3
   },
   "file_extension": ".py",
   "mimetype": "text/x-python",
   "name": "python",
   "nbconvert_exporter": "python",
   "pygments_lexer": "ipython3",
   "version": "3.10.6"
  }
 },
 "nbformat": 4,
 "nbformat_minor": 5
}
