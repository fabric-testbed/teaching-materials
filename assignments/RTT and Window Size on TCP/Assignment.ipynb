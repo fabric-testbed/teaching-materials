{
 "cells": [
  {
   "cell_type": "markdown",
   "id": "2f0dfd3f-ff07-4be7-a4ae-484cd46a5e4b",
   "metadata": {
    "tags": []
   },
   "source": [
    "#  RTT Window size Assignment\n",
    "\n",
    "<b> Prerequisites  </b>\n",
    "* You need to have completed the RTT and Window size effects on TCP Experiment, if you have not completed this step you can click [Here](./RTT_Window_Size.ipynb)"
   ]
  },
  {
   "cell_type": "markdown",
   "id": "ed761155-24c2-4d9d-9ec8-9c361ed16cd8",
   "metadata": {},
   "source": [
    "\n",
    "### Part 1: Setup\n",
    "For this assignment, you will utilize the total traffic graphs to plot and compare the results of adjusting the RTT and Window size parameters. Run experiments for every combination of the two window sizes (4KB and 32KB) and two delay amounts (50ms and 250ms), and take a screenshot of the graphs from both nodes after each experiment has completed. You should have 8 pictures in total (e.g. one image for each of the two nodes for each of the following combinations: 4KB and 50ms, 4KB and 250ms, 32KB and 50ms, and 32KB and 250ms).\n",
    "#### How to make a graph\n",
    "to make a graph you will need 2 windows on the client and one on the server.\n",
    "1. Set up the intended time delay using the command you learned from section 2.2\n",
    "2. Start the server side iperf (Do not start the client)\n",
    "3. On one of the windows to the client (A) you will start the pre-loaded script with the command ```RT-output.sh```\n",
    "4. On the second Terminal start the client connection to server via iperf.\n",
    "5. Once completed on Terminal B hit ```Ctrl-c``` on Client Terminal A.\n",
    "6. Run the code block bellow, then open (or close and then re-open) the '.sgv' file to look at your graph\n",
    "*note: each time you make a graph the old one will be deleted, you can prevent this by renaming the file each time*\n",
    "<br><img src=\"./figures/Gsteps.png\">\n"
   ]
  },
  {
   "cell_type": "code",
   "execution_count": null,
   "id": "9e880c60-5dac-4a87-9c3c-3f5c7d9db3cb",
   "metadata": {
    "scrolled": true,
    "tags": []
   },
   "outputs": [],
   "source": [
    "from fabrictestbed_extensions.fablib.fablib import FablibManager as fablib_manager\n",
    "\n",
    "fablib = fablib_manager()\n",
    "import json\n",
    "import traceback\n",
    "\n",
    "slice_name = \"RttWindowTCP\"\n",
    "try:\n",
    "    slice = fablib.get_slice(slice_name)\n",
    "    A = slice.get_node('Client')\n",
    "    A.execute(\"Rscript RT-data-analysis.R  \")\n",
    "    A.download_file(\"Traffic-RT.svg\",\"Traffic-RT.svg\")\n",
    "except Exception as e:\n",
    "    print(f\"Fail: {e}\")"
   ]
  },
  {
   "cell_type": "markdown",
   "id": "f8459970-9b3c-4b61-8dab-dca0305954de",
   "metadata": {},
   "source": [
    "### Part 2: Analysis\n",
    "You should have noticed a large difference in average throughput between the 4KB and 250ms case and the 32KB and 50ms case.\n",
    "\n",
    "Justify this difference in your own words and by referencing the TCP equation given in your notes.\n",
    "\n",
    "*Note: If you actually work out the math with the TCP equation, you should use the total delay of your system, not just the delay you added.*\n"
   ]
  },
  {
   "cell_type": "markdown",
   "id": "06c929ec-8a0f-4033-8d72-0d975e66d472",
   "metadata": {
    "tags": []
   },
   "source": [
    "## Cleanup Resources\n",
    "Once you have completed the assignment shut down the slice"
   ]
  },
  {
   "cell_type": "code",
   "execution_count": null,
   "id": "552fbb0b-8982-4d57-883e-89b643517ab8",
   "metadata": {
    "tags": []
   },
   "outputs": [],
   "source": [
    "from fabrictestbed_extensions.fablib.fablib import FablibManager as fablib_manager\n",
    "\n",
    "fablib = fablib_manager()\n",
    "import json\n",
    "import traceback\n",
    "\n",
    "slice_name = 'RttWindowTCP'\n",
    "try:\n",
    "    slice = fablib.get_slice(slice_name)\n",
    "    slice.delete()\n",
    "except Exception as e:\n",
    "    print(f\"Fail: {e}\")"
   ]
  },
  {
   "cell_type": "code",
   "execution_count": null,
   "id": "6a7373b2-f54d-454b-b12f-7daf5d9d889f",
   "metadata": {},
   "outputs": [],
   "source": []
  }
 ],
 "metadata": {
  "kernelspec": {
   "display_name": "Python 3 (ipykernel)",
   "language": "python",
   "name": "python3"
  },
  "language_info": {
   "codemirror_mode": {
    "name": "ipython",
    "version": 3
   },
   "file_extension": ".py",
   "mimetype": "text/x-python",
   "name": "python",
   "nbconvert_exporter": "python",
   "pygments_lexer": "ipython3",
   "version": "3.10.6"
  }
 },
 "nbformat": 4,
 "nbformat_minor": 5
}
