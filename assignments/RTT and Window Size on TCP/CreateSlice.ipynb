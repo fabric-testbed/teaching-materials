{
 "cells": [
  {
   "cell_type": "markdown",
   "metadata": {
    "tags": []
   },
   "source": [
    "# Create Slice for Fabric Rack\n",
    "This is the slice creation for the ```RTT_Window_Size``` tutorial, This is the first step of the assignment, to create the slice on fabric using fablib\n",
    " "
   ]
  },
  {
   "cell_type": "code",
   "execution_count": null,
   "metadata": {
    "tags": []
   },
   "outputs": [],
   "source": [
    "from fabrictestbed_extensions.fablib.fablib import FablibManager as fablib_manager\n",
    "\n",
    "try:\n",
    "    fablib = fablib_manager()\n",
    "                         \n",
    "    fablib.show_config()\n",
    "except Exception as e:\n",
    "    print(f\"Exception: {e}\")"
   ]
  },
  {
   "cell_type": "code",
   "execution_count": null,
   "metadata": {},
   "outputs": [],
   "source": [
    "slice_name = \"RttWindowTCP\"\n",
    "site = fablib.get_random_site()\n",
    "print(f'site = {site}')\n",
    "\n",
    "nicmodel = \"NIC_Basic\"\n",
    "image = \"default_ubuntu_20\"\n",
    "\n",
    "cores = 1\n",
    "ram = 4\n",
    "disk = 100"
   ]
  },
  {
   "cell_type": "code",
   "execution_count": null,
   "metadata": {},
   "outputs": [],
   "source": [
    "try:\n",
    "    # Create a slice\n",
    "    slice = fablib.new_slice(name=slice_name)\n",
    "    #Server\n",
    "    Server = slice.add_node(name=\"Server\", site=site)\n",
    "    Server.set_capacities(cores=cores, ram=ram, disk=disk)\n",
    "    Server.set_image(image)\n",
    "    S = Server.add_component(model=nicmodel, name=\"Server_P\").get_interfaces()[0] \n",
    "    \n",
    "    \n",
    "    # Client\n",
    "    Client = slice.add_node(name=\"Client\", site=site)\n",
    "    Client.set_capacities(cores=cores, ram=ram, disk=disk)\n",
    "    Client.set_image(image)\n",
    "    C = Client.add_component(model = nicmodel, name=\"Client_P\").get_interfaces()[0] \n",
    "\n",
    "    LAN_CONN = slice.add_l2network(name=\"LAN_CONN\", interfaces=[S, C])\n",
    "    \n",
    "    # Submit the slice\n",
    "    slice.submit()\n",
    "except Exception as e:\n",
    "    print(f\"Exception: {e}\")"
   ]
  },
  {
   "cell_type": "markdown",
   "metadata": {
    "tags": []
   },
   "source": [
    "## Continue to The experiment notebook\n",
    "\n",
    "Once You have completed this notebook you should be able to continue to the RTT Window size Notebook, you can ether open it on the explorer or click [Here](./RTT_Window_Size.ipynb) to open the next notebook."
   ]
  },
  {
   "cell_type": "code",
   "execution_count": null,
   "metadata": {},
   "outputs": [],
   "source": []
  }
 ],
 "metadata": {
  "kernelspec": {
   "display_name": "Python 3 (ipykernel)",
   "language": "python",
   "name": "python3"
  },
  "language_info": {
   "codemirror_mode": {
    "name": "ipython",
    "version": 3
   },
   "file_extension": ".py",
   "mimetype": "text/x-python",
   "name": "python",
   "nbconvert_exporter": "python",
   "pygments_lexer": "ipython3",
   "version": "3.10.6"
  }
 },
 "nbformat": 4,
 "nbformat_minor": 4
}
