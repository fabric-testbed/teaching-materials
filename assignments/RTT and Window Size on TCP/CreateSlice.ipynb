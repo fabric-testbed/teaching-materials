{
 "cells": [
  {
   "cell_type": "markdown",
   "metadata": {
    "tags": []
   },
   "source": [
    "# Create Slice for Fabric Rack\n",
    "This is the slice creation for the ```RTT_Window_Size``` tutorial, This is the first step of the assignment, to create the slice on fabric using fablib\n",
    " "
   ]
  },
  {
   "cell_type": "markdown",
   "metadata": {
    "tags": []
   },
   "source": [
    "## 1. Set up the Experiment\n",
    "\n",
    "In this section you will use the Fablib maager to create a new slice that is composed of 2 nodes for the Window Size Assignment.\n",
    "### 1.1 Reserve Resources\n",
    "In this section we will declare the Structure of the Slice we will be using."
   ]
  },
  {
   "cell_type": "code",
   "execution_count": null,
   "metadata": {
    "tags": []
   },
   "outputs": [],
   "source": [
    "# Import Fablib\n",
    "from fabrictestbed_extensions.fablib.fablib import FablibManager as fablib_manager\n",
    "fablib = fablib_manager()                     \n",
    "fablib.show_config()\n",
    "import json\n",
    "import traceback"
   ]
  },
  {
   "cell_type": "code",
   "execution_count": null,
   "metadata": {},
   "outputs": [],
   "source": [
    "# Define and Submit Slice\n",
    "slice_name = \"RttWindowTCP\"\n",
    "site = \"EDUKY\"\n",
    "print(f'site = {site}')\n",
    "\n",
    "nicmodel = \"NIC_Basic\"\n",
    "image = \"default_ubuntu_20\"\n",
    "\n",
    "cores = 1\n",
    "ram = 2\n",
    "disk = 10\n",
    "\n",
    "try:\n",
    "    # Create a slice\n",
    "    slice = fablib.new_slice(name=slice_name)\n",
    "    #Server\n",
    "    Server = slice.add_node(name=\"Server\", site=site)\n",
    "    Server.set_capacities(cores=cores, ram=ram, disk=disk)\n",
    "    Server.set_image(image)\n",
    "    S = Server.add_component(model=nicmodel, name=\"Server_P\").get_interfaces()[0] \n",
    "    \n",
    "    \n",
    "    # Client\n",
    "    Client = slice.add_node(name=\"Client\", site=site)\n",
    "    Client.set_capacities(cores=cores, ram=ram, disk=disk)\n",
    "    Client.set_image(image)\n",
    "    C = Client.add_component(model = nicmodel, name=\"Client_P\").get_interfaces()[0] \n",
    "\n",
    "    LAN_CONN = slice.add_l2network(name=\"LAN_CONN\", interfaces=[S, C])\n",
    "    \n",
    "    # Submit the slice\n",
    "    slice.submit()\n",
    "except Exception as e:\n",
    "    print(f\"Exception: {e}\")"
   ]
  },
  {
   "cell_type": "markdown",
   "metadata": {
    "tags": []
   },
   "source": [
    "### 1.2 Set up the Experiment Network\n",
    "This section of the slice creation, once the nodes are active, will asign the network spaces some predefined values that we will use for the Assgnment"
   ]
  },
  {
   "cell_type": "code",
   "execution_count": null,
   "metadata": {
    "scrolled": true,
    "tags": []
   },
   "outputs": [],
   "source": [
    "# Setup Network\n",
    "from ipaddress import ip_address, IPv4Address, IPv6Address, IPv4Network, IPv6Network\n",
    "\n",
    "try:\n",
    "    subnet = IPv4Network(\"10.1.1.0/24\")\n",
    "    available_ips = list(subnet)[1:]\n",
    "\n",
    "    network_name = 'LAN_CONN'\n",
    "\n",
    "    for node in slice.get_nodes():\n",
    "        node_iface = node.get_interface(network_name=network_name)  \n",
    "        node_addr = available_ips.pop(0)\n",
    "        node_iface.ip_addr_add(addr=node_addr, subnet=subnet)\n",
    "        \n",
    "        print(f'### Ip adress for node {node.get_name()} is {node_addr} ###')\n",
    "        \n",
    "        for interface in node.get_interfaces():\n",
    "            stdout, stderr = node.execute(f'sudo ip link set dev { interface.get_device_name()} up')\n",
    "        if (node.get_name() == \"Client\"):\n",
    "            A_Device_Name = node_iface.get_device_name()\n",
    "        print(f\"Network status at node {node.get_name()}\")\n",
    "        node.execute(\"ip a\")\n",
    "\n",
    "except Exception as e:\n",
    "    print(f\"Fail: {e}\")"
   ]
  },
  {
   "cell_type": "markdown",
   "metadata": {
    "tags": []
   },
   "source": [
    "### 1.3 Configure the software needed for the nodes in the experiment\n",
    "This section of the slice creation, we will Add any aditional software, tools or scripts that we need for our experiments."
   ]
  },
  {
   "cell_type": "code",
   "execution_count": null,
   "metadata": {
    "scrolled": true,
    "tags": []
   },
   "outputs": [],
   "source": [
    "# Install Software\n",
    "try:\n",
    "    INTERFACE_NAME_HOLDER = \"INTERFACE_NAME\"\n",
    "\n",
    "    for node in slice.get_nodes():        \n",
    "        node.execute(\"sudo apt update\")\n",
    "        node.execute(\"sudo apt install net-tools\")\n",
    "        node.execute(\"sudo apt install iperf\")\n",
    "\n",
    "        #Graphics\n",
    "        node.execute(\"wget https://github.com/fabric-testbed/teaching-materials/raw/main/assignments/RTT%20and%20Window%20Size%20on%20TCP/scripts/RT-data-analysis.R\")\n",
    "        node.execute(\"wget https://github.com/fabric-testbed/teaching-materials/raw/main/assignments/RTT%20and%20Window%20Size%20on%20TCP/scripts/RT-output.sh\")\n",
    "        node.execute(f\"sed -i 's/{INTERFACE_NAME_HOLDER}/{A_Device_Name}/' RT-output.sh\")\n",
    "        node.execute(\"sudo apt-get -y install moreutils r-base-core r-cran-ggplot2 r-cran-littler;sudo sysctl -w net.ipv4.tcp_no_metrics_save=1;chmod +x RT-output.sh \")\n",
    "\n",
    "except Exception as e:\n",
    "    print(f\"Fail: {e}\")"
   ]
  },
  {
   "cell_type": "markdown",
   "metadata": {
    "tags": []
   },
   "source": [
    "## Continue to The experiment notebook\n",
    "\n",
    "Once You have completed this notebook you should be able to continue to the RTT Window size Notebook, you can ether open it on the explorer or click [Here](./RTT_Window_Size.ipynb) to open the next notebook."
   ]
  },
  {
   "cell_type": "code",
   "execution_count": null,
   "metadata": {},
   "outputs": [],
   "source": []
  }
 ],
 "metadata": {
  "kernelspec": {
   "display_name": "Python 3 (ipykernel)",
   "language": "python",
   "name": "python3"
  },
  "language_info": {
   "codemirror_mode": {
    "name": "ipython",
    "version": 3
   },
   "file_extension": ".py",
   "mimetype": "text/x-python",
   "name": "python",
   "nbconvert_exporter": "python",
   "pygments_lexer": "ipython3",
   "version": "3.10.6"
  }
 },
 "nbformat": 4,
 "nbformat_minor": 4
}
