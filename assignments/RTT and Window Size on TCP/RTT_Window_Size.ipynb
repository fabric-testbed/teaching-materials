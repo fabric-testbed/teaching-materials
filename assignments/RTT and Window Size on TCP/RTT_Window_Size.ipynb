{
 "cells": [
  {
   "cell_type": "markdown",
   "id": "9cd63d33-dfc5-4945-9833-c95ee7bc5457",
   "metadata": {
    "tags": []
   },
   "source": [
    "# RTT and Window size effects on TCP\n",
    "<i>Adapted for use with FABRIC from [Effect of RTT and Window Size on TCP](https://www.cs.unc.edu/Research/geni/geniEdu/04-TcpDelayWinSize.html)</i>\n",
    "        \n",
    "<b> Prerequisites  </b>\n",
    "    \n",
    "* You need to have your FABRIC bastion host key pair set up to do this tutorial. If you have not already set this up, follow steps 1-5 at https://github.com/fabric-testbed/teaching-materials/blob/main/Getting%20Started.md#section-1-get-started.\n",
    "* You are comfortable using ssh and executing basic commands using a UNIX shell. [Tips about how to login to hosts.](https://github.com/fabric-testbed/teaching-materials/blob/main/Getting%20Started.md)\n",
    "\n",
    "\n",
    "<br><img src='https://github.com/fabric-testbed/teaching-materials/blob/main/assignments/RTT%20and%20Window%20Size%20on%20TCP/figures/RTTTop.png?raw=true'><br>\n",
    "In this notebook module you will be able to experiment how RTT and TCP window size affect the throughput. You will learn how to adjust the RTT by adjusting time delay, and you will experiment with the window size using the iperf commands.\n",
    "This is the second step in this assignment. To go to the previous step go to slice creation notebook or click [Here](./CreateSlice.ipynb)"
   ]
  },
  {
   "cell_type": "markdown",
   "id": "99bebd36-468e-49c3-9a6a-d30cd65a1054",
   "metadata": {
    "tags": []
   },
   "source": [
    "## 1. Retrieve Slice\n",
    "Create the slice at the [Create Slice Notebook](./CreateSlice.ipynb) and import it here.\n",
    "#### Import the Fabric API"
   ]
  },
  {
   "cell_type": "code",
   "execution_count": null,
   "id": "606801d0-66c7-43be-9f95-2e0fcccf13c8",
   "metadata": {},
   "outputs": [],
   "source": [
    "# Load Fablib and Node Information\n",
    "from fabrictestbed_extensions.fablib.fablib import FablibManager as fablib_manager\n",
    "fablib = fablib_manager()                    \n",
    "fablib.show_config()\n",
    "import json\n",
    "import traceback\n",
    "\n",
    "slice_name = 'RttWindowTCP'\n",
    "try:\n",
    "    slice = fablib.get_slice(slice_name)\n",
    "    print(f\"Slice: {slice.get_name()}, {slice.get_state()}\")\n",
    "    slice.list_nodes()\n",
    "except Exception as e:\n",
    "    print(f\"Get Slices Fail: {e}\")"
   ]
  },
  {
   "cell_type": "markdown",
   "id": "71a4eae8-c0b5-4960-a42c-e2178a5cd8af",
   "metadata": {},
   "source": [
    "## 2. Run Experiment\n",
    "### 2.1 Adjusting the MTU (Maximum Transfer Unit)\n",
    "In this step we will setup the MTU to use later in the tutorial.\n",
    "1. Login to the each node and keep a terminal open on each node.\n",
    "2. Run `ifconfig` on the terminal Server\n",
    "   <br> You should take a note of the interface that contains the server's assigned ip address (10.1.1.1), The interface is of the form ```enp#s0``` where '#' is some number. This will be the interface that is able to connect the server and the client.\n",
    "3. Since this is a GRE tunnel, you can adjust the MTU size for the interfaces. This can be done with the following command:\n",
    "\t<br> `sudo ifconfig <interface name> mtu #`\n",
    "The MTU can be adjusted as needed, but for this experiment we will use `# = 1400`\n",
    "4. Repeat steps 2 and 3 on the client node. Remember that it is likely that the interfaces are the same, but it is not guaranteed\n",
    "\n",
    "\n",
    "\n",
    "### 2.2 Adding and Removing Delay\n",
    "<img src=\"https://github.com/fabric-testbed/teaching-materials/blob/main/assignments/RTT%20and%20Window%20Size%20on%20TCP/figures/RTT.png?raw=true\">\n",
    "\n",
    "In this step we will find how to change the delay of transfer.\n",
    "1. On the Client terminal run the following steps\n",
    "2. First we need to know what the approximate base RTT (Round Trip Time) between the nodes is. We are able to find this information using the ping tool: `ping <Server ip addr> -c 10`\n",
    "We will ping 10 times to find an average RTT in the report. Alternatively you can get an estimate by looking at the individual pings.\n",
    "3. We can use a Linux tool called tc (traffic control) to add a fixed amount of delay to the packets leaving the interface.\n",
    "\t<br> In this case the delay will be 100ms. Use the following command on the Server terminal:\n",
    "\t<br>`sudo tc qdisc add dev <interface name> root netem delay 100ms`\n",
    "\t<br> The command translates to: adjust tc queuing discipline (qdisc) by adding (add) a network emulation (netem) delay of 100 milliseconds to the device at the root.\n",
    "4. If we try running the ping again `ping <Server ip addr> -c 10`\n",
    "\t<br> we should now see that the RTT average is 100ms longer\n",
    "5. We are also able to remove the delay using `sudo tc qdisc del dev <interface name> root`\n",
    "6. Pinging the Server should now be the same as it was before adding the delay `ping <Client ip addr> -c 10`\n",
    "\n",
    "\n",
    "### 2.3 Adjusting The TCP window size\n",
    "<br><img src=\"https://github.com/fabric-testbed/teaching-materials/blob/main/assignments/RTT%20and%20Window%20Size%20on%20TCP/figures/WindowSize.png?raw=true\"><br>\n",
    "In this step, we will learn how to adjust the window size and understand its impact on performance. We can observe that with relatively larger window sizes, we can send more information and occupy more bandwidth compared to relatively small window sizes. Larger window sizes allow for less wait time between network acknowledgment communications and facilitate the transmission of more information. However, it's important to note that there can be trade-offs if your window size is too large, such as potential packet loss.\n",
    "1. iperf is a tool for measuring TCP and UDP bandwidth performance. This tool allows us to change the window size. In the Server Terminal run the following command: `iperf -s`\n",
    "\t<br> This node will run iperf in server mode \"-s\" and it allows it to receive iperf traffic\n",
    "2. On the Client terminal, start the ipref client using `iperf -c <server ip addr> -t 10`\n",
    "\t<br> This command starts iperf in client mode \"-c\" and opens a TCP connection to the server. The client will begin sending packets using the default window size. The client will stop after 10 seconds \"-t 10\".\n",
    "3. Once the Client is done take note of the average bandwidth and use \"Ctrl-c\" in the Server terminal to kill the server\n",
    "4. Now we can repeat the procedure, but we will limit the window size on both the client and the server using the following command: `iperf -s -w 2KB`\n",
    "\t<br> Note that Linux automatically doubles the window size set by iperf.\n",
    "5. In the client terminal type: `iperf -c <server ip addr> -t 10 -w 2KB` to start the connection\n",
    "\t<br> Once the client is done you can compare the average bandwidth value and notice that it is significantly less than when we used the default window size."
   ]
  },
  {
   "cell_type": "markdown",
   "id": "55ee2c90-fad6-4929-97ce-ef2ab1d2e793",
   "metadata": {},
   "source": [
    "## 3.  Assignment\n",
    "### Part 1: Setup\n",
    "For this assignment, you will utilize the total traffic graphs to plot and compare the results of adjusting the RTT and Window size parameters. Run experiments for every combination of the two window sizes (4KB and 32KB) and two delay amounts (50ms and 250ms) and take a screenshot of the graphs from the Client node after each experiment has completed. You should have 4 pictures in total (e.g. one image for each of the two nodes for each of the following combinations: 4KB and 50ms, 4KB and 250ms, 32KB and 50ms, and 32KB and 250ms).\n",
    "#### How to make a graph\n",
    "To make a graph you will need 2 windows on the client and one on the server.\n",
    "1. Set up the intended time delay using the command you learned from section 2.2\n",
    "2. Start the server side iperf (Do not start the client).\n",
    "3. On one of the windows to the client (A) you will start the pre-loaded script with the command ```RT-output.sh```\n",
    "4. On the second Terminal start the client connection to server via iperf.\n",
    "5. Once completed on Terminal B hit ```Ctrl-c``` on Client Terminal A.\n",
    "6. Run the code block bellow, then open (or close and then re-open) the '.sgv' file to look at your graph.\n",
    "*Note: each time you make a graph the old one will be deleted. You can prevent this by renaming the file each time*\n",
    "<br><img src=\"https://github.com/fabric-testbed/teaching-materials/blob/main/assignments/RTT%20and%20Window%20Size%20on%20TCP/figures/Gsteps.png?raw=true\">\n"
   ]
  },
  {
   "cell_type": "code",
   "execution_count": null,
   "id": "6414cc5b-f33b-467a-b5f0-1e818c1e9891",
   "metadata": {
    "scrolled": true,
    "tags": []
   },
   "outputs": [],
   "source": [
    "# Download From Client Node\n",
    "\n",
    "try:\n",
    "    A = slice.get_node('Client')\n",
    "    A.execute(\"Rscript RT-data-analysis.R  \")\n",
    "    A.download_file(\"Traffic-RT.svg\",\"Traffic-RT.svg\")\n",
    "except Exception as e:\n",
    "    print(f\"Fail: {e}\")"
   ]
  },
  {
   "cell_type": "markdown",
   "id": "a21d7e4d-f537-4c04-8539-c0328f7008e7",
   "metadata": {},
   "source": [
    "### Part 2: Analysis\n",
    "You should have noticed a large difference in average throughput between the 4KB and 250ms case and the 32KB and 50ms case.\n",
    "\n",
    "Justify this difference in your own words and by referencing the TCP equation given in your notes.\n",
    "\n",
    "*Note: If you actually work out the math with the TCP equation, you should use the total delay of your system, not just the delay you added.*\n"
   ]
  },
  {
   "cell_type": "markdown",
   "id": "22c54214-f786-48c5-a80b-1de8d3110171",
   "metadata": {
    "tags": []
   },
   "source": [
    "## Cleanup Resources\n",
    "Once you have completed the assignment shut down the slice"
   ]
  },
  {
   "cell_type": "code",
   "execution_count": null,
   "id": "2891662e-72ce-42fe-9d11-2bfe680d2476",
   "metadata": {
    "tags": []
   },
   "outputs": [],
   "source": [
    "# Delete Slice\n",
    "try:\n",
    "    #To delete the slice change \"CHECK\" to \"True\", this is to prevent accidental slice deletion\n",
    "    CHECK = False\n",
    "    if (CHECK):\n",
    "        slice = fablib.get_slice(slice_name)\n",
    "        slice.delete()\n",
    "    else:\n",
    "        print(\"Change the Boolean to delete slice\")\n",
    "except Exception as e:\n",
    "    print(f\"Fail: {e}\")"
   ]
  }
 ],
 "metadata": {
  "kernelspec": {
   "display_name": "Python 3 (ipykernel)",
   "language": "python",
   "name": "python3"
  },
  "language_info": {
   "codemirror_mode": {
    "name": "ipython",
    "version": 3
   },
   "file_extension": ".py",
   "mimetype": "text/x-python",
   "name": "python",
   "nbconvert_exporter": "python",
   "pygments_lexer": "ipython3",
   "version": "3.9.18"
  }
 },
 "nbformat": 4,
 "nbformat_minor": 5
}
