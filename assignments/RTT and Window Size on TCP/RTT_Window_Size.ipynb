{
 "cells": [
  {
   "cell_type": "markdown",
   "id": "9cd63d33-dfc5-4945-9833-c95ee7bc5457",
   "metadata": {
    "tags": []
   },
   "source": [
    "# RTT and Window size effects on TCP\n",
    "<i>Adapted for use with FABRIC from [Effect of RTT and Window Size on TCP](https://www.cs.unc.edu/Research/geni/geniEdu/04-TcpDelayWinSize.html)</i>\n",
    "        \n",
    "<b> Prerequisites  </b>\n",
    "    \n",
    "* You need to have your FABRIC bastion host key pair set up to do this tutorial. If you have not already set this up, follow steps 1-5 at https://github.com/fabric-testbed/teaching-materials/blob/main/Getting%20Started.md#section-1-get-started.\n",
    "* You are comfortable using ssh and executing basic commands using a UNIX shell. [Tips about how to login to hosts.](https://github.com/fabric-testbed/teaching-materials/blob/main/Getting%20Started.md)\n",
    "\n",
    "In this notebook module you will be able to experiment how RTT and TCP window size affect the throughput, you will learn how to adjust the RTT by adjusting time delay and you will experiment with the window size using the iperf commands.\n",
    "This is the second step in this assignment, to go to the previous step go to slice creation notebook or click [Here](./CreateSlice.ipynb)"
   ]
  },
  {
   "cell_type": "markdown",
   "id": "a10f0479-3780-4ee5-9bfd-6eec6782176a",
   "metadata": {
    "tags": []
   },
   "source": [
    "## 1. Setup the Experiment\n",
    "### 1.1 Reserve Resources"
   ]
  },
  {
   "cell_type": "markdown",
   "id": "d982da77-bed0-4b00-b263-1288299c0b1e",
   "metadata": {},
   "source": [
    "#### Import the Fabric API"
   ]
  },
  {
   "cell_type": "code",
   "execution_count": null,
   "id": "606801d0-66c7-43be-9f95-2e0fcccf13c8",
   "metadata": {},
   "outputs": [],
   "source": [
    "from fabrictestbed_extensions.fablib.fablib import FablibManager as fablib_manager\n",
    "\n",
    "fablib = fablib_manager()\n",
    "                     \n",
    "fablib.show_config()\n",
    "\n",
    "import json\n",
    "import traceback"
   ]
  },
  {
   "cell_type": "markdown",
   "id": "343a577e-2c4a-419a-a84c-2fbac4d5f557",
   "metadata": {},
   "source": [
    "####  Retrieve Slice\n",
    "Create the slice at the [Create Slice Notebook](./CreateSlice.ipynb) and import it here.\n"
   ]
  },
  {
   "cell_type": "code",
   "execution_count": null,
   "id": "f83cb316-2e4e-4936-8a36-43290ad52fcf",
   "metadata": {},
   "outputs": [],
   "source": [
    "slice_name = 'RttWindowTCP'\n",
    "try:\n",
    "    slice = fablib.get_slice(slice_name)\n",
    "    print(f\"Slice: {slice.get_name()}, {slice.get_state()}\")\n",
    "    slice.list_nodes()\n",
    "except Exception as e:\n",
    "    print(f\"Get Slices Fail: {e}\")"
   ]
  },
  {
   "cell_type": "code",
   "execution_count": null,
   "id": "5a0d87ab-ddee-4d25-a3d2-eceb4c5ecba1",
   "metadata": {},
   "outputs": [],
   "source": [
    "# ADDDED Subnet\n",
    "from ipaddress import ip_address, IPv4Address, IPv6Address, IPv4Network, IPv6Network\n",
    "\n",
    "subnet = IPv4Network(\"10.1.1.0/24\")\n",
    "available_ips = list(subnet)[1:]\n",
    "\n",
    "\n",
    "network_name = 'LAN_CONN'"
   ]
  },
  {
   "cell_type": "code",
   "execution_count": null,
   "id": "dc4138a3-dfde-4dab-86fb-9b5f1685f163",
   "metadata": {},
   "outputs": [],
   "source": [
    "# configure nodes\n",
    "try:\n",
    "    for node in slice.get_nodes():\n",
    "        node_iface = node.get_interface(network_name=network_name)  \n",
    "        node_addr = available_ips.pop(0)\n",
    "        node_iface.ip_addr_add(addr=node_addr, subnet=subnet)\n",
    "        \n",
    "        print(f'### Ip adress for node {node.get_name()} is {node_addr} ###')\n",
    "        \n",
    "        stdout, stderr = node.execute(f'sudo ip link set dev enp7s0 up')\n",
    "        stdout, stderr = node.execute(f'ip addr show {node_iface.get_os_interface()}')\n",
    "\n",
    "except Exception as e:\n",
    "    print(f\"Fail: {e}\")"
   ]
  },
  {
   "cell_type": "markdown",
   "id": "6c12b527-bd28-4a4b-8cc0-83ae7577f276",
   "metadata": {},
   "source": [
    "### 1.3 Instalation of tools for the tutorial\n",
    "This includes \"ifconfig\", \"iperf\", and Rstudio for the graphics in the assignment"
   ]
  },
  {
   "cell_type": "code",
   "execution_count": null,
   "id": "bddd8c5e-eab6-499f-aba3-119e53b2e5b0",
   "metadata": {
    "scrolled": true,
    "tags": []
   },
   "outputs": [],
   "source": [
    "# configure nodes\n",
    "try:\n",
    "    for node in slice.get_nodes():        \n",
    "        node.execute(\"sudo apt update\")\n",
    "        node.execute(\"sudo apt install net-tools\")\n",
    "        node.execute(\"sudo apt install iperf\")\n",
    "\n",
    "except Exception as e:\n",
    "    print(f\"Fail: {e}\")"
   ]
  },
  {
   "cell_type": "code",
   "execution_count": null,
   "id": "2e797738-3310-4d7e-9a7e-041102012ec7",
   "metadata": {
    "scrolled": true,
    "tags": []
   },
   "outputs": [],
   "source": [
    "try:\n",
    "    for node in slice.get_nodes():\n",
    "        #Graphics\n",
    "        node.upload_file(\"./scripts/RT-data-analysis.R\",\"RT-data-analysis.R\")\n",
    "        node.upload_file(\"./scripts/RT-output.sh\",\"RT-output.sh\")\n",
    "        node.execute(\"sudo apt-get -y install moreutils r-base-core r-cran-ggplot2 r-cran-littler;sudo sysctl -w net.ipv4.tcp_no_metrics_save=1;chmod +x RT-output.sh \")\n",
    "except Exception as e:\n",
    "    print(f\"Fail: {e}\")\n",
    "\n",
    "    "
   ]
  },
  {
   "cell_type": "markdown",
   "id": "71a4eae8-c0b5-4960-a42c-e2178a5cd8af",
   "metadata": {},
   "source": [
    "## 2. Run Experiment\n",
    "### 2.1 Adjusting the MTU (Maximum Transfer Unit)\n",
    "In this step we will setup the MTU to use later in the tutorial\n",
    "1. Login to the each node and keep a terminal open on each node\n",
    "2. Run `ifconfig` on the terminal Server\n",
    "   <br> you should take a note on the interface that contains the server's assigned ip address (10.1.1.1), The interface is of the form ```enp#s0``` where '#' is some number, this will be the interface that is able to connect the server and the client.\n",
    "3. Since this is a GRE tunnel, you can adjust the MTU size for the interfaces, this can be done with the following command\n",
    "\t<br> `sudo ifconfig <interface name> mtu #` The MTU can be adjusted as needed but for this experiment we will use `# = 1400`\n",
    "4. repeat steps 2 and 3 on the client node, remember that it is likely that the interfaces are the same but it is not guaranteed\n",
    "\n",
    "\n",
    "\n",
    "### 2.2 Adding and Removing Delay\n",
    "<img src=\"./figures/RTT.png\">\n",
    "\n",
    "In this step we will find how to change the delay of transfer.\n",
    "1. on the Server terminal run the following steps\n",
    "2. First we need to know what the approximate base RTT (Round Trip Time) between the nodes is, we are able to find this information using the ping tool: `ping <Client ip addr> -c 10` we will ping 10 times to find an average RTT in the report. alternatively you can get an estimate by looking at the individual pings\n",
    "3. We can use a Linux tool called tc (traffic control) to add a fixed amount of delay to the packets leaving the interface.\n",
    "\t<br> In this case the delay will be 100ms using the following command\n",
    "\t<br>`sudo tc qdisc add dev <interface name> root netem delay 100ms`\n",
    "\t<br> The command translates to: adjust tc queuing discipline (qdisc) by adding (add) a network emulation (netem) delay of 100 milliseconds to the device at the root\n",
    "4. If we try running the ping again `ping <Client ip addr> -c 10`\n",
    "\t<br> we should now see that the RTT average is now 100ms longer\n",
    "5. we are also able to remove the delay using `sudo tc qdisc del dev <interface name> root`\n",
    "6. Pinging the client should now be the same as it was before adding the delay `ping <Client ip addr> -c 10`\n",
    "\n",
    "\n",
    "### 2.3 Adjusting The TCP window size\n",
    "<br><img src=\"./figures/WindowSize.png\"><br>\n",
    "In this step we will learn how to adjust the window size and how it affects the performance\n",
    "1. iperf is a tool for measuring TCP and UDP bandwidth performance. This tool allows us to change the window size. In the Server Terminal run the following command: `iperf -s`\n",
    "\t<br> This node will run iperf in server mode \"-s\" and it allows it to receive iperf traffic\n",
    "2. On the Client terminal, start the ipref client using `iperf -c <server ip addr> -t 10`\n",
    "\t<br> This command starts iperf in client mode \"-c\" and opens a TCP connection to the server, the client will begin sending packets using the default window size. The client will stop after 10 seconds \"-t 10\".\n",
    "3. Once the Client is done take note of the average bandwidth and use \"Ctrl-c\" in the Server terminal to kill the server\n",
    "4. Now we can repeat the procedure but we will limit the window size on both the client and the server using the following command: `iperf -s -w 2KB`\n",
    "\t<br> Note that Linux automatically doubles the window size set by iperf.\n",
    "5. In the client terminal type: `iperf -c <server ip addr> -t 10 -w 2KB` to start the connection\n",
    "\t<br> Once the client is done you can compare the average bandwidth value and notice that it is significantly less than when we used the default window size."
   ]
  },
  {
   "cell_type": "markdown",
   "id": "507bcf2b-1877-4fed-83a9-04a276f06a9b",
   "metadata": {},
   "source": [
    "## Continue to The Assignment notebook\n",
    "\n",
    "Once You have completed this notebook you should be able to continue to the RTT Window size Assignment Notebook, you can ether open it on the explorer or click [Here](./Assignment.ipynb) to open the next notebook."
   ]
  },
  {
   "cell_type": "code",
   "execution_count": null,
   "id": "6a7373b2-f54d-454b-b12f-7daf5d9d889f",
   "metadata": {},
   "outputs": [],
   "source": []
  }
 ],
 "metadata": {
  "kernelspec": {
   "display_name": "Python 3 (ipykernel)",
   "language": "python",
   "name": "python3"
  },
  "language_info": {
   "codemirror_mode": {
    "name": "ipython",
    "version": 3
   },
   "file_extension": ".py",
   "mimetype": "text/x-python",
   "name": "python",
   "nbconvert_exporter": "python",
   "pygments_lexer": "ipython3",
   "version": "3.10.6"
  }
 },
 "nbformat": 4,
 "nbformat_minor": 5
}
