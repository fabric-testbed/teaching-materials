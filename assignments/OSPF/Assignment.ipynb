{
 "cells": [
  {
   "cell_type": "markdown",
   "id": "2f0dfd3f-ff07-4be7-a4ae-484cd46a5e4b",
   "metadata": {
    "tags": []
   },
   "source": [
    "#  OSPF Assignment\n",
    "\n",
    "<b> Prerequisites  </b>\n",
    "* You need to have completed the OSPF Experiment, if you have not completed this step you can click [Here](./OSPF.ipynb)"
   ]
  },
  {
   "cell_type": "markdown",
   "id": "ed761155-24c2-4d9d-9ec8-9c361ed16cd8",
   "metadata": {},
   "source": [
    "### Assignment\n",
    "#### Part 1\n",
    "From A ping one of C's interfaces. See if you can trick OSPF into failing to route packets momentarily (causing ping to hang) even though there is a path from A to C.\n",
    "1. Briefly describe how you did it?\n",
    "\n",
    "#### Part 2\n",
    "The hello interval and dead interval values can be configured in the ospfd configuration located at /etc/quagga/ospfd.conf. Modify this file on each of the nodes, adding two lines below each interface like this:\n",
    "<br> `interface eth1`\n",
    "<br> `ip ospf hello-interval 2`\n",
    "<br> `ip ospf dead-interval 5`\n",
    "\n",
    "This changes the hello interval to 2 seconds and the dead  interval to 5 seconds. change these values on each of the 4 nodes, and then restart the quagga by typing the following command: ```sudo /etc/init.d/quagga restart```\n",
    "finally enter the router interface by typing: ```vtysh```\n",
    "\n",
    "then redo 2.2 and 2.3 to answer the following questions:\n",
    "\n",
    "1. From your experience in the main part of the experiment, before you made changes, what is the default value of the dead-interval for this implementation of OSPF?\n",
    "2. After making the above changes, what is different in how OSPF responds to broken links?\n",
    "3. What types of networks would shorter hello-interval and dead interval values be more suited for?\n",
    "4. What is one downside of using shorter hello-intervals and dead-intervals?\n"
   ]
  },
  {
   "cell_type": "markdown",
   "id": "06c929ec-8a0f-4033-8d72-0d975e66d472",
   "metadata": {
    "tags": []
   },
   "source": [
    "## Cleanup Resources\n",
    "Once you have completed the assignment shut down the slice"
   ]
  },
  {
   "cell_type": "code",
   "execution_count": null,
   "id": "552fbb0b-8982-4d57-883e-89b643517ab8",
   "metadata": {
    "tags": []
   },
   "outputs": [],
   "source": [
    "from fabrictestbed_extensions.fablib.fablib import FablibManager as fablib_manager\n",
    "\n",
    "fablib = fablib_manager()\n",
    "import json\n",
    "import traceback\n",
    "\n",
    "slice_name = \"OSPF\"\n",
    "try:\n",
    "    slice = fablib.get_slice(slice_name)\n",
    "    slice.delete()\n",
    "except Exception as e:\n",
    "    print(f\"Fail: {e}\")"
   ]
  },
  {
   "cell_type": "code",
   "execution_count": null,
   "id": "6a7373b2-f54d-454b-b12f-7daf5d9d889f",
   "metadata": {},
   "outputs": [],
   "source": []
  }
 ],
 "metadata": {
  "kernelspec": {
   "display_name": "Python 3 (ipykernel)",
   "language": "python",
   "name": "python3"
  },
  "language_info": {
   "codemirror_mode": {
    "name": "ipython",
    "version": 3
   },
   "file_extension": ".py",
   "mimetype": "text/x-python",
   "name": "python",
   "nbconvert_exporter": "python",
   "pygments_lexer": "ipython3",
   "version": "3.10.6"
  }
 },
 "nbformat": 4,
 "nbformat_minor": 5
}
