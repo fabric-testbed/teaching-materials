{
 "cells": [
  {
   "cell_type": "markdown",
   "id": "5f373d6e-223a-479a-971c-c39c02aa1390",
   "metadata": {},
   "source": [
    "# Create Slice for Fabric Rack\n",
    "This is the slice creation for the ```OSPF``` tutorial. This is the first step of the assignment, to create the slice on fabric using fablib.\n",
    " "
   ]
  },
  {
   "cell_type": "markdown",
   "id": "666690b5-70b0-4dcd-9c8e-c4aaaa9f85a8",
   "metadata": {
    "tags": []
   },
   "source": [
    "## 1. Set up the Experiment\n",
    "\n",
    "In this section you will use the Fablib manager to create a new slice that is composed of 4 nodes for the OSPF Assignment.\n",
    "### 1.1 Reserve Resources\n",
    "In this section we will declare the structure of the slice we will be using."
   ]
  },
  {
   "cell_type": "code",
   "execution_count": null,
   "id": "3e84a125-c5f8-4b38-ada2-b585ee5a83ab",
   "metadata": {},
   "outputs": [],
   "source": [
    "# Import Fablib\n",
    "from fabrictestbed_extensions.fablib.fablib import FablibManager as fablib_manager\n",
    "fablib = fablib_manager()                     \n",
    "fablib.show_config()\n",
    "import json\n",
    "import traceback"
   ]
  },
  {
   "cell_type": "code",
   "execution_count": null,
   "id": "c750ec14-1761-4592-8530-78edd3968a4a",
   "metadata": {},
   "outputs": [],
   "source": [
    "# Define and Submit Slice\n",
    "slice_name = \"OSPF\"\n",
    "site = \"EDUKY\"\n",
    "print(site)\n",
    "\n",
    "nicmodel = \"NIC_Basic\"\n",
    "image = \"default_ubuntu_20\"\n",
    "\n",
    "cores = 1\n",
    "ram = 2\n",
    "disk = 10"
   ]
  },
  {
   "cell_type": "code",
   "execution_count": null,
   "id": "a206b6be-d3f8-4e6f-ab42-f0ea79c23d7b",
   "metadata": {},
   "outputs": [],
   "source": [
    "# Setup Network\n",
    "try:\n",
    "    #Create Slice\n",
    "    slice = fablib.new_slice(name=slice_name)\n",
    "    \n",
    "    #Node A\n",
    "    A = slice.add_node(name=\"ND_A\", site=site)\n",
    "    A.set_image('default_ubuntu_20')\n",
    "    AP1 = A.add_component(model='NIC_Basic', name=\"APort1\").get_interfaces()[0] \n",
    "    AP2 = A.add_component(model='NIC_Basic', name=\"APort2\").get_interfaces()[0]\n",
    "    \n",
    "    #Node B\n",
    "    B = slice.add_node(name=\"ND_B\", site=site)\n",
    "    B.set_image('default_ubuntu_20')\n",
    "    BP1 = B.add_component(model=nicmodel, name=\"BPort1\").get_interfaces()[0] \n",
    "    BP2 = B.add_component(model=nicmodel, name=\"BPort2\").get_interfaces()[0]\n",
    "    \n",
    "    #Node C\n",
    "    C = slice.add_node(name=\"ND_C\", site=site)\n",
    "    C.set_image('default_ubuntu_20')\n",
    "    CP1 = C.add_component(model=nicmodel, name=\"CPort1\").get_interfaces()[0] \n",
    "    CP2 = C.add_component(model=nicmodel, name=\"CPort2\").get_interfaces()[0]\n",
    "    \n",
    "    #Node D\n",
    "    D = slice.add_node(name=\"ND_D\", site=site)\n",
    "    D.set_image('default_ubuntu_20')\n",
    "    DP1 = D.add_component(model=nicmodel, name=\"DPort1\").get_interfaces()[0] \n",
    "    DP2 = D.add_component(model=nicmodel, name=\"DPort2\").get_interfaces()[0]\n",
    "    \n",
    "    Lan1 = slice.add_l2network(name=\"Lan1\", interfaces=[AP1, BP1])\n",
    "    Lan2 = slice.add_l2network(name=\"Lan2\", interfaces=[BP2, CP1])\n",
    "    Lan3 = slice.add_l2network(name=\"Lan3\", interfaces=[CP2, DP1])\n",
    "    Lan4 = slice.add_l2network(name=\"Lan4\", interfaces=[DP2, AP2])\n",
    "    \n",
    "    #Submit Slice Request\n",
    "    slice.submit()\n",
    "except Exception as e:\n",
    "    print(f\"Slice Failed: {e}\")"
   ]
  },
  {
   "cell_type": "markdown",
   "id": "f5304bf1-6ad5-4c5e-88eb-1a42cb7aeaff",
   "metadata": {
    "tags": []
   },
   "source": [
    "### 1.2 Set up the Experiment Network\n",
    "In this section of the slice creation, once the nodes are active, will assign the network spaces some predefined values that we will use for the assignment"
   ]
  },
  {
   "cell_type": "code",
   "execution_count": null,
   "id": "bb9d4f34-014e-4444-9162-ea766dbbea10",
   "metadata": {},
   "outputs": [],
   "source": [
    "# Setup Network\n",
    "from ipaddress import ip_address, IPv4Address, IPv6Address, IPv4Network, IPv6Network\n",
    "\n",
    "try:    \n",
    "    A = slice.get_node(name=\"ND_A\") \n",
    "    B = slice.get_node(name=\"ND_B\")\n",
    "    C = slice.get_node(name=\"ND_C\")\n",
    "    D = slice.get_node(name=\"ND_D\")\n",
    "    \n",
    "    subnet1 = IPv4Network(\"10.1.1.0/24\")\n",
    "    subnet2 = IPv4Network(\"10.1.2.0/24\")\n",
    "    subnet3 = IPv4Network(\"10.1.3.0/24\")\n",
    "    subnet4 = IPv4Network(\"10.1.4.0/24\")\n",
    "    \n",
    "    AP1 = A.get_interface(network_name=\"Lan1\") \n",
    "    AP1.ip_addr_add(addr=\"10.1.1.1\", subnet=subnet1)\n",
    "    \n",
    "    BP1 = B.get_interface(network_name=\"Lan1\") \n",
    "    BP1.ip_addr_add(addr=\"10.1.1.2\", subnet=subnet1)\n",
    "    \n",
    "    BP2 = B.get_interface(network_name=\"Lan2\") \n",
    "    BP2.ip_addr_add(addr=\"10.1.2.1\", subnet=subnet2)\n",
    "            \n",
    "    CP1 = C.get_interface(network_name=\"Lan2\") \n",
    "    CP1.ip_addr_add(addr=\"10.1.2.2\", subnet=subnet2)\n",
    "    \n",
    "    CP2 = C.get_interface(network_name=\"Lan3\") \n",
    "    CP2.ip_addr_add(addr=\"10.1.3.1\", subnet=subnet3)\n",
    "    \n",
    "    DP1 = D.get_interface(network_name=\"Lan3\") \n",
    "    DP1.ip_addr_add(addr=\"10.1.3.2\", subnet=subnet3)\n",
    "    \n",
    "    DP2 = D.get_interface(network_name=\"Lan4\") \n",
    "    DP2.ip_addr_add(addr=\"10.1.4.1\", subnet=subnet4)\n",
    "            \n",
    "    AP2 = A.get_interface(network_name=\"Lan4\") \n",
    "    AP2.ip_addr_add(addr=\"10.1.4.2\", subnet=subnet4)\n",
    "    \n",
    "    A_Device_Name = AP1.get_device_name()\n",
    "    B_Device_Name = AP2.get_device_name()\n",
    "    \n",
    "    for node in slice.get_nodes():\n",
    "        for interface in node.get_interfaces():\n",
    "            stdout, stderr = node.execute(f'sudo ip link set dev { interface.get_device_name()} up')\n",
    "        print(f\"Network status at node {node.get_name()}\")\n",
    "        node.execute(\"ip a\")\n",
    "        \n",
    "except Exception as e:\n",
    "    print(f\"Exception: {e}\")"
   ]
  },
  {
   "cell_type": "markdown",
   "id": "9b7bdd62-b6b9-4b96-8c4e-97a0ecc4bdb1",
   "metadata": {
    "tags": []
   },
   "source": [
    "### 1.3 Configure the software needed for the nodes in the experiment\n",
    "This section of the slice creation, we will add any aditional software, tools or scripts that we need for our experiments."
   ]
  },
  {
   "cell_type": "code",
   "execution_count": null,
   "id": "924fb507-78d6-49c6-a740-3c3a64770c76",
   "metadata": {
    "scrolled": true,
    "tags": []
   },
   "outputs": [],
   "source": [
    "# Install Software\n",
    "INTERFACE_NAME_HOLDER1 = \"INTERFACE_NAME_1\"\n",
    "INTERFACE_NAME_HOLDER2 = \"INTERFACE_NAME_2\"\n",
    "\n",
    "try:\n",
    "    for node in slice.get_nodes():\n",
    "        node.execute(\" wget https://github.com/fabric-testbed/teaching-materials/raw/main/assignments/OSPF/scripts/ospf-script.sh\")\n",
    "        #node.upload_file(\"scripts/ospf-script.sh\",\"ospf-script.sh\")\n",
    "        node.execute(f\"sed -i 's/{INTERFACE_NAME_HOLDER1}/{A_Device_Name}/' ospf-script.sh\")\n",
    "        node.execute(f\"sed -i 's/{INTERFACE_NAME_HOLDER2}/{B_Device_Name}/' ospf-script.sh\")\n",
    "        node.execute(\"chmod +x ospf-script.sh\")\n",
    "        node.execute(\"./ospf-script.sh\")\n",
    "        node.execute(\"sudo cp /usr/share/doc/quagga-core/examples/vtysh.conf.sample /etc/quagga/vtysh.conf\")\n",
    "        node.execute(\"sudo cp /usr/share/doc/quagga-core/examples/bgpd.conf.sample /etc/quagga/bgpd.conf\")\n",
    "        node.execute(\"sudo chown quagga:quagga /etc/quagga/*.conf\")\n",
    "        node.execute(\"sudo chown quagga:quaggavty /etc/quagga/vtysh.conf\")\n",
    "        node.execute(\"sudo chmod 640 /etc/quagga/*.conf\")\n",
    "        node.execute(\"sudo service zebra start\")\n",
    "        node.execute(\"sudo service ospfd start\")\n",
    "except Exception as e:\n",
    "    print(f\"Fail: {e}\")\n",
    "\n",
    "    "
   ]
  },
  {
   "cell_type": "markdown",
   "id": "f60750e1-b1a9-4892-970b-ded9f21475da",
   "metadata": {
    "tags": []
   },
   "source": [
    "## Continue to The experiment notebook\n",
    "\n",
    "Once you have completed this notebook you should be able to continue to the OSPF Notebook. You can either open it on the explorer or click [Here](./OSPF.ipynb) to open the next notebook."
   ]
  },
  {
   "cell_type": "code",
   "execution_count": null,
   "id": "ec0e6a4b-b487-4a11-8d2a-835da0786a56",
   "metadata": {},
   "outputs": [],
   "source": []
  }
 ],
 "metadata": {
  "kernelspec": {
   "display_name": "Python 3 (ipykernel)",
   "language": "python",
   "name": "python3"
  },
  "language_info": {
   "codemirror_mode": {
    "name": "ipython",
    "version": 3
   },
   "file_extension": ".py",
   "mimetype": "text/x-python",
   "name": "python",
   "nbconvert_exporter": "python",
   "pygments_lexer": "ipython3",
   "version": "3.10.6"
  }
 },
 "nbformat": 4,
 "nbformat_minor": 5
}
