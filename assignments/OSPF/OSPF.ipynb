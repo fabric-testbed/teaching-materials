{
 "cells": [
  {
   "cell_type": "markdown",
   "id": "61856300-d7f4-4cc8-b5f9-5490fee46a53",
   "metadata": {},
   "source": [
    "# Introduction to OSPF\n",
    "<i>Adapted for use with FABRIC from [OSPF](https://www.cs.unc.edu/Research/geni/geniEdu/06-Ospf.html)</i>\n",
    "    \n",
    "In this tutorial you will experiment with the OSPF routing protocol.\n",
    "    \n",
    "<b> Prerequisites  \n",
    "    \n",
    "* You need to have your FABRIC bastion host key pair set up to do this tutorial. If you have not already set this up, follow steps 1-5 at https://github.com/fabric-testbed/teaching-materials/blob/main/Getting%20Started.md#section-1-get-started.\n",
    "* You are comfortable using ssh and executing basic commands using a UNIX shell. [Tips about how to login to hosts.](https://github.com/fabric-testbed/teaching-materials/blob/main/Getting%20Started.md)\n",
    "\n",
    "<br><img src=\"https://github.com/fabric-testbed/teaching-materials/blob/main/assignments/OSPF/figures/OSPFTop.png?raw=true\"><br>\n",
    "OSPF stands for Open Shortest Path First, and is currently the most widely used interior gateway protocol in the world. OSPF is a dynamic routing protocol, meaning changes are accounted for automatically. Hello messages are used to discover neighbors and find breaks. By default, hello messages are sent by OSPF routers every 10 seconds on point to point segments.\n",
    "<br><br>Each OSPF router maintains a Link State Database (LSDB) containing Link State Advertisements (LSAs). Newly discovered neighbors exchange their LSDBs with Database Description (DDs) messages.\n",
    "<br><br>OSPF uses Router Dead Intervals, the maximum time a router may be \"silent\" before being declared \"down\". OSPF uses Djikstra's Shortest path algorithm to compute routes.\n",
    "<br><br>This is the second step in this assignment, to go to the previous step go to slice creation notebook or click [Here](./CreateSlice.ipynb)"
   ]
  },
  {
   "cell_type": "markdown",
   "id": "562ae56e-55a0-49af-9e1a-11620ae546d3",
   "metadata": {
    "tags": []
   },
   "source": [
    "## 1. Retrieve Slice\n",
    "Create the slice at the [Create Slice Notebook](./CreateSlice.ipynb) and import it here.\n",
    "#### Import the Fabric API"
   ]
  },
  {
   "cell_type": "code",
   "execution_count": null,
   "id": "968dbb3f-f033-4989-96df-8b0956eed211",
   "metadata": {},
   "outputs": [],
   "source": [
    "# Load Fablib and Node Information\n",
    "from fabrictestbed_extensions.fablib.fablib import FablibManager as fablib_manager\n",
    "fablib = fablib_manager()                    \n",
    "fablib.show_config()\n",
    "import json\n",
    "import traceback\n",
    "\n",
    "slice_name = \"OSPF\"\n",
    "slice = fablib.get_slice(slice_name)\n",
    "slice.list_nodes()"
   ]
  },
  {
   "cell_type": "markdown",
   "id": "effb804c-23e4-47c0-beb1-82f33882842c",
   "metadata": {
    "tags": []
   },
   "source": [
    "\n",
    "## 2. Guided Experiment\n",
    "\n",
    "<br><img src=\"https://github.com/fabric-testbed/teaching-materials/blob/main/assignments/OSPF/figures/ospf.png?raw=true\"><br>\n",
    "\n",
    "### 2.1 Router Interface\n",
    "1. Login to each node\n",
    "2. Open the Quagga shell\n",
    "Quagga provides an integrated user interface shell called vtysh, a cisco-like CLI, connecting to the underlying daemons (zebra and ospfd). <br>Open the shell on each node by typing:\n",
    "<br>```sudo vtysh```\n",
    "3. Look at the OSPF neighbors for a node by typing the following into a vtysh console:\n",
    "<br>```show ip ospf neighbor```\n",
    "<br>The output shows the status of neighbors including details of the connections, such as the Dead time, wichh indicates a countdown to refresh the connection.\n",
    "\n",
    "4. The routing table for a node can be seen by typing the following into a vtysh console:\n",
    "<br>```show ip ospf route```\n",
    "<br>This table shows how packets would be forwarded from the source to a given available destination.\n",
    "5. Exiting the console can be done by executing:\n",
    "<br>```exit```\n",
    "\n",
    "\n",
    "### 2.2 Dead Link\n",
    "1. Login to a node\n",
    "2. Show available interfaces with:\n",
    "<br>```ip addr```\n",
    "3. Take down one of the links (enp7s0 or enp87s0), keep in mind the IP address associated:\n",
    "<br>```sudo ip link set dev <interface> down```\n",
    "\n",
    "4. Quickly switch back to vtysh shell and reissue:\n",
    "<br>```show ip ospf neighbor```\n",
    "5. Reissue the command multiple times and watch the Dead Time count down until the neighbor is removed from the table. The other link will also count down, but resets when receiving a hello message.\n",
    "6. Exit the console and bring the interface back up by typing:\n",
    "<br>```sudo ip link set dev <interface> up```\n",
    "7. List the OSPF neighbors once more to see the link listed.\n",
    "\n",
    "### 2.3 Route Change\n",
    "<br><img src=\"https://github.com/fabric-testbed/teaching-materials/blob/main/assignments/OSPF/figures/deadLink.png?raw=true\"><br>\n",
    "1. Login to node 'A'\n",
    "2. Run the following command:\n",
    "<br>```traceroute 10.1.3.1```\n",
    "<br>Traceroute will determine the route that packets are taking through the network. Running the command on node A will show packets traveling through 10.1.4.1 (node D) to 10.1.3.1 (node C).\n",
    "3. Take down the interface to node D (enp8s0):\n",
    "<br>```sudo ip link set dev <interface> down```\n",
    "\n",
    "4. Run traceroute again:\n",
    "<br>```traceroute 10.1.3.1```\n",
    "<br>The output should now show traffic going through 10.1.1.2 (node B).\n",
    "5. Bring the route to node D (enp8s0) back up:\n",
    "<br>```sudo ip link set dev <interface> up```\n",
    "6. Repeatedly run traceroute and eventually the route through node D will reappear.\n"
   ]
  },
  {
   "cell_type": "markdown",
   "id": "db5d715b-2adf-491c-9a1e-766531d8e942",
   "metadata": {},
   "source": [
    "## 3.  Assignment\n",
    "### Part 1\n",
    "From A ping one of C's interfaces. See if you can trick OSPF into failing to route packets momentarily (causing ping to hang) even though there is a path from A to C.\n",
    "1. Briefly describe how you did it?\n",
    "\n",
    "### Part 2\n",
    "The hello interval and dead interval values can be configured in the ospfd configuration located at /etc/quagga/ospfd.conf. Modify this file on each of the nodes, adding two lines below each interface like this:\n",
    "<br> `interface eth1`\n",
    "<br> `ip ospf hello-interval 2`\n",
    "<br> `ip ospf dead-interval 5`\n",
    "\n",
    "This changes the hello interval to 2 seconds and the dead  interval to 5 seconds. change these values on each of the 4 nodes, and then restart the quagga by typing the following command: ```sudo /etc/init.d/quagga restart```\n",
    "finally enter the router interface by typing: ```vtysh```\n",
    "\n",
    "then redo 2.2 and 2.3 to answer the following questions:\n",
    "\n",
    "1. From your experience in the main part of the experiment, before you made changes, what is the default value of the dead-interval for this implementation of OSPF?\n",
    "2. After making the above changes, what is different in how OSPF responds to broken links?\n",
    "3. What types of networks would shorter hello-interval and dead interval values be more suited for?\n",
    "4. What is one downside of using shorter hello-intervals and dead-intervals?\n"
   ]
  },
  {
   "cell_type": "markdown",
   "id": "c67bd861-f6d0-400c-b2c7-45f0c09660da",
   "metadata": {
    "tags": []
   },
   "source": [
    "## Cleanup Resources\n",
    "Once you have completed the assignment shut down the slice"
   ]
  },
  {
   "cell_type": "code",
   "execution_count": null,
   "id": "21df0f5c-5e48-4b01-a660-1281d7a97cb7",
   "metadata": {
    "tags": []
   },
   "outputs": [],
   "source": [
    "# Delete Slice\n",
    "try:\n",
    "    #To delete the slice change \"CHECK\" to \"True\", this is to prevent accidental slice deletion\n",
    "    CHECK = False\n",
    "    if (CHECK):\n",
    "        slice = fablib.get_slice(slice_name)\n",
    "        slice.delete()\n",
    "    else:\n",
    "        print(\"Change the Boolean to delete slice\")\n",
    "except Exception as e:\n",
    "    print(f\"Fail: {e}\")"
   ]
  }
 ],
 "metadata": {
  "kernelspec": {
   "display_name": "Python 3 (ipykernel)",
   "language": "python",
   "name": "python3"
  },
  "language_info": {
   "codemirror_mode": {
    "name": "ipython",
    "version": 3
   },
   "file_extension": ".py",
   "mimetype": "text/x-python",
   "name": "python",
   "nbconvert_exporter": "python",
   "pygments_lexer": "ipython3",
   "version": "3.10.6"
  }
 },
 "nbformat": 4,
 "nbformat_minor": 5
}
