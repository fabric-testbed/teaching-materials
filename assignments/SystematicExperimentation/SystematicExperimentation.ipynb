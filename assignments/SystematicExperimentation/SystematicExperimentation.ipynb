{
 "cells": [
  {
   "cell_type": "markdown",
   "id": "c2a36b94-1015-4f4d-9d63-73e77651dab8",
   "metadata": {},
   "source": [
    "# Systematic Experimentation (with Ansible)\n",
    "<i>Adapted for use with FABRIC from [Systematic Experimentation (with Ansible)](https://groups.geni.net/geni/wiki/GENIExperimenter/Tutorials/SystematicExperimentationAnsible)\n",
    "\n",
    "<b> Prerequisites  \n",
    "    \n",
    "* You need to have your FABRIC bastion host key pair set up to do this tutorial. If you have not already set this up, follow steps 1-3 at https://learn.fabric-testbed.net/knowledge-base/logging-into-fabric-vms/.\n",
    "* You are comfortable using ssh and executing basic commands using a UNIX shell. [Tips about how to login to hosts.](https://learn.fabric-testbed.net/knowledge-base/logging-into-fabric-vms/)\n",
    "  \n",
    "This is the second step in this assignment, to go to the previous step go to slice creation notebook or click [Here](./CreateSlice.ipynb)\n",
    "<img src=\"./Figures/SETop.png\">"
   ]
  },
  {
   "cell_type": "markdown",
   "id": "954645ca-1622-4805-abf9-bccaa1b89375",
   "metadata": {
    "tags": []
   },
   "source": [
    "## 1. Retrieve Slice\n",
    "Create the slice at the [Create Slice Notebook](./CreateSlice.ipynb) and import it here.\n"
   ]
  },
  {
   "cell_type": "markdown",
   "id": "20a0d10b-d1dd-443f-bb45-fa09c5d6660b",
   "metadata": {},
   "source": [
    "#### Import the Fabric API"
   ]
  },
  {
   "cell_type": "code",
   "execution_count": null,
   "id": "fe700a5e-e1d8-4c4f-ad33-27d6376cc9af",
   "metadata": {},
   "outputs": [],
   "source": [
    "# Load Fablib and Node Information\n",
    "from fabrictestbed_extensions.fablib.fablib import FablibManager as fablib_manager\n",
    "fablib = fablib_manager()                    \n",
    "fablib.show_config()\n",
    "import json\n",
    "import traceback\n",
    "\n",
    "slice_name = 'SystematicExperimentationWithAnsible'\n",
    "try:\n",
    "    slice = fablib.get_slice(slice_name)   \n",
    "    slice.list_nodes()\n",
    "except Exception as e:\n",
    "    print(f\"Get Slices Fail: {e}\")"
   ]
  },
  {
   "cell_type": "markdown",
   "id": "863d2662-85f8-408d-a35e-75a3f50ac55b",
   "metadata": {},
   "source": [
    "## 2. Guieded Experiment"
   ]
  },
  {
   "cell_type": "markdown",
   "id": "a2b902d8-6d99-47ca-b604-ced3e7b2b9c6",
   "metadata": {},
   "source": [
    "### 2.1 Download the Ansible playbook\n",
    "Download the Ansible playbook, webpages, etc needed to configure the nodes:\n",
    "1. Open a Terminal and login to the ansible node.\n",
    "2. Create a folder to save the information\n",
    "<br> ``` mkdir ansible```\n",
    "3. move inside of the folder you created and download the ansible playbook tarfile from the geni website\n",
    "<br> ``` cd ansible```\n",
    "<br> ``` wget https://github.com/GENI-NSF/geni-tutorials/raw/master/ansible/ansible.tar.gz ```\n",
    "4. de-compress the tarfile to extract the playbook information\n",
    "<br> ``` tar zxvf ansible.tar.gz```"
   ]
  },
  {
   "cell_type": "markdown",
   "id": "3a4506b2-4b85-445d-ab96-980e3a1bde9c",
   "metadata": {},
   "source": [
    "### 2.2 Configure and initialize\n",
    "To start ansible you will have to follow some steps to get the connection set up\n",
    "1. Take a look at your Ansible inventory file: \n",
    "<br> on your Ansible node open a Terminal and run the following command to see the available nodes (make sure you are in the home directory):\n",
    "<br> ```$ cat inventory```\n",
    "2. Be sure your ```private key``` has been added to your ```SSH agent```:\n",
    "<br> ```ssh-agent bash```\n",
    "<br> ```ssh-add ~/Ansible_Key```\n",
    "3. Check to see if your nodes are up and ready. \n",
    "<br> ```$ ansible -i inventory all -m ping ```\n",
    "<br> the output of the command should look like this:\n",
    "<br> ```   server | SUCCESS => {                                      |```\n",
    "<br> ```    \"ansible_facts\":                                          |```\n",
    "<br> ```        \"discovered_interpreter_python\": \"/usr/bin/python3\"   |```\n",
    "<br> ```    },                                                        |```\n",
    "<br> ```    \"changed\": false,                                         |```\n",
    "<br> ```    \"ping\": \"pong\"                                            |```\n",
    "<br> ``` }                                                            |```\n",
    "<br> ``` client | SUCCESS => {                                        |```\n",
    "<br> ```     \"ansible_facts\": {                                       |```\n",
    "<br> ```         \"discovered_interpreter_python\": \"/usr/bin/python3\"  |```\n",
    "<br> ```     },                                                       |```\n",
    "<br> ```    \"changed\": false,                                         |```\n",
    "<br> ```   \"ping\": \"pong\"                                             |```\n",
    "<br> ``` }                                                            |```\n",
    "<br> be aware that since it is the first time you are using ssh on the nodes they might requiere you to fingerprint, just type ```yes``` untill all of the fingerprint request end\n",
    "5. Try using the ping module in Ansible to only ping ```server_1``` or ```host_1``` by replacing all in the above with ```server_1``` or ```host_1```."
   ]
  },
  {
   "cell_type": "markdown",
   "id": "ad982d87-335c-4b0b-ac38-e6499d3a563a",
   "metadata": {},
   "source": [
    "### 2.2 Ansible Playbook\n",
    "<br>Ansible commands can be collected into files called Playbooks. Playbooks are in a configuration file format called YAML which is very straightforward. In particular, Ansible Ad Hoc commands easily map to commands used in an Ansible Playbook.\n",
    "\n",
    "The Playbook to configure the ```server``` node is in ```server.yml```. It links to other files. For example, the code to tell the ```server``` node to run an ```nmap``` scan and post the results is in ```roles/nmap/tasks/map.yml``` and looks as follows:\n",
    "<br>```   - name: map network using nmap                                                                          |```\n",
    "<br>```     command: nmap -sP -oX {{ nmap_xml_file }} {{ address_range }}                                         |```\n",
    "<br>```   - name: convert nmap xml to html                                                                        |```\n",
    "<br>```     shell:  xsltproc /usr/share/nmap/nmap.xsl {{ nmap_xml_file }} > {{ nmap_html_file }}                  |```\n",
    "<br>```   - name: create directory for nmap logs in WEB_ROOT/nmaplogs with permissions of 755                     |```\n",
    "<br>```     file: >                                                                                               |```\n",
    "<br>```        dest={{ WEB_ROOT }}/{{ nmap_dir }}                                                                 |```\n",
    "<br>```        state=directory                                                                                    |```\n",
    "<br>```        mode=755                                                                                           |```\n",
    "<br>```   - name: copy nmap html file to a public place                                                           |```\n",
    "<br>```     command: mv {{ nmap_html_file }} {{ WEB_ROOT }}/{{ nmap_dir }}/nmap.html removes={{ nmap_html_file }} |```"
   ]
  },
  {
   "cell_type": "markdown",
   "id": "110d9d87-b868-4ce3-b7b3-f661a2b2d780",
   "metadata": {},
   "source": [
    "### 2.3 Exercise\n",
    "#### 2.3.1 Configure the nodes\n",
    "1. Edit the file ```group_vars/all.yml``` so that the ```address_range variable``` uses the IP subnet from your topology. It should look similar to this:\n",
    "<br>```address_range: 10.10.1.1-10```\n",
    "2. Run the playbook to configure the ```server``` with the following command on the local machine:\n",
    "<br>```ansible-playbook server.yml -i inventory --limit server_0```\n",
    "3. Browse to hostname of the server node in your browser. Click on the ```nmap``` link.\n",
    "4. If this looks ok, run the following to install the code on both of your servers:\n",
    "<br>```ansible-playbook server.yml -i inventory```\n",
    "5. Browse to the hostname of the ```server-0``` node in your browser.\n",
    "<br> one way to acomplish this step is to open a client terminal and using ```wget``` to see if you get the \"index.html\" file\n",
    "\n",
    "#### 2.3.2 Update a portion of the configuration\n",
    "1. Run the following command to only update the ```nmap``` portion of the ```server_0``` configuration:\n",
    "<br> ```ansible-playbook update-map.yml -i inventory```\n",
    "2. Feel free to change the value of ```address_range``` in ```groups_vars/all.yml``` and rerun ```update-map.yml``` to search for different nodes. "
   ]
  },
  {
   "cell_type": "markdown",
   "id": "f8d266a2-a0d0-4755-99e3-4582b3f55352",
   "metadata": {
    "tags": []
   },
   "source": [
    "## Cleanup Resources\n",
    "\n",
    "Once you have completed the assignment shut down the slice\n"
   ]
  },
  {
   "cell_type": "code",
   "execution_count": null,
   "id": "fc7e8c3c-190c-4a7a-bdaf-927682fb5486",
   "metadata": {},
   "outputs": [],
   "source": [
    "# Delete Slice\n",
    "try:\n",
    "    #To delete the slice change \"CHECK\" to \"True\", this is to prevent accidental slice deletion\n",
    "    CHECK = False\n",
    "    if (CHECK):\n",
    "        slice = fablib.get_slice(slice_name)\n",
    "        slice.delete()\n",
    "    else:\n",
    "        print(\"Change the Boolean to delete slice\")\n",
    "except Exception as e:\n",
    "    print(f\"Fail: {e}\")"
   ]
  }
 ],
 "metadata": {
  "kernelspec": {
   "display_name": "Python 3 (ipykernel)",
   "language": "python",
   "name": "python3"
  },
  "language_info": {
   "codemirror_mode": {
    "name": "ipython",
    "version": 3
   },
   "file_extension": ".py",
   "mimetype": "text/x-python",
   "name": "python",
   "nbconvert_exporter": "python",
   "pygments_lexer": "ipython3",
   "version": "3.11.8"
  }
 },
 "nbformat": 4,
 "nbformat_minor": 5
}
