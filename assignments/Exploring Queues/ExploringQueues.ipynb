{
 "cells": [
  {
   "cell_type": "markdown",
   "id": "e1f28628-3d53-4037-a2de-766da4069a49",
   "metadata": {},
   "source": [
    "# Exploring Queues\n",
    "<i>Adapted for use with FABRIC from [Exploring Queues](https://www.cs.unc.edu/Research/geni/geniEdu/09-queues.html)</i>\n",
    "        \n",
    "<b> Prerequisites  </b>\n",
    "    \n",
    "* You need to have your FABRIC bastion host key pair set up to do this tutorial. If you have not already set this up, follow steps 1-5 at https://github.com/fabric-testbed/teaching-materials/blob/main/Getting%20Started.md#section-1-get-started.\n",
    "* You are comfortable using ssh and executing basic commands using a UNIX shell. [Tips about how to login to hosts.](https://github.com/fabric-testbed/teaching-materials/blob/main/Getting%20Started.md)\n",
    "\n",
    "This experiment will show the relation between queue size of a throttled router and packet loss/delay. UDP traffic will be sent over a bottlenecked router to develop the target queue.\n",
    "\n",
    "This is the second step in this assignment, to go to the previous step go to slice creation notebook or click [Here](./CreateSlice.ipynb)\n",
    "\n",
    "<br><img src=\"https://github.com/fabric-testbed/teaching-materials/blob/main/assignments/Exploring%20Queues/Figures/QueueTop.png?raw=true\"><br>\n",
    "In the following experiment we will explore queue behaviour, we will do this by modifying the throughtput of a router node placed between two other nodes and passing traffic between them"
   ]
  },
  {
   "cell_type": "markdown",
   "id": "77f219ed-9ba8-4722-bf3c-dc54aa56b2bb",
   "metadata": {
    "tags": []
   },
   "source": [
    "## 1. Retrieve Slice\n",
    "Create the slice at the [Create Slice Notebook](./CreateSlice.ipynb) and import it here.\n"
   ]
  },
  {
   "cell_type": "code",
   "execution_count": null,
   "id": "2af9befe-db54-4e12-849e-dd00dfdac6a3",
   "metadata": {},
   "outputs": [],
   "source": [
    "# Load Fablib and Node Information\n",
    "from fabrictestbed_extensions.fablib.fablib import FablibManager as fablib_manager\n",
    "fablib = fablib_manager() \n",
    "fablib.show_config()\n",
    "import json\n",
    "import traceback\n",
    "\n",
    "slice_name = \"Queues\"\n",
    "slice = fablib.get_slice(slice_name)\n",
    "slice.list_nodes()"
   ]
  },
  {
   "cell_type": "markdown",
   "id": "590b2d21-16d1-40b9-8911-1c1c54453770",
   "metadata": {},
   "source": [
    "## 2. Guided Experiment\n",
    "Note: when modifying the transfer rate using the tc tool, you might have to change the interface depending on the site (from enp7s0 to enp8s0) to see the intended behaviour **the correct interface to modify should be the one connected to the Destination node**\n",
    "### 2.1 Measuring Loss and Delay\n",
    "The following steps will show how to measure packet loss and RTT.\n",
    "1. Open two terminals on the `Source` nodes, one on the `Destination` node and one on the `router` node.\n",
    "\n",
    "2. In the following experiment we will be measuring two things, the packet loss and the packet delay. Run the following command on the `Destination` node to receive UDP messages:\n",
    "<br>`iperf -s -u`\n",
    "\n",
    "3. The first measurement will come from the `Ping` command, it wil be the round trip time (RTT). On one of the `Source` terminal, type but do not run:\n",
    "<br>`ping 11.1.1.1`\n",
    "\n",
    "4. On another `Source` terminal, type but do not run:\n",
    "<br>`iperf -c 11.1.1.1 -u -b 20mb -t 10`\n",
    "<br> This command will send the Destination node UDP traffic at a bandwidth of 20mb/s for 10 seconds.\n",
    "\n",
    "5. On the source terminals start the Iperf traffic then quickly start the ping command. When the Iperf completes, end the ping with `Ctrl+C`.\n",
    "\n",
    "6. Your Iperf results should be similar to:\n",
    "<br>` [  3]  0.0-11.4 sec  23.8 MBytes  17.5 Mbits/sec   0.086 ms\t0/17007 (0%) `\n",
    "<br> The `0/17007 (0%)` shows a 0% packet loss. The ping RTT should be consistent over the duration.\n",
    "\n",
    "7. Both of these measurement will be used as a measurement of loss they will be used throughout the rest of the experiments be sure you can access them.\n",
    "\n",
    "\n",
    "### 2.2 Throttling the Router\n",
    "In step 2.1 it is seen that there is no packet loss and little delay, this is due to the nodes being able to handle more traffic than we were generating (20mbps). Seeing queueing behavior requires the connection to be throttled. we will limit the amount that can be transferred in this segment\n",
    "1. Go to the `router` terminal and run:\n",
    "<br>`sudo tc qdisc add dev enp7s0 root tbf rate 13mbit limit 1000mb burst 10kb`\n",
    "<br>This command will change the outgoing interface to send at a rate of 13mb/s.\n",
    "\n",
    "2. Rerun the experiment from part `2.1`, on `Source` terminals simultaneously run:\n",
    "<br>`ping 11.1.1.1`\n",
    "<br>`iperf -c 11.1.1.1 -u -b 20mb -t 10`\n",
    "<br> There will be no packet loss on the iperf report, however, there will be an increase in the delay on the ping command during the iperf execution.\n",
    "\n",
    "\n",
    "### 2.3 Finite Queue\n",
    "<br><img src=\"https://github.com/fabric-testbed/teaching-materials/blob/main/assignments/Exploring%20Queues/Figures/Queue.png?raw=true\"><br>\n",
    "In 2.2 we saw the formation of a Queue when we limited the traffic that could pass through the router. In this segment we will see the start of packet loss by limiting how large the Queue size can be.\n",
    "\n",
    "1. Adjust the queue size to 3mb on the `router` node with:\n",
    "<br>`sudo tc qdisc replace dev enp7s0 root tbf rate 18mbit limit 3mb burst 10kb`\n",
    "\n",
    "2. Rerun the experiment from part `2.1`, on `Source` terminals simultaneously run:\n",
    "<br>`ping 11.1.1.1`\n",
    "<br>`iperf -c 11.1.1.1 -u -b 20mb -t 10` \n",
    "<br> There may be some packet loss reported now, in this case the queue was too small for all the traffic.\n",
    "\n",
    "### 2.4 Smaller Queue\n",
    "1. Adjust the queue size to 2mb on the `router` node with:\n",
    "<br>`sudo tc qdisc replace dev enp7s0 root tbf rate 13mbit limit 2mb burst 10kb`\n",
    "\n",
    "2. Rerun the experiment from part `2.1`, on `Source` terminals simultaneously run:\n",
    "<br>`ping 11.1.1.1`\n",
    "<br>`iperf -c 11.1.1.1 -u -b 20mb -t 10`\n",
    "<br> Modest packet loss should be observed now. On the terminal running ping it can be observed that delay will increase until becoming constant. This occurs when a finite queue fills up, giving it a constant size.\n",
    "\n",
    "### 2.5 Even Smaller Queue\n",
    "<br><img src=\"https://github.com/fabric-testbed/teaching-materials/blob/main/assignments/Exploring%20Queues/Figures/dataLoss.png?raw=true\"><br>\n",
    "1. Adjust the queue size to 100kb (.1 mb) on the `router` node with:\n",
    "<br>`sudo tc qdisc replace dev enp7s0 root tbf rate 7mbit limit 100kb burst 10kb`\n",
    "\n",
    "2. Rerun the experiment from part `2.1`, on `Source` terminals simultaneously run:\n",
    "<br>`ping 11.1.1.1`\n",
    "<br>`iperf -c 11.1.1.1 -u -b 20mb -t 10 &` \n",
    "<br> Packet loss will be larger while delay plateaus faster."
   ]
  },
  {
   "cell_type": "markdown",
   "id": "e6984bf7-6e62-4347-a20b-10a1d17827cb",
   "metadata": {},
   "source": [
    "## 3. Conclusions\n",
    "This experiment adjusted the queue size of a throttled router to demonstrate effects on packet loss and delay. We saw that delay gradually increases over time as the queue fills up, eventually reaching a plateau when the queue is entirely full. The peak delay (aka the delay when the queue is entirely full) is directly related to the queue size. This effect is seen clearly in following graph which shows results from the same experiment on some additional queue sizes (100kb 500kb, 1.5mb, 2mb and 3mb).\n",
    "<br><img src=\"https://github.com/fabric-testbed/teaching-materials/blob/main/assignments/Exploring%20Queues/Figures/Delay%20and%20Queue%20Size.png?raw=true\">\n",
    "<br>We saw a direct correlation between loss and queue size as well. Loss occurs when the queue is not big enough to accommodate the incoming traffic and packets must be dropped. The smaller the queue size, the more dropped packets.\n",
    "<br><img src=\"https://github.com/fabric-testbed/teaching-materials/blob/main/assignments/Exploring%20Queues/Figures/Loss_QueueSize.png?raw=true\">\n",
    "<br>\n",
    "```\n",
    "Queue Size (kb)\tDelay (ms)\tLoss (#packets)\n",
    "3000\t\t\t\t1354\t\t\t  89\n",
    "2000\t\t\t\t 909\t\t\t 766\n",
    "1500\t\t\t\t 699\t\t\t1080\n",
    "1000\t\t\t\t 465\t\t\t1427\n",
    "500\t\t\t\t  227\t\t\t1786\n",
    "100\t\t\t\t   45\t\t\t2054\n",
    "``` \n",
    "## 4. Assignment\n",
    "### Part 1\n",
    "The tables and graphs in the conclusion showed the effects of queue size on packet loss and delay under the conditions of the experiment above. Consider re-doing the experiment with 20 seconds of UDP traffic instead of 10 seconds. \n",
    "1. How would the peak delay change in the 20 second experiment? \n",
    "2. How would the amount of packet loss change in the 20 second experiment? \n",
    "Since our 20 second experiment sends twice as much traffic, consider both number of packets and percentage of packets. Please explain your answers.\n",
    "\n",
    "### Part 2\n",
    "Redo the experiment with 20 seconds of traffic with the following queue sizes: 3000kb (3mb), 2000kb, 1500kb, 1000kb, 500kb, 100kb. \n",
    "1. Find a linear regression line for both peak delay and amount of packet loss. \n",
    "\n",
    "Consider your answers from part 1,\n",
    "\n",
    "2. Do these results match your expectations? Why or why not?"
   ]
  },
  {
   "cell_type": "markdown",
   "id": "10fba69e-0435-446c-b0a3-c4c28a0cc241",
   "metadata": {
    "tags": []
   },
   "source": [
    "## Cleanup Resources\n",
    "Once you have completed the assignment shut down the slice"
   ]
  },
  {
   "cell_type": "code",
   "execution_count": null,
   "id": "1097e4c5-de1b-4186-9abf-bfb1d4ad26be",
   "metadata": {
    "tags": []
   },
   "outputs": [],
   "source": [
    "# Delete Slice\n",
    "try:\n",
    "    #To delete the slice change \"CHECK\" to \"True\", this is to prevent accidental slice deletion\n",
    "    CHECK = False\n",
    "    if (CHECK):\n",
    "        slice = fablib.get_slice(slice_name)\n",
    "        slice.delete()\n",
    "    else:\n",
    "        print(\"Change the Boolean to delete slice\")\n",
    "except Exception as e:\n",
    "    print(f\"Fail: {e}\")"
   ]
  }
 ],
 "metadata": {
  "kernelspec": {
   "display_name": "Python 3 (ipykernel)",
   "language": "python",
   "name": "python3"
  },
  "language_info": {
   "codemirror_mode": {
    "name": "ipython",
    "version": 3
   },
   "file_extension": ".py",
   "mimetype": "text/x-python",
   "name": "python",
   "nbconvert_exporter": "python",
   "pygments_lexer": "ipython3",
   "version": "3.10.6"
  }
 },
 "nbformat": 4,
 "nbformat_minor": 5
}
