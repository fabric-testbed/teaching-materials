{
 "cells": [
  {
   "cell_type": "markdown",
   "id": "2f0dfd3f-ff07-4be7-a4ae-484cd46a5e4b",
   "metadata": {
    "tags": []
   },
   "source": [
    "#  Exploring Queues Assignment\n",
    "\n",
    "<b> Prerequisites  </b>\n",
    "* You need to have completed the Exploring Queues Experiment"
   ]
  },
  {
   "cell_type": "markdown",
   "id": "ed761155-24c2-4d9d-9ec8-9c361ed16cd8",
   "metadata": {},
   "source": [
    "### Conclusions\n",
    "This experiment adjusted the queue size of a throttled router to demonstrate effects on packet loss and delay. We saw that delay gradually increases over time as the queue fills up, eventually reaching a plateau when the queue is entirely full. The peak delay (aka the delay when the queue is entirely full) is directly related to the queue size. This effect is seen clearly in following graph which shows results from the same experiment on some additional queue sizes (100kb 500kb, 1.5mb, 2mb and 3mb).\n",
    "<br><img src=\"./Figures/Delay and Queue Size.png\">\n",
    "<br>We saw a direct correlation between loss and queue size as well. Loss occurs when the queue is not big enough to accommodate the incoming traffic and packets must be dropped. The smaller the queue size, the more dropped packets.\n",
    "<br><img src=\"./Figures/Loss_QueueSize.png\">\n",
    "<br>\n",
    "```\n",
    "Queue Size (kb)\tDelay (ms)\tLoss (#packets)\n",
    "3000\t\t\t\t1354\t\t\t  89\n",
    "2000\t\t\t\t 909\t\t\t 766\n",
    "1500\t\t\t\t 699\t\t\t1080\n",
    "1000\t\t\t\t 465\t\t\t1427\n",
    "500\t\t\t\t  227\t\t\t1786\n",
    "100\t\t\t\t   45\t\t\t2054\n",
    "``` \n",
    "### Assignment\n",
    "#### Part 1\n",
    "The tables and graphs in the conclusion showed the effects of queue size on packet loss and delay under the conditions of the experiment above. Consider re-doing the experiment with 20 seconds of UDP traffic instead of 10 seconds. \n",
    "1. How would the peak delay change in the 20 second experiment? \n",
    "2. How would the amount of packet loss change in the 20 second experiment? \n",
    "Since our 20 second experiment sends twice as much traffic, consider both number of packets and percentage of packets. Please explain your answers.\n",
    "\n",
    "#### Part 2\n",
    "Redo the experiment with 20 seconds of traffic with the following queue sizes: 3000kb (3mb), 2000kb, 1500kb, 1000kb, 500kb, 100kb. \n",
    "1. Find a linear regression line for both peak delay and amount of packet loss. \n",
    "\n",
    "Consider your answers from part 1,\n",
    "\n",
    "2. Do these results match your expectations? Why or why not?"
   ]
  },
  {
   "cell_type": "markdown",
   "id": "06c929ec-8a0f-4033-8d72-0d975e66d472",
   "metadata": {
    "tags": []
   },
   "source": [
    "## Cleanup Resources\n",
    "Once you have completed the assignment shut down the slice"
   ]
  },
  {
   "cell_type": "code",
   "execution_count": 1,
   "id": "552fbb0b-8982-4d57-883e-89b643517ab8",
   "metadata": {
    "tags": []
   },
   "outputs": [],
   "source": [
    "from fabrictestbed_extensions.fablib.fablib import FablibManager as fablib_manager\n",
    "\n",
    "fablib = fablib_manager()\n",
    "import json\n",
    "import traceback\n",
    "\n",
    "slice_name = \"Queues\"\n",
    "try:\n",
    "    slice = fablib.get_slice(slice_name)\n",
    "    slice.delete()\n",
    "except Exception as e:\n",
    "    print(f\"Fail: {e}\")"
   ]
  },
  {
   "cell_type": "code",
   "execution_count": null,
   "id": "6a7373b2-f54d-454b-b12f-7daf5d9d889f",
   "metadata": {},
   "outputs": [],
   "source": []
  }
 ],
 "metadata": {
  "kernelspec": {
   "display_name": "Python 3 (ipykernel)",
   "language": "python",
   "name": "python3"
  },
  "language_info": {
   "codemirror_mode": {
    "name": "ipython",
    "version": 3
   },
   "file_extension": ".py",
   "mimetype": "text/x-python",
   "name": "python",
   "nbconvert_exporter": "python",
   "pygments_lexer": "ipython3",
   "version": "3.10.6"
  }
 },
 "nbformat": 4,
 "nbformat_minor": 5
}
