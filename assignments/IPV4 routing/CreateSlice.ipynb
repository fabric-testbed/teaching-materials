{
 "cells": [
  {
   "cell_type": "markdown",
   "id": "5f373d6e-223a-479a-971c-c39c02aa1390",
   "metadata": {},
   "source": [
    "# Create Slice for Fabric Rack\n",
    "This is the slice creation for the ```Routing with IPv4``` tutorial, This is the first step of the assignment, to create the slice on fabric using fablib\n",
    " \n"
   ]
  },
  {
   "cell_type": "code",
   "execution_count": null,
   "id": "3e84a125-c5f8-4b38-ada2-b585ee5a83ab",
   "metadata": {},
   "outputs": [],
   "source": [
    "from fabrictestbed_extensions.fablib.fablib import FablibManager as fablib_manager\n",
    "\n",
    "fablib = fablib_manager()\n",
    "                     \n",
    "fablib.show_config()\n",
    "\n",
    "import json\n",
    "import traceback"
   ]
  },
  {
   "cell_type": "code",
   "execution_count": null,
   "id": "c750ec14-1761-4592-8530-78edd3968a4a",
   "metadata": {},
   "outputs": [],
   "source": [
    "slice_name = \"IPv4_Routing\"\n",
    "site = fablib.get_random_site()\n",
    "\n",
    "image = \"default_ubuntu_20\"\n",
    "nicmodel = \"NIC_Basic\"\n",
    "\n",
    "print(site)\n",
    "\n",
    "cores = 1\n",
    "ram = 4\n",
    "disk = 100"
   ]
  },
  {
   "cell_type": "code",
   "execution_count": null,
   "id": "a206b6be-d3f8-4e6f-ab42-f0ea79c23d7b",
   "metadata": {},
   "outputs": [],
   "source": [
    "try:\n",
    "    #Create Slice\n",
    "    slice = fablib.new_slice(name=slice_name)\n",
    "    \n",
    "    #Nodes\n",
    "    ND_A = slice.add_node(name=\"ND_A\", site=site)\n",
    "    ND_A.set_capacities(cores=cores, ram=ram, disk=disk)\n",
    "    ND_A.set_image(image)\n",
    "    Ap1 = ND_A.add_component(model=nicmodel, name=\"Cn1\").get_interfaces()[0] \n",
    "    Ap2 = ND_A.add_component(model=nicmodel, name=\"Cn2\").get_interfaces()[0] \n",
    "    \n",
    "    ND_B = slice.add_node(name=\"ND_B\", site=site)\n",
    "    ND_B.set_capacities(cores=cores, ram=ram, disk=disk)\n",
    "    ND_B.set_image(image)\n",
    "    Bp1 = ND_B.add_component(model=nicmodel, name=\"Cn1\").get_interfaces()[0] \n",
    "    Bp2 = ND_B.add_component(model=nicmodel, name=\"Cn2\").get_interfaces()[0] \n",
    "\n",
    "    ND_C = slice.add_node(name=\"ND_C\", site=site)\n",
    "    ND_C.set_capacities(cores=cores, ram=ram, disk=disk)\n",
    "    ND_C.set_image(image)\n",
    "    Cp1 = ND_C.add_component(model=nicmodel, name=\"Cn1\").get_interfaces()[0] \n",
    "    Cp2 = ND_C.add_component(model=nicmodel, name=\"Cn2\").get_interfaces()[0] \n",
    "    \n",
    "\n",
    "    #Network\n",
    "    lan1 = slice.add_l2network(name=\"Lan_AB\", interfaces=[Ap2,Bp1])\n",
    "    lan2 = slice.add_l2network(name=\"Lan_BC\", interfaces=[Bp2,Cp1])\n",
    "    lan3 = slice.add_l2network(name=\"Lan_CA\", interfaces=[Cp2,Ap1])\n",
    "    \n",
    "    #Submit Slice Request\n",
    "    slice.submit()\n",
    "    \n",
    "except Exception as e:\n",
    "    print(f\"Slice Failed: {e}\")"
   ]
  },
  {
   "cell_type": "markdown",
   "id": "ab35cc7e-258e-4528-aa6e-b0cc765b34ac",
   "metadata": {
    "tags": []
   },
   "source": [
    "## Continue to The experiment notebook\n",
    "\n",
    "Once You have completed this notebook you should be able to continue to the Routing IPV4 Notebook, you can ether open it on the explorer or click [Here](./Routing_with_IPv4.ipynb) to open the next notebook."
   ]
  },
  {
   "cell_type": "code",
   "execution_count": null,
   "id": "0d13b683-165b-43c1-93a6-ef9cb26d9d72",
   "metadata": {},
   "outputs": [],
   "source": []
  }
 ],
 "metadata": {
  "kernelspec": {
   "display_name": "Python 3 (ipykernel)",
   "language": "python",
   "name": "python3"
  },
  "language_info": {
   "codemirror_mode": {
    "name": "ipython",
    "version": 3
   },
   "file_extension": ".py",
   "mimetype": "text/x-python",
   "name": "python",
   "nbconvert_exporter": "python",
   "pygments_lexer": "ipython3",
   "version": "3.10.6"
  }
 },
 "nbformat": 4,
 "nbformat_minor": 5
}
