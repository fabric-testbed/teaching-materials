{
 "cells": [
  {
   "cell_type": "markdown",
   "id": "5f373d6e-223a-479a-971c-c39c02aa1390",
   "metadata": {},
   "source": [
    "# Create Slice for Fabric Rack\n",
    "This is the slice creation for the ```Routing with IPv4``` tutorial. This is the first step of the assignment, to create the slice on fabric using fablib.\n",
    " \n"
   ]
  },
  {
   "cell_type": "markdown",
   "id": "354707f1-b53a-42fd-8faa-2ebf0b2c5667",
   "metadata": {
    "tags": []
   },
   "source": [
    "## 1. Set up the Experiment\n",
    "\n",
    "In this section you will use the Fablib manager to create a new slice that is composed of 3 nodes for the IPv4 Assignment.\n",
    "### 1.1 Reserve Resources\n",
    "In the 'EDUKY' site, we will reserve a set of 3 nodes arranged in a triangle. Each node will have the following specifications: 1 CPU core, 2GB of RAM, and 10GB of storage capacity. The nodes will each have 2 network cards (NICs) that allow connection to its immediate neighbors. All nodes will be preloaded with an 'Ubuntu' Linux OS. The networks allocated will be \"LAN_AB\",\"LAN_BC\" &\"LAN_CA\" using the corresponding interface ports from each node. Upon submission, the slice will be named 'IPv4_Routing'."
   ]
  },
  {
   "cell_type": "code",
   "execution_count": null,
   "id": "3e84a125-c5f8-4b38-ada2-b585ee5a83ab",
   "metadata": {},
   "outputs": [],
   "source": [
    "# Import Fablib\n",
    "from fabrictestbed_extensions.fablib.fablib import FablibManager as fablib_manager\n",
    "\n",
    "fablib = fablib_manager()\n",
    "                     \n",
    "fablib.show_config()\n",
    "\n",
    "import json\n",
    "import traceback"
   ]
  },
  {
   "cell_type": "code",
   "execution_count": null,
   "id": "a206b6be-d3f8-4e6f-ab42-f0ea79c23d7b",
   "metadata": {},
   "outputs": [],
   "source": [
    "# Define and Submit Slice\n",
    "slice_name = \"IPv4_Routing\"\n",
    "site = \"EDUKY\"\n",
    "print(site)\n",
    "\n",
    "nicmodel = \"NIC_Basic\"\n",
    "image = \"default_ubuntu_20\"\n",
    "\n",
    "cores = 1\n",
    "ram = 2\n",
    "disk = 10\n",
    "\n",
    "try:\n",
    "    #Create Slice\n",
    "    slice = fablib.new_slice(name=slice_name)\n",
    "    \n",
    "    #Nodes\n",
    "    ND_A = slice.add_node(name=\"ND_A\", site=site)\n",
    "    ND_A.set_capacities(cores=cores, ram=ram, disk=disk)\n",
    "    ND_A.set_image(image)\n",
    "    Ap1 = ND_A.add_component(model=nicmodel, name=\"Cn1\").get_interfaces()[0] \n",
    "    Ap2 = ND_A.add_component(model=nicmodel, name=\"Cn2\").get_interfaces()[0] \n",
    "    \n",
    "    ND_B = slice.add_node(name=\"ND_B\", site=site)\n",
    "    ND_B.set_capacities(cores=cores, ram=ram, disk=disk)\n",
    "    ND_B.set_image(image)\n",
    "    Bp1 = ND_B.add_component(model=nicmodel, name=\"Cn1\").get_interfaces()[0] \n",
    "    Bp2 = ND_B.add_component(model=nicmodel, name=\"Cn2\").get_interfaces()[0] \n",
    "\n",
    "    ND_C = slice.add_node(name=\"ND_C\", site=site)\n",
    "    ND_C.set_capacities(cores=cores, ram=ram, disk=disk)\n",
    "    ND_C.set_image(image)\n",
    "    Cp1 = ND_C.add_component(model=nicmodel, name=\"Cn1\").get_interfaces()[0] \n",
    "    Cp2 = ND_C.add_component(model=nicmodel, name=\"Cn2\").get_interfaces()[0] \n",
    "    \n",
    "\n",
    "    #Network\n",
    "    lan1 = slice.add_l2network(name=\"Lan_AB\", interfaces=[Ap2,Bp1])\n",
    "    lan2 = slice.add_l2network(name=\"Lan_BC\", interfaces=[Bp2,Cp1])\n",
    "    lan3 = slice.add_l2network(name=\"Lan_CA\", interfaces=[Cp2,Ap1])\n",
    "    \n",
    "    #Submit Slice Request\n",
    "    slice.submit()\n",
    "    \n",
    "except Exception as e:\n",
    "    print(f\"Slice Failed: {e}\")"
   ]
  },
  {
   "cell_type": "markdown",
   "id": "3f2777b0-acb2-46dd-82d1-1107f6de651a",
   "metadata": {
    "tags": []
   },
   "source": [
    "### 1.2 Set up the Experiment Network\n",
    "The network configuration part of this slice will connect the nodes with specific IPs so that they are able to communicate with each other. The slice will use the network name to find the corresponding devices (NIC cards) used in the slice creation, such as \"LAN_AB\", \"LAN_BC\", and \"LAN_CA\". This slice contains three subnetworks in IPv4: 192.168.1.0/24 (between node A & B, \"LAN_AB\"), 192.168.2.0/24 (between node B & C, \"LAN_BC\"), and 192.168.3.0/24 (between node C & A, \"LAN_CA\").\n",
    "\n",
    "Each node will be given an IP address matching their neighbor's subnet. For example, under node 'A', the matching subnet to 'C' under \"LAN_CA\" is 192.168.3.0/24. This means that an available IP would be '192.168.3.10', which implies that C's IP would have to be 192.168.3.12 inside this subnet.\n",
    "\n",
    "After providing the IPs to the corresponding devices, the slice will verify that all interfaces are up and execute \"ip a\" to output the connections that are active. Then, we will advertise the additional routes so that the nodes are aware of the active connections using the 'route' command."
   ]
  },
  {
   "cell_type": "code",
   "execution_count": null,
   "id": "24215316-d17c-44f5-b2e7-a8c54a036145",
   "metadata": {
    "scrolled": true,
    "tags": []
   },
   "outputs": [],
   "source": [
    "# Setup Network\n",
    "from ipaddress import ip_address, IPv4Address, IPv6Address, IPv4Network, IPv6Network\n",
    "\n",
    "try:\n",
    "    NDA = slice.get_node('ND_A')\n",
    "    NDB = slice.get_node('ND_B')\n",
    "    NDC = slice.get_node('ND_C')\n",
    "    subnet1 = IPv4Network(\"192.168.1.0/24\")\n",
    "    subnet2 = IPv4Network(\"192.168.2.0/24\")\n",
    "    subnet3 = IPv4Network(\"192.168.3.0/24\")\n",
    "\n",
    "    Ctrl_Network = 'Controll_Conn'\n",
    "    \n",
    "    #NDA\n",
    "    A_iface = NDA.get_interface(network_name='Lan_AB')  \n",
    "    A_iface.ip_addr_add(addr='192.168.1.10', subnet=subnet1)\n",
    "    A_iface = NDA.get_interface(network_name='Lan_CA')  \n",
    "    A_iface.ip_addr_add(addr='192.168.3.10', subnet=subnet3)\n",
    "    \n",
    "    #NDB\n",
    "    B_iface = NDB.get_interface(network_name='Lan_AB')  \n",
    "    B_iface.ip_addr_add(addr='192.168.1.11', subnet=subnet1)\n",
    "    B_iface = NDB.get_interface(network_name='Lan_BC')  \n",
    "    B_iface.ip_addr_add(addr='192.168.2.11', subnet=subnet2)\n",
    "    \n",
    "    #NDC\n",
    "    C_iface = NDC.get_interface(network_name='Lan_BC')  \n",
    "    C_iface.ip_addr_add(addr='192.168.2.12', subnet=subnet2) \n",
    "    C_iface = NDC.get_interface(network_name='Lan_CA')  \n",
    "    C_iface.ip_addr_add(addr='192.168.3.12', subnet=subnet3)       \n",
    "\n",
    "    for node in slice.get_nodes():  \n",
    "        for interface in node.get_interfaces():\n",
    "            stdout, stderr = node.execute(f'sudo ip link set dev { interface.get_device_name()} up')\n",
    "        \n",
    "        print(f\"Network status at node {node.get_name()}\")\n",
    "        node.execute(\"ip a\")      \n",
    "        node.execute(\"sudo sysctl -w net.ipv4.ip_forward=1\")\n",
    "    \n",
    "except Exception as e:\n",
    "    print(f\"Fail: {e}\")"
   ]
  },
  {
   "cell_type": "markdown",
   "id": "c41128e2-233b-45e9-bd0c-29d76b23dbb3",
   "metadata": {
    "tags": []
   },
   "source": [
    "### 1.3 Configure the software needed for the nodes in the experiment\n",
    "In this section of the slice creation, we will add any additional software, tools, or scripts that we need for our experiments. For this slice, we only need to install \"net-tools\" and \"traceroute\". We provide the software by running node.execute() and letting the node know to download the software. Additionally, we will be removing the original routes between node A and node C. We use the \"route flush\" command to erase the available routes between these nodes. Disconnecting the routes will restrict how we will be sending data in our arrangement; the new format will look more like a line than a triangle in terms of network access. In terms of hardware, this would still be a triangle."
   ]
  },
  {
   "cell_type": "code",
   "execution_count": null,
   "id": "71beb7cf-528e-4162-ba73-58a319db55d8",
   "metadata": {
    "scrolled": true,
    "tags": []
   },
   "outputs": [],
   "source": [
    "# Install Software\n",
    "from ipaddress import ip_address, IPv4Address, IPv6Address, IPv4Network, IPv6Network\n",
    "\n",
    "try:        \n",
    "    #remove existing routes for the experiment\n",
    "    NDA.execute(f'sudo ip route flush dev {A_iface.get_device_name()}')\n",
    "    NDC.execute(f'sudo ip route flush dev {C_iface.get_device_name()}')\n",
    "    \n",
    "    # install net-tools on each node\n",
    "    for node in slice.get_nodes():\n",
    "        #install route and traceroute\n",
    "        node.execute(\"sudo apt update\")\n",
    "        node.execute(\"sudo apt install -y net-tools\")\n",
    "        node.execute(\"sudo apt install -y traceroute\")\n",
    "        \n",
    "except Exception as e:\n",
    "    print(f\"Exception: {e}\")"
   ]
  },
  {
   "cell_type": "markdown",
   "id": "ab35cc7e-258e-4528-aa6e-b0cc765b34ac",
   "metadata": {
    "tags": []
   },
   "source": [
    "## Continue to The experiment notebook\n",
    "\n",
    "Once You have completed this notebook you should be able to continue to the Routing IPV4 Notebook. You can either open it on the explorer or click [Here](./Routing_with_IPv4.ipynb) to open the next notebook."
   ]
  },
  {
   "cell_type": "code",
   "execution_count": null,
   "id": "b980fc81-2153-490f-b779-26fccd2b928e",
   "metadata": {},
   "outputs": [],
   "source": []
  }
 ],
 "metadata": {
  "kernelspec": {
   "display_name": "Python 3 (ipykernel)",
   "language": "python",
   "name": "python3"
  },
  "language_info": {
   "codemirror_mode": {
    "name": "ipython",
    "version": 3
   },
   "file_extension": ".py",
   "mimetype": "text/x-python",
   "name": "python",
   "nbconvert_exporter": "python",
   "pygments_lexer": "ipython3",
   "version": "3.10.6"
  }
 },
 "nbformat": 4,
 "nbformat_minor": 5
}
