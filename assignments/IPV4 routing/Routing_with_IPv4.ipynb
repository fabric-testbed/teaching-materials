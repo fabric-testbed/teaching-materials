{
 "cells": [
  {
   "cell_type": "markdown",
   "id": "2f0dfd3f-ff07-4be7-a4ae-484cd46a5e4b",
   "metadata": {
    "tags": []
   },
   "source": [
    "#  Routing with IPv4\n",
    "<i>Adapted for use with FABRIC from [IPv4 Routing Assignment](https://groups.geni.net/geni/wiki/GENIEducation/SampleAssignments/IPRouting/Procedure)</i>\n",
    "        \n",
    "<b> Prerequisites  </b>\n",
    "    \n",
    "* You need to have your FABRIC bastion host key pair set up to do this tutorial. If you have not already set this up, follow steps 1-5 at https://github.com/fabric-testbed/teaching-materials/blob/main/Getting%20Started.md#section-1-get-started.\n",
    "* You are comfortable using ssh and executing basic commands using a UNIX shell. [Tips about how to login to hosts.](https://github.com/fabric-testbed/teaching-materials/blob/main/Getting%20Started.md)\n",
    "\n",
    "This is the second step in this assignment. To go to the previous step go to slice creation notebook or click [Here](./CreateSlice.ipynb) \n",
    "<br><img src=\"https://github.com/fabric-testbed/teaching-materials/blob/main/assignments/IPV4%20routing/figures/IPV4Top.png?raw=true\">\n",
    "<br>The goal of this exercise is to setup the routing as indicated in the figure above; i.e. packets from A sent to IP address 192.168.2.12 on node C should be routed via node B. In order to create this routing behavior you will need to modify the routing tables in your nodes using the [linux route command](https://www.hscripts.com/tutorials/linux-commands/route.html)"
   ]
  },
  {
   "cell_type": "markdown",
   "id": "9cd63d33-dfc5-4945-9833-c95ee7bc5457",
   "metadata": {
    "tags": []
   },
   "source": [
    "## 1. Retrieve Slice\n",
    "Create the slice at the [Create Slice Notebook](./CreateSlice.ipynb) and import it here.\n"
   ]
  },
  {
   "cell_type": "markdown",
   "id": "d982da77-bed0-4b00-b263-1288299c0b1e",
   "metadata": {},
   "source": [
    "#### Import the Fabric API"
   ]
  },
  {
   "cell_type": "code",
   "execution_count": null,
   "id": "f83cb316-2e4e-4936-8a36-43290ad52fcf",
   "metadata": {},
   "outputs": [],
   "source": [
    "# Load Fablib and Node Information\n",
    "from fabrictestbed_extensions.fablib.fablib import FablibManager as fablib_manager\n",
    "fablib = fablib_manager()                    \n",
    "fablib.show_config()\n",
    "import json\n",
    "import traceback\n",
    "\n",
    "slice_name = 'IPv4_Routing'\n",
    "try:\n",
    "    slice = fablib.get_slice(slice_name)   \n",
    "    slice.list_nodes()\n",
    "except Exception as e:\n",
    "    print(f\"Get Slices Fail: {e}\")"
   ]
  },
  {
   "cell_type": "markdown",
   "id": "b82973e4-3266-4e1d-8253-e972c0b09192",
   "metadata": {
    "jp-MarkdownHeadingCollapsed": true,
    "tags": []
   },
   "source": [
    "## 2. Guided Experiment\n",
    "### 2.1 Routing Tables\n",
    "The goal of this assignment is to understand what the effects of routing commands are and understand what the routing table represents. In this assignment you will set up the routing in the nodes as it was indicated in the figure below. Packets from A sent to IP address 192.168.2.12 on node C should be routed via node B. In order to create this routing behavior you will need to modify the routing tables in your nodes using the [linux route command](https://www.hscripts.com/tutorials/linux-commands/route.html)\n",
    "\n",
    "#### The Route Command Introduction\n",
    "The Linux route command follows the following general structure: `route {operation} {Destination} {Gateway} {InterfaceGateway}` knowing this, if you run `route` or `route -n` you will be able to display the current routing table. The routing table will display all of the available connections \"routes'' that this host is connected to and their attributes. The following are the descriptions of what each of the columns represent:\n",
    "    - **Destination** This is the IP address of the host's connection, you can use this IP to connect with the other host\n",
    "    - **Gateway** This is the 'Hop' IP, if a host would like to communicate with another host, but does not have a direct connection, you can add the IP of a host who shares both of the nodes as a connection and route through this intermediary host to form a connection between yourself and the previously unreachable host\n",
    "    - **Genmask** If you decide to add a network you will have to add a subnet mask that represents the available ips this connection can form, for example 11.0.0.0/16 would get attributed the net mask of 255.255.0.0 because you would be able to ping from 11.0.0.0 all the way to the ip address 11.0.255.255.\n",
    "    - **Flags** There exist 3 flags when using the route command that represent the current status of the route: \"U\" means that the route is up and available, \"H\" means that the target is a host, \"G\" means that the target is a gateway.\n",
    "    - **Iface** This column states what device the route is connected to.\n",
    "\n",
    "The route command can take some arguments to add and delete routes; the following section will walk you through how to use each parameter.\n",
    "1. Operation *Required*\n",
    "    - **add** This flag asks the route command to *create* a new route. Keep in mind you can not modify an existing route, if you want to modify you will need to delete it first and then create a new one.\n",
    "    - **del** This flag asks the route command to *delete* an existing route\n",
    "2. Destination *Required*\n",
    "    - **{IP}** If you only provide an IP the route command will treat the IP as if it contained the -host flag\n",
    "    - **{Flag} {IP}** The destination section requires a flag and an IP to be completed. The IP in this section is the destination  IP of the host that you want to route to.\n",
    "   \t - **-host {IP}** The host tag asks the route command to route to a single host.\n",
    "   \t - **-net {IP} netmask {MASK}** The \"net\" tag asks the route command to create a connection to a range of possible connections. The MASK refers to a section of the ip that remains static when creating the range as described above.\n",
    "3. Gateway *Optional*\n",
    "    - **-gw {IP}**  If you want to route through another connection that you already have, this is where you would add the IP of the host you share in common.\n",
    "4. InterfaceGateway *Required*\n",
    "    - **dev {Device}** In this section you need to provide the name of the device this connection will use to route, the device must be connected to the destination host or to the node that is shared with the destination host\n"
   ]
  },
  {
   "cell_type": "markdown",
   "id": "aaa6751b",
   "metadata": {},
   "source": [
    "## 3. Assignment\n",
    "<br><img src=\"https://github.com/fabric-testbed/teaching-materials/blob/main/assignments/IPV4%20routing/figures/ExerciseIPv4.png?raw=true\"><br>\n",
    "\n",
    "1. What happens when you traceroute from A to IP address 192.168.2.12 before you setup the static routes? Why?\n",
    "\t(Include the output of the traceroute in your writeup)\n",
    "2. Setup the routing from A to 192.68.2.12 so that it goes through B. Was it enough to just modify the routing tables? What else did you need to change in order for the traffic to flow? Ensure that you have connectivity by running a ping from A to 192.168.2.12\n",
    "\t(In your writeup include all the commands you ran and a screenshot of the routing configuration)\n",
    "3. What happens when you traceroute from A to IP address 192.168.2.12 after you setup the static routes?\n",
    "\t(In your writeup include a screenshot of the traceroute output.)"
   ]
  },
  {
   "cell_type": "markdown",
   "id": "06c929ec-8a0f-4033-8d72-0d975e66d472",
   "metadata": {
    "tags": []
   },
   "source": [
    "## Cleanup Resources"
   ]
  },
  {
   "cell_type": "code",
   "execution_count": null,
   "id": "552fbb0b-8982-4d57-883e-89b643517ab8",
   "metadata": {
    "tags": []
   },
   "outputs": [],
   "source": [
    "# Delete Slice\n",
    "try:\n",
    "    #To delete the slice change \"CHECK\" to \"True\", this is to prevent accidental slice deletion\n",
    "    CHECK = False\n",
    "    if (CHECK):\n",
    "        slice = fablib.get_slice(slice_name)\n",
    "        slice.delete()\n",
    "    else:\n",
    "        print(\"Change the Boolean to delete slice\")\n",
    "except Exception as e:\n",
    "    print(f\"Fail: {e}\")"
   ]
  }
 ],
 "metadata": {
  "kernelspec": {
   "display_name": "Python 3 (ipykernel)",
   "language": "python",
   "name": "python3"
  },
  "language_info": {
   "codemirror_mode": {
    "name": "ipython",
    "version": 3
   },
   "file_extension": ".py",
   "mimetype": "text/x-python",
   "name": "python",
   "nbconvert_exporter": "python",
   "pygments_lexer": "ipython3",
   "version": "3.10.6"
  }
 },
 "nbformat": 4,
 "nbformat_minor": 5
}
