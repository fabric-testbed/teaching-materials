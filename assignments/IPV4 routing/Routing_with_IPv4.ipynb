{
 "cells": [
  {
   "cell_type": "markdown",
   "id": "2f0dfd3f-ff07-4be7-a4ae-484cd46a5e4b",
   "metadata": {
    "tags": []
   },
   "source": [
    "#  Routing with IPv4\n",
    "<i>Adapted for use with FABRIC from [IPv4 Routing Assignment](https://groups.geni.net/geni/wiki/GENIEducation/SampleAssignments/IPRouting/Procedure)</i>\n",
    "        \n",
    "<b> Prerequisites  </b>\n",
    "    \n",
    "* You need to have your FABRIC bastion host key pair set up to do this tutorial. If you have not already set this up, follow steps 1-5 at https://github.com/fabric-testbed/teaching-materials/blob/main/Getting%20Started.md#section-1-get-started.\n",
    "* You are comfortable using ssh and executing basic commands using a UNIX shell. [Tips about how to login to hosts.](https://github.com/fabric-testbed/teaching-materials/blob/main/Getting%20Started.md)\n",
    "\n",
    "This is the second step in this assignment, to go to the previous step go to slice creation notebook or click [Here](./CreateSlice.ipynb) \n",
    "<br><img src=\"https://github.com/fabric-testbed/teaching-materials/blob/main/assignments/IPV4%20routing/figures/IPV4Top.png?raw=true\">\n",
    "<br>The goal of this exercise is to setup the routing as indicated in the figure above; i.e. packets from A sent to IP address 192.168.2.12 on node C should be routed via node B. In order to create this routing behavior you will need to modify the routing tables in your nodes using the [linux route command](https://www.hscripts.com/tutorials/linux-commands/route.html)"
   ]
  },
  {
   "cell_type": "markdown",
   "id": "9cd63d33-dfc5-4945-9833-c95ee7bc5457",
   "metadata": {
    "tags": []
   },
   "source": [
    "## 1. Retrieve Slice\n",
    "Create the slice at the [Create Slice Notebook](./CreateSlice.ipynb) and import it here.\n"
   ]
  },
  {
   "cell_type": "markdown",
   "id": "d982da77-bed0-4b00-b263-1288299c0b1e",
   "metadata": {},
   "source": [
    "#### Import the Fabric API"
   ]
  },
  {
   "cell_type": "code",
   "execution_count": null,
   "id": "f83cb316-2e4e-4936-8a36-43290ad52fcf",
   "metadata": {},
   "outputs": [],
   "source": [
    "# Load Fablib and Node Information\n",
    "from fabrictestbed_extensions.fablib.fablib import FablibManager as fablib_manager\n",
    "fablib = fablib_manager()                    \n",
    "fablib.show_config()\n",
    "import json\n",
    "import traceback\n",
    "\n",
    "slice_name = 'IPv4_Routing'\n",
    "try:\n",
    "    slice = fablib.get_slice(slice_name)   \n",
    "    slice.list_nodes()\n",
    "except Exception as e:\n",
    "    print(f\"Get Slices Fail: {e}\")"
   ]
  },
  {
   "cell_type": "markdown",
   "id": "b82973e4-3266-4e1d-8253-e972c0b09192",
   "metadata": {
    "jp-MarkdownHeadingCollapsed": true,
    "tags": []
   },
   "source": [
    "## 2. Assignment\n",
    "### 2.1 Routing Tables\n",
    "<br><img src=\"https://github.com/fabric-testbed/teaching-materials/blob/main/assignments/IPV4%20routing/figures/ExerciseIPv4.png?raw=true\"><br>\n",
    "The goal of this assignment is to understand what the effects of routing are and understand what the table represents. In this assignment you will set up the routing in the nodes as it was indicated in the figure above. Packets from A sent to IP address 192.168.2.12 on node C should be routed via node B. In order to create this routing behavior you will need to modify the routing tables in your nodes using the [linux route command](https://www.hscripts.com/tutorials/linux-commands/route.html)\n",
    "1. What happens when you traceroute from A to IP address 192.168.2.12 before you setup the static routes? Why?\n",
    "\t(Include the output of the traceroute in your writeup)\n",
    "2. Setup the routing from A to 192.68.2.12 so that it goes through B. Was it enough to just modify the routing tables? What else did you need to change in order for the traffic to flow? Ensure that you have connectivity by running a ping from A to 192.168.2.12\n",
    "\t(In your writeup include all the commands you ran and a screenshot of the routing configuration)\n",
    "3. What happens when you traceroute from A to IP address 192.168.2.12 after you setup the static routes?\n",
    "\t(In your writeup include a screenshot of the traceroute output.)\n",
    "\n"
   ]
  },
  {
   "cell_type": "markdown",
   "id": "06c929ec-8a0f-4033-8d72-0d975e66d472",
   "metadata": {
    "tags": []
   },
   "source": [
    "## Cleanup Resources"
   ]
  },
  {
   "cell_type": "code",
   "execution_count": null,
   "id": "552fbb0b-8982-4d57-883e-89b643517ab8",
   "metadata": {
    "tags": []
   },
   "outputs": [],
   "source": [
    "# Delete Slice\n",
    "try:\n",
    "    #To delete the slice change \"CHECK\" to \"True\", this is to prevent accidental slice deletion\n",
    "    CHECK = False\n",
    "    if (CHECK):\n",
    "        slice = fablib.get_slice(slice_name)\n",
    "        slice.delete()\n",
    "    else:\n",
    "        print(\"Change the Boolean to delete slice\")\n",
    "except Exception as e:\n",
    "    print(f\"Fail: {e}\")"
   ]
  }
 ],
 "metadata": {
  "kernelspec": {
   "display_name": "Python 3 (ipykernel)",
   "language": "python",
   "name": "python3"
  },
  "language_info": {
   "codemirror_mode": {
    "name": "ipython",
    "version": 3
   },
   "file_extension": ".py",
   "mimetype": "text/x-python",
   "name": "python",
   "nbconvert_exporter": "python",
   "pygments_lexer": "ipython3",
   "version": "3.10.6"
  }
 },
 "nbformat": 4,
 "nbformat_minor": 5
}
