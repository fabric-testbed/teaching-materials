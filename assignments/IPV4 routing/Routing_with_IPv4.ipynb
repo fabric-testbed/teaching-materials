{
 "cells": [
  {
   "cell_type": "markdown",
   "id": "2f0dfd3f-ff07-4be7-a4ae-484cd46a5e4b",
   "metadata": {
    "tags": []
   },
   "source": [
    "#  Routing with IPv4\n",
    "<i>Adapted for use with FABRIC from [IPv4 Routing Assignment](https://groups.geni.net/geni/wiki/GENIEducation/SampleAssignments/IPRouting/Procedure)</i>\n",
    "        \n",
    "<b> Prerequisites  </b>\n",
    "    \n",
    "* You need to have your FABRIC bastion host key pair set up to do this tutorial. If you have not already set this up, follow steps 1-5 at https://github.com/fabric-testbed/teaching-materials/blob/main/Getting%20Started.md#section-1-get-started.\n",
    "* You are comfortable using ssh and executing basic commands using a UNIX shell. [Tips about how to login to hosts.](https://github.com/fabric-testbed/teaching-materials/blob/main/Getting%20Started.md)\n",
    "\n",
    "This is the second step in this assignment, to go to the previous step go to slice creation notebook or click [Here](./CreateSlice.ipynb) \n",
    "<br><img src=\"./figures/AA.png\">\n",
    "<br>The goal of this exercise is to setup the routing as indicated in the figure above; i.e. packets from A sent to IP address 192.168.2.12 on node C should be routed via node B. In order to create this routing behavior you will need to modify the routing tables in your nodes using the [linux route command](https://www.hscripts.com/tutorials/linux-commands/route.html)"
   ]
  },
  {
   "cell_type": "markdown",
   "id": "9cd63d33-dfc5-4945-9833-c95ee7bc5457",
   "metadata": {
    "tags": []
   },
   "source": [
    "## 1. Set up the Experiment\n",
    "\n",
    "### 1.1 Reserve Resources"
   ]
  },
  {
   "cell_type": "markdown",
   "id": "d982da77-bed0-4b00-b263-1288299c0b1e",
   "metadata": {},
   "source": [
    "#### Import the Fabric API"
   ]
  },
  {
   "cell_type": "code",
   "execution_count": null,
   "id": "606801d0-66c7-43be-9f95-2e0fcccf13c8",
   "metadata": {},
   "outputs": [],
   "source": [
    "from fabrictestbed_extensions.fablib.fablib import FablibManager as fablib_manager\n",
    "\n",
    "fablib = fablib_manager()\n",
    "                     \n",
    "fablib.show_config()\n",
    "\n",
    "import json\n",
    "import traceback"
   ]
  },
  {
   "cell_type": "markdown",
   "id": "343a577e-2c4a-419a-a84c-2fbac4d5f557",
   "metadata": {},
   "source": [
    "####  Retrieve Slice\n",
    "Create the slice at the [Create Slice Notebook](./CreateSlice.ipynb) and import it here.\n"
   ]
  },
  {
   "cell_type": "code",
   "execution_count": null,
   "id": "f83cb316-2e4e-4936-8a36-43290ad52fcf",
   "metadata": {},
   "outputs": [],
   "source": [
    "slice_name = 'IPv4_Routing'\n",
    "try:\n",
    "    slice = fablib.get_slice(slice_name)   \n",
    "    slice.list_nodes()\n",
    "except Exception as e:\n",
    "    print(f\"Get Slices Fail: {e}\")"
   ]
  },
  {
   "cell_type": "markdown",
   "id": "03f5f7d8-ed81-4f4b-b9cb-207d1c9547e0",
   "metadata": {},
   "source": [
    "## 1.2 Setup the node network\n",
    "### 1.2.1 Give each node an address"
   ]
  },
  {
   "cell_type": "code",
   "execution_count": null,
   "id": "5a0d87ab-ddee-4d25-a3d2-eceb4c5ecba1",
   "metadata": {},
   "outputs": [],
   "source": [
    "from ipaddress import ip_address, IPv4Address, IPv6Address, IPv4Network, IPv6Network\n",
    "\n",
    "subnet1 = IPv4Network(\"192.168.1.0/24\")\n",
    "subnet2 = IPv4Network(\"192.168.2.0/24\")\n",
    "subnet3 = IPv4Network(\"192.168.3.0/24\")\n",
    "\n",
    "Ctrl_Network = 'Controll_Conn'"
   ]
  },
  {
   "cell_type": "code",
   "execution_count": null,
   "id": "dc4138a3-dfde-4dab-86fb-9b5f1685f163",
   "metadata": {
    "scrolled": true,
    "tags": []
   },
   "outputs": [],
   "source": [
    "# configure nodes\n",
    "try:\n",
    "    NDA = slice.get_node('ND_A')\n",
    "    NDB = slice.get_node('ND_B')\n",
    "    NDC = slice.get_node('ND_C')\n",
    "    \n",
    "    #NDA\n",
    "    A_iface = NDA.get_interface(network_name='Lan_AB')  \n",
    "    A_iface.ip_addr_add(addr='192.168.1.10', subnet=subnet1)\n",
    "    A_iface = NDA.get_interface(network_name='Lan_CA')  \n",
    "    A_iface.ip_addr_add(addr='192.168.3.10', subnet=subnet3)\n",
    "    \n",
    "    #NDB\n",
    "    B_iface = NDB.get_interface(network_name='Lan_AB')  \n",
    "    B_iface.ip_addr_add(addr='192.168.1.11', subnet=subnet1)\n",
    "    B_iface = NDB.get_interface(network_name='Lan_BC')  \n",
    "    B_iface.ip_addr_add(addr='192.168.2.11', subnet=subnet2)\n",
    "    \n",
    "    #NDC\n",
    "    C_iface = NDC.get_interface(network_name='Lan_CA')  \n",
    "    C_iface.ip_addr_add(addr='192.168.3.12', subnet=subnet3)    \n",
    "    C_iface = NDC.get_interface(network_name='Lan_BC')  \n",
    "    C_iface.ip_addr_add(addr='192.168.2.12', subnet=subnet2)    \n",
    "    \n",
    "    \n",
    "    for node in slice.get_nodes():  \n",
    "        for interface in node.get_interfaces():\n",
    "            stdout, stderr = node.execute(f'sudo ip link set dev { interface.get_device_name()} up')\n",
    "        \n",
    "        print(f\"Network status at node {node.get_name()}\")\n",
    "        node.execute(\"ip a\")      \n",
    "        \n",
    "        #install route and traceroute\n",
    "        node.execute(\"sudo apt update\")\n",
    "        node.execute(\"sudo apt install -y net-tools\")\n",
    "        node.execute(\"sudo apt install -y traceroute\")\n",
    "        \n",
    "        node.execute(\"sudo sysctl -w net.ipv4.ip_forward=1\")\n",
    "    \n",
    "except Exception as e:\n",
    "    print(f\"Fail: {e}\")"
   ]
  },
  {
   "cell_type": "markdown",
   "id": "b82973e4-3266-4e1d-8253-e972c0b09192",
   "metadata": {
    "jp-MarkdownHeadingCollapsed": true,
    "tags": []
   },
   "source": [
    "## 2. Run Assignment\n",
    "### 2.1 Routing Tables\n",
    "The goal of this assignment is to understand what the effects of routing are and understand what the table represents. In this assignment you will set up the routing in the nodes as it was indicated in the figure above. Packets from A sent to IP address 192.168.2.12 on node C should be routed via node B. In order to create this routing behavior you will need to modify the routing tables in your nodes using the [linux route command](https://www.hscripts.com/tutorials/linux-commands/route.html)\n",
    "1. What happens when you traceroute from A to IP address 192.168.2.12 before you setup the static routes? Why?\n",
    "\t(Include the output of the traceroute in your writeup)\n",
    "2. Setup the routing from A to 192.68.2.12 so that it goes through B. Was it enough to just modify the routing tables? What else did you need to change in order for the traffic to flow? Ensure that you have connectivity by running a ping from A to 192.168.2.12\n",
    "\t(In your writeup include all the commands you ran and a screenshot of the routing configuration)\n",
    "3. What happens when you traceroute from A to IP address 192.168.2.12 after you setup the static routes?\n",
    "\t(In your writeup include a screenshot of the traceroute output.)\n",
    "\n"
   ]
  },
  {
   "cell_type": "markdown",
   "id": "06c929ec-8a0f-4033-8d72-0d975e66d472",
   "metadata": {
    "tags": []
   },
   "source": [
    "## Cleanup Resources"
   ]
  },
  {
   "cell_type": "code",
   "execution_count": null,
   "id": "552fbb0b-8982-4d57-883e-89b643517ab8",
   "metadata": {
    "tags": []
   },
   "outputs": [],
   "source": [
    "try:\n",
    "    #To delete the slice change \"CHECK\" to \"True\", this is to prevent accidental slice deletion\n",
    "    CHECK = False\n",
    "    if (CHECK):\n",
    "        slice = fablib.get_slice(slice_name)\n",
    "        slice.delete()\n",
    "    else:\n",
    "        print(\"Change the variable to delete slice\")\n",
    "except Exception as e:\n",
    "    print(f\"Fail: {e}\")"
   ]
  },
  {
   "cell_type": "code",
   "execution_count": null,
   "id": "6a7373b2-f54d-454b-b12f-7daf5d9d889f",
   "metadata": {},
   "outputs": [],
   "source": []
  }
 ],
 "metadata": {
  "kernelspec": {
   "display_name": "Python 3 (ipykernel)",
   "language": "python",
   "name": "python3"
  },
  "language_info": {
   "codemirror_mode": {
    "name": "ipython",
    "version": 3
   },
   "file_extension": ".py",
   "mimetype": "text/x-python",
   "name": "python",
   "nbconvert_exporter": "python",
   "pygments_lexer": "ipython3",
   "version": "3.10.6"
  }
 },
 "nbformat": 4,
 "nbformat_minor": 5
}
